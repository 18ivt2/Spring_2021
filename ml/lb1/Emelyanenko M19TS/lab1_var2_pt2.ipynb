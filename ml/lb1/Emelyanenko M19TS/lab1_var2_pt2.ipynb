{
 "cells": [
  {
   "cell_type": "markdown",
   "metadata": {},
   "source": [
    "# Markdown\n",
    "\n",
    "## Это второй уровень\n",
    "\n",
    "Тут абзац\n",
    "\n",
    "# Певый уровень #\n",
    "## Это второй уровень\n",
    "### Третий\n",
    "#### Четвертый\n",
    "##### Пятый\n",
    "###### Шестой\n",
    "\n",
    "Абзац"
   ]
  },
  {
   "cell_type": "markdown",
   "metadata": {},
   "source": [
    "# Списки #\n",
    "- раз \n",
    "- два\n",
    "- три\n",
    "\n",
    "* раз\n",
    "    * раз_раз\n",
    "* два\n",
    "    * два_раз\n",
    "* три\n",
    "    * три_раз\n",
    "* четыре\n",
    "    * четыре_раз"
   ]
  },
  {
   "cell_type": "code",
   "execution_count": null,
   "metadata": {},
   "outputs": [],
   "source": []
  }
 ],
 "metadata": {
  "kernelspec": {
   "display_name": "Python 3",
   "language": "python",
   "name": "python3"
  },
  "language_info": {
   "codemirror_mode": {
    "name": "ipython",
    "version": 3
   },
   "file_extension": ".py",
   "mimetype": "text/x-python",
   "name": "python",
   "nbconvert_exporter": "python",
   "pygments_lexer": "ipython3",
   "version": "3.8.7"
  }
 },
 "nbformat": 4,
 "nbformat_minor": 4
}
