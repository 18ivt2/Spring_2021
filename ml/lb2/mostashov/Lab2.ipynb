{
 "cells": [
  {
   "cell_type": "markdown",
   "metadata": {},
   "source": [
    "# Мосташов Вячеслав Сергеевич Вариант 5\n",
    "## Метеоритная защита земли\n",
    "1. Определите местоположение появления метеорита с наибольшим количеством высвободившейся энергии.\n",
    "2. Определите метеорит с максимальнойи минимальной скоростью.\n",
    "3. Определите место максимальной концентрации метеоритов.\n",
    "4. Определите время года, в которое вероятность появления метеоритов максимальна. Постройте график.\n",
    "5. Удалите строки данных, в которых для метеоритов не указана скорость. Выведите размер набора данных до и после удаления.\n",
    "6. Построить график, на котором по оси ОХ отложено время суток, по OY–частота появления метеоритов.\n",
    "7. Заполните строки в которых для метеоритов не указана скорость.\n",
    "8. Определите месяц года, для которого появление метеоритов наиболее вероятно (постройте необходимые графики).\n",
    "9. Вычислите корреляцию Пирсона и Спирмена между признакамиAltitude и Total Radiated Energy. Сравните полученные величины корреляции. Постройте гистограммы для указанных признаков. Оцените значение p-value.\n"
   ]
  },
  {
   "cell_type": "code",
   "execution_count": 65,
   "metadata": {},
   "outputs": [],
   "source": [
    "import pandas as pd\n",
    "import matplotlib.pyplot as plt\n",
    "from scipy import stats\n",
    "df = pd.read_csv('cneos_fireball_data.csv')"
   ]
  },
  {
   "cell_type": "code",
   "execution_count": 66,
   "metadata": {},
   "outputs": [
    {
     "data": {
      "text/html": [
       "<div>\n",
       "<style scoped>\n",
       "    .dataframe tbody tr th:only-of-type {\n",
       "        vertical-align: middle;\n",
       "    }\n",
       "\n",
       "    .dataframe tbody tr th {\n",
       "        vertical-align: top;\n",
       "    }\n",
       "\n",
       "    .dataframe thead th {\n",
       "        text-align: right;\n",
       "    }\n",
       "</style>\n",
       "<table border=\"1\" class=\"dataframe\">\n",
       "  <thead>\n",
       "    <tr style=\"text-align: right;\">\n",
       "      <th></th>\n",
       "      <th>Peak Brightness Date/Time (UT)</th>\n",
       "      <th>Latitude (deg.)</th>\n",
       "      <th>Longitude (deg.)</th>\n",
       "      <th>Altitude (km)</th>\n",
       "      <th>Velocity (km/s)</th>\n",
       "      <th>vx</th>\n",
       "      <th>vy</th>\n",
       "      <th>vz</th>\n",
       "      <th>Total Radiated Energy (J)</th>\n",
       "      <th>Calculated Total Impact Energy (kt)</th>\n",
       "    </tr>\n",
       "  </thead>\n",
       "  <tbody>\n",
       "    <tr>\n",
       "      <th>0</th>\n",
       "      <td>2017-07-31 22:01:35</td>\n",
       "      <td>24.7N</td>\n",
       "      <td>118.5W</td>\n",
       "      <td>NaN</td>\n",
       "      <td>NaN</td>\n",
       "      <td>NaN</td>\n",
       "      <td>NaN</td>\n",
       "      <td>NaN</td>\n",
       "      <td>5.800000e+10</td>\n",
       "      <td>0.19</td>\n",
       "    </tr>\n",
       "    <tr>\n",
       "      <th>1</th>\n",
       "      <td>2017-07-23 06:12:38</td>\n",
       "      <td>6.6S</td>\n",
       "      <td>69.7W</td>\n",
       "      <td>38.0</td>\n",
       "      <td>17.2</td>\n",
       "      <td>-0.4</td>\n",
       "      <td>8.7</td>\n",
       "      <td>-14.8</td>\n",
       "      <td>3.500000e+10</td>\n",
       "      <td>0.12</td>\n",
       "    </tr>\n",
       "    <tr>\n",
       "      <th>2</th>\n",
       "      <td>2017-07-13 09:30:36</td>\n",
       "      <td>23.1N</td>\n",
       "      <td>60.7E</td>\n",
       "      <td>35.0</td>\n",
       "      <td>13.7</td>\n",
       "      <td>-10.0</td>\n",
       "      <td>-6.5</td>\n",
       "      <td>-6.8</td>\n",
       "      <td>7.300000e+10</td>\n",
       "      <td>0.23</td>\n",
       "    </tr>\n",
       "    <tr>\n",
       "      <th>3</th>\n",
       "      <td>2017-06-30 14:26:45</td>\n",
       "      <td>34.3S</td>\n",
       "      <td>134.5E</td>\n",
       "      <td>20.0</td>\n",
       "      <td>15.2</td>\n",
       "      <td>10.9</td>\n",
       "      <td>-9.7</td>\n",
       "      <td>4.2</td>\n",
       "      <td>9.400000e+10</td>\n",
       "      <td>0.29</td>\n",
       "    </tr>\n",
       "    <tr>\n",
       "      <th>4</th>\n",
       "      <td>2017-06-23 20:21:55</td>\n",
       "      <td>57.0N</td>\n",
       "      <td>143.7E</td>\n",
       "      <td>35.1</td>\n",
       "      <td>24.3</td>\n",
       "      <td>17.7</td>\n",
       "      <td>13.1</td>\n",
       "      <td>-10.3</td>\n",
       "      <td>1.840000e+11</td>\n",
       "      <td>0.52</td>\n",
       "    </tr>\n",
       "  </tbody>\n",
       "</table>\n",
       "</div>"
      ],
      "text/plain": [
       "  Peak Brightness Date/Time (UT) Latitude (deg.) Longitude (deg.)  \\\n",
       "0            2017-07-31 22:01:35           24.7N           118.5W   \n",
       "1            2017-07-23 06:12:38            6.6S            69.7W   \n",
       "2            2017-07-13 09:30:36           23.1N            60.7E   \n",
       "3            2017-06-30 14:26:45           34.3S           134.5E   \n",
       "4            2017-06-23 20:21:55           57.0N           143.7E   \n",
       "\n",
       "   Altitude (km)  Velocity (km/s)    vx    vy    vz  \\\n",
       "0            NaN              NaN   NaN   NaN   NaN   \n",
       "1           38.0             17.2  -0.4   8.7 -14.8   \n",
       "2           35.0             13.7 -10.0  -6.5  -6.8   \n",
       "3           20.0             15.2  10.9  -9.7   4.2   \n",
       "4           35.1             24.3  17.7  13.1 -10.3   \n",
       "\n",
       "   Total Radiated Energy (J)  Calculated Total Impact Energy (kt)  \n",
       "0               5.800000e+10                                 0.19  \n",
       "1               3.500000e+10                                 0.12  \n",
       "2               7.300000e+10                                 0.23  \n",
       "3               9.400000e+10                                 0.29  \n",
       "4               1.840000e+11                                 0.52  "
      ]
     },
     "execution_count": 66,
     "metadata": {},
     "output_type": "execute_result"
    }
   ],
   "source": [
    "df.head()"
   ]
  },
  {
   "cell_type": "code",
   "execution_count": 67,
   "metadata": {},
   "outputs": [
    {
     "data": {
      "text/html": [
       "<div>\n",
       "<style scoped>\n",
       "    .dataframe tbody tr th:only-of-type {\n",
       "        vertical-align: middle;\n",
       "    }\n",
       "\n",
       "    .dataframe tbody tr th {\n",
       "        vertical-align: top;\n",
       "    }\n",
       "\n",
       "    .dataframe thead th {\n",
       "        text-align: right;\n",
       "    }\n",
       "</style>\n",
       "<table border=\"1\" class=\"dataframe\">\n",
       "  <thead>\n",
       "    <tr style=\"text-align: right;\">\n",
       "      <th></th>\n",
       "      <th>Peak Brightness Date/Time (UT)</th>\n",
       "      <th>Latitude (deg.)</th>\n",
       "      <th>Longitude (deg.)</th>\n",
       "      <th>Altitude (km)</th>\n",
       "      <th>Velocity (km/s)</th>\n",
       "      <th>vx</th>\n",
       "      <th>vy</th>\n",
       "      <th>vz</th>\n",
       "      <th>Total Radiated Energy (J)</th>\n",
       "      <th>Calculated Total Impact Energy (kt)</th>\n",
       "    </tr>\n",
       "  </thead>\n",
       "  <tbody>\n",
       "    <tr>\n",
       "      <th>714</th>\n",
       "      <td>1993-11-29 17:48:41</td>\n",
       "      <td>26.5N</td>\n",
       "      <td>78.3E</td>\n",
       "      <td>NaN</td>\n",
       "      <td>NaN</td>\n",
       "      <td>NaN</td>\n",
       "      <td>NaN</td>\n",
       "      <td>NaN</td>\n",
       "      <td>2.600000e+10</td>\n",
       "      <td>0.092</td>\n",
       "    </tr>\n",
       "    <tr>\n",
       "      <th>715</th>\n",
       "      <td>1993-10-31 03:39:27</td>\n",
       "      <td>51.3N</td>\n",
       "      <td>100.9W</td>\n",
       "      <td>NaN</td>\n",
       "      <td>NaN</td>\n",
       "      <td>NaN</td>\n",
       "      <td>NaN</td>\n",
       "      <td>NaN</td>\n",
       "      <td>4.000000e+10</td>\n",
       "      <td>0.130</td>\n",
       "    </tr>\n",
       "    <tr>\n",
       "      <th>716</th>\n",
       "      <td>1991-10-04 09:22:47</td>\n",
       "      <td>78.7N</td>\n",
       "      <td>6.3E</td>\n",
       "      <td>NaN</td>\n",
       "      <td>NaN</td>\n",
       "      <td>NaN</td>\n",
       "      <td>NaN</td>\n",
       "      <td>NaN</td>\n",
       "      <td>5.500000e+11</td>\n",
       "      <td>1.400</td>\n",
       "    </tr>\n",
       "    <tr>\n",
       "      <th>717</th>\n",
       "      <td>1990-10-01 03:51:47</td>\n",
       "      <td>7.5N</td>\n",
       "      <td>142.8E</td>\n",
       "      <td>NaN</td>\n",
       "      <td>NaN</td>\n",
       "      <td>NaN</td>\n",
       "      <td>NaN</td>\n",
       "      <td>NaN</td>\n",
       "      <td>2.500000e+12</td>\n",
       "      <td>5.200</td>\n",
       "    </tr>\n",
       "    <tr>\n",
       "      <th>718</th>\n",
       "      <td>1988-04-15 03:03:10</td>\n",
       "      <td>4.1S</td>\n",
       "      <td>124.3E</td>\n",
       "      <td>NaN</td>\n",
       "      <td>NaN</td>\n",
       "      <td>NaN</td>\n",
       "      <td>NaN</td>\n",
       "      <td>NaN</td>\n",
       "      <td>7.580000e+12</td>\n",
       "      <td>14.000</td>\n",
       "    </tr>\n",
       "  </tbody>\n",
       "</table>\n",
       "</div>"
      ],
      "text/plain": [
       "    Peak Brightness Date/Time (UT) Latitude (deg.) Longitude (deg.)  \\\n",
       "714            1993-11-29 17:48:41           26.5N            78.3E   \n",
       "715            1993-10-31 03:39:27           51.3N           100.9W   \n",
       "716            1991-10-04 09:22:47           78.7N             6.3E   \n",
       "717            1990-10-01 03:51:47            7.5N           142.8E   \n",
       "718            1988-04-15 03:03:10            4.1S           124.3E   \n",
       "\n",
       "     Altitude (km)  Velocity (km/s)  vx  vy  vz  Total Radiated Energy (J)  \\\n",
       "714            NaN              NaN NaN NaN NaN               2.600000e+10   \n",
       "715            NaN              NaN NaN NaN NaN               4.000000e+10   \n",
       "716            NaN              NaN NaN NaN NaN               5.500000e+11   \n",
       "717            NaN              NaN NaN NaN NaN               2.500000e+12   \n",
       "718            NaN              NaN NaN NaN NaN               7.580000e+12   \n",
       "\n",
       "     Calculated Total Impact Energy (kt)  \n",
       "714                                0.092  \n",
       "715                                0.130  \n",
       "716                                1.400  \n",
       "717                                5.200  \n",
       "718                               14.000  "
      ]
     },
     "execution_count": 67,
     "metadata": {},
     "output_type": "execute_result"
    }
   ],
   "source": [
    "df.tail()"
   ]
  },
  {
   "cell_type": "code",
   "execution_count": 68,
   "metadata": {},
   "outputs": [
    {
     "name": "stdout",
     "output_type": "stream",
     "text": [
      "<class 'pandas.core.frame.DataFrame'>\n",
      "RangeIndex: 719 entries, 0 to 718\n",
      "Data columns (total 10 columns):\n",
      " #   Column                               Non-Null Count  Dtype  \n",
      "---  ------                               --------------  -----  \n",
      " 0   Peak Brightness Date/Time (UT)       719 non-null    object \n",
      " 1   Latitude (deg.)                      539 non-null    object \n",
      " 2   Longitude (deg.)                     539 non-null    object \n",
      " 3   Altitude (km)                        307 non-null    float64\n",
      " 4   Velocity (km/s)                      157 non-null    float64\n",
      " 5   vx                                   157 non-null    float64\n",
      " 6   vy                                   157 non-null    float64\n",
      " 7   vz                                   157 non-null    float64\n",
      " 8   Total Radiated Energy (J)            719 non-null    float64\n",
      " 9   Calculated Total Impact Energy (kt)  719 non-null    float64\n",
      "dtypes: float64(7), object(3)\n",
      "memory usage: 56.3+ KB\n"
     ]
    }
   ],
   "source": [
    "df.info()"
   ]
  },
  {
   "cell_type": "code",
   "execution_count": 69,
   "metadata": {},
   "outputs": [
    {
     "data": {
      "text/html": [
       "<div>\n",
       "<style scoped>\n",
       "    .dataframe tbody tr th:only-of-type {\n",
       "        vertical-align: middle;\n",
       "    }\n",
       "\n",
       "    .dataframe tbody tr th {\n",
       "        vertical-align: top;\n",
       "    }\n",
       "\n",
       "    .dataframe thead th {\n",
       "        text-align: right;\n",
       "    }\n",
       "</style>\n",
       "<table border=\"1\" class=\"dataframe\">\n",
       "  <thead>\n",
       "    <tr style=\"text-align: right;\">\n",
       "      <th></th>\n",
       "      <th>Altitude (km)</th>\n",
       "      <th>Velocity (km/s)</th>\n",
       "      <th>vx</th>\n",
       "      <th>vy</th>\n",
       "      <th>vz</th>\n",
       "      <th>Total Radiated Energy (J)</th>\n",
       "      <th>Calculated Total Impact Energy (kt)</th>\n",
       "    </tr>\n",
       "  </thead>\n",
       "  <tbody>\n",
       "    <tr>\n",
       "      <th>count</th>\n",
       "      <td>307.000000</td>\n",
       "      <td>157.000000</td>\n",
       "      <td>157.000000</td>\n",
       "      <td>157.000000</td>\n",
       "      <td>157.000000</td>\n",
       "      <td>7.190000e+02</td>\n",
       "      <td>719.000000</td>\n",
       "    </tr>\n",
       "    <tr>\n",
       "      <th>mean</th>\n",
       "      <td>36.511726</td>\n",
       "      <td>17.950318</td>\n",
       "      <td>0.310828</td>\n",
       "      <td>-2.388535</td>\n",
       "      <td>-1.031847</td>\n",
       "      <td>8.812462e+11</td>\n",
       "      <td>1.387638</td>\n",
       "    </tr>\n",
       "    <tr>\n",
       "      <th>std</th>\n",
       "      <td>10.649462</td>\n",
       "      <td>6.057382</td>\n",
       "      <td>10.825425</td>\n",
       "      <td>11.415896</td>\n",
       "      <td>10.419010</td>\n",
       "      <td>1.405769e+13</td>\n",
       "      <td>16.598496</td>\n",
       "    </tr>\n",
       "    <tr>\n",
       "      <th>min</th>\n",
       "      <td>15.200000</td>\n",
       "      <td>9.800000</td>\n",
       "      <td>-35.400000</td>\n",
       "      <td>-43.500000</td>\n",
       "      <td>-28.700000</td>\n",
       "      <td>2.000000e+10</td>\n",
       "      <td>0.073000</td>\n",
       "    </tr>\n",
       "    <tr>\n",
       "      <th>25%</th>\n",
       "      <td>29.600000</td>\n",
       "      <td>13.700000</td>\n",
       "      <td>-7.300000</td>\n",
       "      <td>-11.200000</td>\n",
       "      <td>-9.100000</td>\n",
       "      <td>3.300000e+10</td>\n",
       "      <td>0.110000</td>\n",
       "    </tr>\n",
       "    <tr>\n",
       "      <th>50%</th>\n",
       "      <td>35.200000</td>\n",
       "      <td>16.900000</td>\n",
       "      <td>0.100000</td>\n",
       "      <td>-2.300000</td>\n",
       "      <td>0.300000</td>\n",
       "      <td>6.800000e+10</td>\n",
       "      <td>0.220000</td>\n",
       "    </tr>\n",
       "    <tr>\n",
       "      <th>75%</th>\n",
       "      <td>40.700000</td>\n",
       "      <td>19.800000</td>\n",
       "      <td>9.100000</td>\n",
       "      <td>4.800000</td>\n",
       "      <td>6.700000</td>\n",
       "      <td>1.510000e+11</td>\n",
       "      <td>0.440000</td>\n",
       "    </tr>\n",
       "    <tr>\n",
       "      <th>max</th>\n",
       "      <td>74.000000</td>\n",
       "      <td>49.000000</td>\n",
       "      <td>21.500000</td>\n",
       "      <td>25.800000</td>\n",
       "      <td>23.700000</td>\n",
       "      <td>3.750000e+14</td>\n",
       "      <td>440.000000</td>\n",
       "    </tr>\n",
       "  </tbody>\n",
       "</table>\n",
       "</div>"
      ],
      "text/plain": [
       "       Altitude (km)  Velocity (km/s)          vx          vy          vz  \\\n",
       "count     307.000000       157.000000  157.000000  157.000000  157.000000   \n",
       "mean       36.511726        17.950318    0.310828   -2.388535   -1.031847   \n",
       "std        10.649462         6.057382   10.825425   11.415896   10.419010   \n",
       "min        15.200000         9.800000  -35.400000  -43.500000  -28.700000   \n",
       "25%        29.600000        13.700000   -7.300000  -11.200000   -9.100000   \n",
       "50%        35.200000        16.900000    0.100000   -2.300000    0.300000   \n",
       "75%        40.700000        19.800000    9.100000    4.800000    6.700000   \n",
       "max        74.000000        49.000000   21.500000   25.800000   23.700000   \n",
       "\n",
       "       Total Radiated Energy (J)  Calculated Total Impact Energy (kt)  \n",
       "count               7.190000e+02                           719.000000  \n",
       "mean                8.812462e+11                             1.387638  \n",
       "std                 1.405769e+13                            16.598496  \n",
       "min                 2.000000e+10                             0.073000  \n",
       "25%                 3.300000e+10                             0.110000  \n",
       "50%                 6.800000e+10                             0.220000  \n",
       "75%                 1.510000e+11                             0.440000  \n",
       "max                 3.750000e+14                           440.000000  "
      ]
     },
     "execution_count": 69,
     "metadata": {},
     "output_type": "execute_result"
    }
   ],
   "source": [
    "df.describe()"
   ]
  },
  {
   "cell_type": "code",
   "execution_count": 70,
   "metadata": {},
   "outputs": [
    {
     "data": {
      "text/html": [
       "<div>\n",
       "<style scoped>\n",
       "    .dataframe tbody tr th:only-of-type {\n",
       "        vertical-align: middle;\n",
       "    }\n",
       "\n",
       "    .dataframe tbody tr th {\n",
       "        vertical-align: top;\n",
       "    }\n",
       "\n",
       "    .dataframe thead th {\n",
       "        text-align: right;\n",
       "    }\n",
       "</style>\n",
       "<table border=\"1\" class=\"dataframe\">\n",
       "  <thead>\n",
       "    <tr style=\"text-align: right;\">\n",
       "      <th></th>\n",
       "      <th>Peak Brightness Date/Time (UT)</th>\n",
       "      <th>Latitude (deg.)</th>\n",
       "      <th>Longitude (deg.)</th>\n",
       "      <th>Altitude (km)</th>\n",
       "      <th>Velocity (km/s)</th>\n",
       "      <th>vx</th>\n",
       "      <th>vy</th>\n",
       "      <th>vz</th>\n",
       "      <th>Total Radiated Energy (J)</th>\n",
       "      <th>Calculated Total Impact Energy (kt)</th>\n",
       "    </tr>\n",
       "  </thead>\n",
       "  <tbody>\n",
       "    <tr>\n",
       "      <th>1</th>\n",
       "      <td>2017-07-23 06:12:38</td>\n",
       "      <td>6.6S</td>\n",
       "      <td>69.7W</td>\n",
       "      <td>38.0</td>\n",
       "      <td>17.2</td>\n",
       "      <td>-0.4</td>\n",
       "      <td>8.7</td>\n",
       "      <td>-14.8</td>\n",
       "      <td>3.500000e+10</td>\n",
       "      <td>0.12</td>\n",
       "    </tr>\n",
       "    <tr>\n",
       "      <th>2</th>\n",
       "      <td>2017-07-13 09:30:36</td>\n",
       "      <td>23.1N</td>\n",
       "      <td>60.7E</td>\n",
       "      <td>35.0</td>\n",
       "      <td>13.7</td>\n",
       "      <td>-10.0</td>\n",
       "      <td>-6.5</td>\n",
       "      <td>-6.8</td>\n",
       "      <td>7.300000e+10</td>\n",
       "      <td>0.23</td>\n",
       "    </tr>\n",
       "    <tr>\n",
       "      <th>3</th>\n",
       "      <td>2017-06-30 14:26:45</td>\n",
       "      <td>34.3S</td>\n",
       "      <td>134.5E</td>\n",
       "      <td>20.0</td>\n",
       "      <td>15.2</td>\n",
       "      <td>10.9</td>\n",
       "      <td>-9.7</td>\n",
       "      <td>4.2</td>\n",
       "      <td>9.400000e+10</td>\n",
       "      <td>0.29</td>\n",
       "    </tr>\n",
       "    <tr>\n",
       "      <th>4</th>\n",
       "      <td>2017-06-23 20:21:55</td>\n",
       "      <td>57.0N</td>\n",
       "      <td>143.7E</td>\n",
       "      <td>35.1</td>\n",
       "      <td>24.3</td>\n",
       "      <td>17.7</td>\n",
       "      <td>13.1</td>\n",
       "      <td>-10.3</td>\n",
       "      <td>1.840000e+11</td>\n",
       "      <td>0.52</td>\n",
       "    </tr>\n",
       "    <tr>\n",
       "      <th>5</th>\n",
       "      <td>2017-06-20 13:41:32</td>\n",
       "      <td>54.2S</td>\n",
       "      <td>133.0E</td>\n",
       "      <td>33.3</td>\n",
       "      <td>13.6</td>\n",
       "      <td>8.7</td>\n",
       "      <td>-5.7</td>\n",
       "      <td>8.8</td>\n",
       "      <td>6.360000e+11</td>\n",
       "      <td>1.60</td>\n",
       "    </tr>\n",
       "    <tr>\n",
       "      <th>...</th>\n",
       "      <td>...</td>\n",
       "      <td>...</td>\n",
       "      <td>...</td>\n",
       "      <td>...</td>\n",
       "      <td>...</td>\n",
       "      <td>...</td>\n",
       "      <td>...</td>\n",
       "      <td>...</td>\n",
       "      <td>...</td>\n",
       "      <td>...</td>\n",
       "    </tr>\n",
       "    <tr>\n",
       "      <th>450</th>\n",
       "      <td>2004-04-22 04:21:49</td>\n",
       "      <td>44.3S</td>\n",
       "      <td>83.3E</td>\n",
       "      <td>29.6</td>\n",
       "      <td>16.3</td>\n",
       "      <td>8.5</td>\n",
       "      <td>-12.1</td>\n",
       "      <td>-6.8</td>\n",
       "      <td>6.240000e+11</td>\n",
       "      <td>1.50</td>\n",
       "    </tr>\n",
       "    <tr>\n",
       "      <th>451</th>\n",
       "      <td>2004-04-06 03:24:49</td>\n",
       "      <td>12.0S</td>\n",
       "      <td>162.8E</td>\n",
       "      <td>35.0</td>\n",
       "      <td>25.6</td>\n",
       "      <td>10.5</td>\n",
       "      <td>-23.2</td>\n",
       "      <td>-2.9</td>\n",
       "      <td>4.330000e+11</td>\n",
       "      <td>1.10</td>\n",
       "    </tr>\n",
       "    <tr>\n",
       "      <th>462</th>\n",
       "      <td>2003-11-10 13:54:06</td>\n",
       "      <td>64.5S</td>\n",
       "      <td>136.2E</td>\n",
       "      <td>23.0</td>\n",
       "      <td>20.1</td>\n",
       "      <td>14.8</td>\n",
       "      <td>-8.7</td>\n",
       "      <td>10.4</td>\n",
       "      <td>5.180000e+11</td>\n",
       "      <td>1.30</td>\n",
       "    </tr>\n",
       "    <tr>\n",
       "      <th>467</th>\n",
       "      <td>2003-09-27 12:59:02</td>\n",
       "      <td>21.0N</td>\n",
       "      <td>86.6E</td>\n",
       "      <td>26.0</td>\n",
       "      <td>18.2</td>\n",
       "      <td>-1.0</td>\n",
       "      <td>-5.4</td>\n",
       "      <td>-17.3</td>\n",
       "      <td>2.150000e+12</td>\n",
       "      <td>4.60</td>\n",
       "    </tr>\n",
       "    <tr>\n",
       "      <th>626</th>\n",
       "      <td>1998-01-04 23:00:27</td>\n",
       "      <td>35.1S</td>\n",
       "      <td>33.4E</td>\n",
       "      <td>30.0</td>\n",
       "      <td>17.1</td>\n",
       "      <td>6.0</td>\n",
       "      <td>-10.6</td>\n",
       "      <td>12.0</td>\n",
       "      <td>7.400000e+10</td>\n",
       "      <td>0.23</td>\n",
       "    </tr>\n",
       "  </tbody>\n",
       "</table>\n",
       "<p>155 rows × 10 columns</p>\n",
       "</div>"
      ],
      "text/plain": [
       "    Peak Brightness Date/Time (UT) Latitude (deg.) Longitude (deg.)  \\\n",
       "1              2017-07-23 06:12:38            6.6S            69.7W   \n",
       "2              2017-07-13 09:30:36           23.1N            60.7E   \n",
       "3              2017-06-30 14:26:45           34.3S           134.5E   \n",
       "4              2017-06-23 20:21:55           57.0N           143.7E   \n",
       "5              2017-06-20 13:41:32           54.2S           133.0E   \n",
       "..                             ...             ...              ...   \n",
       "450            2004-04-22 04:21:49           44.3S            83.3E   \n",
       "451            2004-04-06 03:24:49           12.0S           162.8E   \n",
       "462            2003-11-10 13:54:06           64.5S           136.2E   \n",
       "467            2003-09-27 12:59:02           21.0N            86.6E   \n",
       "626            1998-01-04 23:00:27           35.1S            33.4E   \n",
       "\n",
       "     Altitude (km)  Velocity (km/s)    vx    vy    vz  \\\n",
       "1             38.0             17.2  -0.4   8.7 -14.8   \n",
       "2             35.0             13.7 -10.0  -6.5  -6.8   \n",
       "3             20.0             15.2  10.9  -9.7   4.2   \n",
       "4             35.1             24.3  17.7  13.1 -10.3   \n",
       "5             33.3             13.6   8.7  -5.7   8.8   \n",
       "..             ...              ...   ...   ...   ...   \n",
       "450           29.6             16.3   8.5 -12.1  -6.8   \n",
       "451           35.0             25.6  10.5 -23.2  -2.9   \n",
       "462           23.0             20.1  14.8  -8.7  10.4   \n",
       "467           26.0             18.2  -1.0  -5.4 -17.3   \n",
       "626           30.0             17.1   6.0 -10.6  12.0   \n",
       "\n",
       "     Total Radiated Energy (J)  Calculated Total Impact Energy (kt)  \n",
       "1                 3.500000e+10                                 0.12  \n",
       "2                 7.300000e+10                                 0.23  \n",
       "3                 9.400000e+10                                 0.29  \n",
       "4                 1.840000e+11                                 0.52  \n",
       "5                 6.360000e+11                                 1.60  \n",
       "..                         ...                                  ...  \n",
       "450               6.240000e+11                                 1.50  \n",
       "451               4.330000e+11                                 1.10  \n",
       "462               5.180000e+11                                 1.30  \n",
       "467               2.150000e+12                                 4.60  \n",
       "626               7.400000e+10                                 0.23  \n",
       "\n",
       "[155 rows x 10 columns]"
      ]
     },
     "execution_count": 70,
     "metadata": {},
     "output_type": "execute_result"
    }
   ],
   "source": [
    "df.dropna()"
   ]
  },
  {
   "cell_type": "code",
   "execution_count": 71,
   "metadata": {},
   "outputs": [
    {
     "data": {
      "text/html": [
       "<div>\n",
       "<style scoped>\n",
       "    .dataframe tbody tr th:only-of-type {\n",
       "        vertical-align: middle;\n",
       "    }\n",
       "\n",
       "    .dataframe tbody tr th {\n",
       "        vertical-align: top;\n",
       "    }\n",
       "\n",
       "    .dataframe thead th {\n",
       "        text-align: right;\n",
       "    }\n",
       "</style>\n",
       "<table border=\"1\" class=\"dataframe\">\n",
       "  <thead>\n",
       "    <tr style=\"text-align: right;\">\n",
       "      <th></th>\n",
       "      <th>Peak Brightness Date/Time (UT)</th>\n",
       "      <th>Latitude (deg.)</th>\n",
       "      <th>Longitude (deg.)</th>\n",
       "      <th>Altitude (km)</th>\n",
       "      <th>Velocity (km/s)</th>\n",
       "      <th>vx</th>\n",
       "      <th>vy</th>\n",
       "      <th>vz</th>\n",
       "      <th>Total Radiated Energy (J)</th>\n",
       "      <th>Calculated Total Impact Energy (kt)</th>\n",
       "    </tr>\n",
       "  </thead>\n",
       "  <tbody>\n",
       "    <tr>\n",
       "      <th>0</th>\n",
       "      <td>2017-07-31 22:01:35</td>\n",
       "      <td>24.7N</td>\n",
       "      <td>118.5W</td>\n",
       "      <td>NaN</td>\n",
       "      <td>NaN</td>\n",
       "      <td>NaN</td>\n",
       "      <td>NaN</td>\n",
       "      <td>NaN</td>\n",
       "      <td>5.800000e+10</td>\n",
       "      <td>0.190</td>\n",
       "    </tr>\n",
       "    <tr>\n",
       "      <th>1</th>\n",
       "      <td>2017-07-23 06:12:38</td>\n",
       "      <td>6.6S</td>\n",
       "      <td>69.7W</td>\n",
       "      <td>38.0</td>\n",
       "      <td>17.2</td>\n",
       "      <td>-0.4</td>\n",
       "      <td>8.7</td>\n",
       "      <td>-14.8</td>\n",
       "      <td>3.500000e+10</td>\n",
       "      <td>0.120</td>\n",
       "    </tr>\n",
       "    <tr>\n",
       "      <th>2</th>\n",
       "      <td>2017-07-13 09:30:36</td>\n",
       "      <td>23.1N</td>\n",
       "      <td>60.7E</td>\n",
       "      <td>35.0</td>\n",
       "      <td>13.7</td>\n",
       "      <td>-10.0</td>\n",
       "      <td>-6.5</td>\n",
       "      <td>-6.8</td>\n",
       "      <td>7.300000e+10</td>\n",
       "      <td>0.230</td>\n",
       "    </tr>\n",
       "    <tr>\n",
       "      <th>3</th>\n",
       "      <td>2017-06-30 14:26:45</td>\n",
       "      <td>34.3S</td>\n",
       "      <td>134.5E</td>\n",
       "      <td>20.0</td>\n",
       "      <td>15.2</td>\n",
       "      <td>10.9</td>\n",
       "      <td>-9.7</td>\n",
       "      <td>4.2</td>\n",
       "      <td>9.400000e+10</td>\n",
       "      <td>0.290</td>\n",
       "    </tr>\n",
       "    <tr>\n",
       "      <th>4</th>\n",
       "      <td>2017-06-23 20:21:55</td>\n",
       "      <td>57.0N</td>\n",
       "      <td>143.7E</td>\n",
       "      <td>35.1</td>\n",
       "      <td>24.3</td>\n",
       "      <td>17.7</td>\n",
       "      <td>13.1</td>\n",
       "      <td>-10.3</td>\n",
       "      <td>1.840000e+11</td>\n",
       "      <td>0.520</td>\n",
       "    </tr>\n",
       "    <tr>\n",
       "      <th>...</th>\n",
       "      <td>...</td>\n",
       "      <td>...</td>\n",
       "      <td>...</td>\n",
       "      <td>...</td>\n",
       "      <td>...</td>\n",
       "      <td>...</td>\n",
       "      <td>...</td>\n",
       "      <td>...</td>\n",
       "      <td>...</td>\n",
       "      <td>...</td>\n",
       "    </tr>\n",
       "    <tr>\n",
       "      <th>714</th>\n",
       "      <td>1993-11-29 17:48:41</td>\n",
       "      <td>26.5N</td>\n",
       "      <td>78.3E</td>\n",
       "      <td>NaN</td>\n",
       "      <td>NaN</td>\n",
       "      <td>NaN</td>\n",
       "      <td>NaN</td>\n",
       "      <td>NaN</td>\n",
       "      <td>2.600000e+10</td>\n",
       "      <td>0.092</td>\n",
       "    </tr>\n",
       "    <tr>\n",
       "      <th>715</th>\n",
       "      <td>1993-10-31 03:39:27</td>\n",
       "      <td>51.3N</td>\n",
       "      <td>100.9W</td>\n",
       "      <td>NaN</td>\n",
       "      <td>NaN</td>\n",
       "      <td>NaN</td>\n",
       "      <td>NaN</td>\n",
       "      <td>NaN</td>\n",
       "      <td>4.000000e+10</td>\n",
       "      <td>0.130</td>\n",
       "    </tr>\n",
       "    <tr>\n",
       "      <th>716</th>\n",
       "      <td>1991-10-04 09:22:47</td>\n",
       "      <td>78.7N</td>\n",
       "      <td>6.3E</td>\n",
       "      <td>NaN</td>\n",
       "      <td>NaN</td>\n",
       "      <td>NaN</td>\n",
       "      <td>NaN</td>\n",
       "      <td>NaN</td>\n",
       "      <td>5.500000e+11</td>\n",
       "      <td>1.400</td>\n",
       "    </tr>\n",
       "    <tr>\n",
       "      <th>717</th>\n",
       "      <td>1990-10-01 03:51:47</td>\n",
       "      <td>7.5N</td>\n",
       "      <td>142.8E</td>\n",
       "      <td>NaN</td>\n",
       "      <td>NaN</td>\n",
       "      <td>NaN</td>\n",
       "      <td>NaN</td>\n",
       "      <td>NaN</td>\n",
       "      <td>2.500000e+12</td>\n",
       "      <td>5.200</td>\n",
       "    </tr>\n",
       "    <tr>\n",
       "      <th>718</th>\n",
       "      <td>1988-04-15 03:03:10</td>\n",
       "      <td>4.1S</td>\n",
       "      <td>124.3E</td>\n",
       "      <td>NaN</td>\n",
       "      <td>NaN</td>\n",
       "      <td>NaN</td>\n",
       "      <td>NaN</td>\n",
       "      <td>NaN</td>\n",
       "      <td>7.580000e+12</td>\n",
       "      <td>14.000</td>\n",
       "    </tr>\n",
       "  </tbody>\n",
       "</table>\n",
       "<p>719 rows × 10 columns</p>\n",
       "</div>"
      ],
      "text/plain": [
       "    Peak Brightness Date/Time (UT) Latitude (deg.) Longitude (deg.)  \\\n",
       "0              2017-07-31 22:01:35           24.7N           118.5W   \n",
       "1              2017-07-23 06:12:38            6.6S            69.7W   \n",
       "2              2017-07-13 09:30:36           23.1N            60.7E   \n",
       "3              2017-06-30 14:26:45           34.3S           134.5E   \n",
       "4              2017-06-23 20:21:55           57.0N           143.7E   \n",
       "..                             ...             ...              ...   \n",
       "714            1993-11-29 17:48:41           26.5N            78.3E   \n",
       "715            1993-10-31 03:39:27           51.3N           100.9W   \n",
       "716            1991-10-04 09:22:47           78.7N             6.3E   \n",
       "717            1990-10-01 03:51:47            7.5N           142.8E   \n",
       "718            1988-04-15 03:03:10            4.1S           124.3E   \n",
       "\n",
       "     Altitude (km)  Velocity (km/s)    vx    vy    vz  \\\n",
       "0              NaN              NaN   NaN   NaN   NaN   \n",
       "1             38.0             17.2  -0.4   8.7 -14.8   \n",
       "2             35.0             13.7 -10.0  -6.5  -6.8   \n",
       "3             20.0             15.2  10.9  -9.7   4.2   \n",
       "4             35.1             24.3  17.7  13.1 -10.3   \n",
       "..             ...              ...   ...   ...   ...   \n",
       "714            NaN              NaN   NaN   NaN   NaN   \n",
       "715            NaN              NaN   NaN   NaN   NaN   \n",
       "716            NaN              NaN   NaN   NaN   NaN   \n",
       "717            NaN              NaN   NaN   NaN   NaN   \n",
       "718            NaN              NaN   NaN   NaN   NaN   \n",
       "\n",
       "     Total Radiated Energy (J)  Calculated Total Impact Energy (kt)  \n",
       "0                 5.800000e+10                                0.190  \n",
       "1                 3.500000e+10                                0.120  \n",
       "2                 7.300000e+10                                0.230  \n",
       "3                 9.400000e+10                                0.290  \n",
       "4                 1.840000e+11                                0.520  \n",
       "..                         ...                                  ...  \n",
       "714               2.600000e+10                                0.092  \n",
       "715               4.000000e+10                                0.130  \n",
       "716               5.500000e+11                                1.400  \n",
       "717               2.500000e+12                                5.200  \n",
       "718               7.580000e+12                               14.000  \n",
       "\n",
       "[719 rows x 10 columns]"
      ]
     },
     "execution_count": 71,
     "metadata": {},
     "output_type": "execute_result"
    }
   ],
   "source": [
    "df.drop_duplicates()"
   ]
  },
  {
   "cell_type": "code",
   "execution_count": 72,
   "metadata": {},
   "outputs": [
    {
     "data": {
      "text/plain": [
       "(719, 10)"
      ]
     },
     "execution_count": 72,
     "metadata": {},
     "output_type": "execute_result"
    }
   ],
   "source": [
    "df.shape"
   ]
  },
  {
   "cell_type": "markdown",
   "metadata": {},
   "source": [
    "1. Определите местоположение появления метеорита с наибольшим количеством высвободившейся энергии."
   ]
  },
  {
   "cell_type": "code",
   "execution_count": 73,
   "metadata": {},
   "outputs": [
    {
     "data": {
      "text/html": [
       "<div>\n",
       "<style scoped>\n",
       "    .dataframe tbody tr th:only-of-type {\n",
       "        vertical-align: middle;\n",
       "    }\n",
       "\n",
       "    .dataframe tbody tr th {\n",
       "        vertical-align: top;\n",
       "    }\n",
       "\n",
       "    .dataframe thead th {\n",
       "        text-align: right;\n",
       "    }\n",
       "</style>\n",
       "<table border=\"1\" class=\"dataframe\">\n",
       "  <thead>\n",
       "    <tr style=\"text-align: right;\">\n",
       "      <th></th>\n",
       "      <th>Peak Brightness Date/Time (UT)</th>\n",
       "      <th>Latitude (deg.)</th>\n",
       "      <th>Longitude (deg.)</th>\n",
       "      <th>Altitude (km)</th>\n",
       "      <th>Velocity (km/s)</th>\n",
       "      <th>vx</th>\n",
       "      <th>vy</th>\n",
       "      <th>vz</th>\n",
       "      <th>Total Radiated Energy (J)</th>\n",
       "      <th>Calculated Total Impact Energy (kt)</th>\n",
       "    </tr>\n",
       "  </thead>\n",
       "  <tbody>\n",
       "    <tr>\n",
       "      <th>146</th>\n",
       "      <td>2013-02-15 03:20:33</td>\n",
       "      <td>54.8N</td>\n",
       "      <td>61.1E</td>\n",
       "      <td>23.3</td>\n",
       "      <td>18.6</td>\n",
       "      <td>12.8</td>\n",
       "      <td>-13.3</td>\n",
       "      <td>-2.4</td>\n",
       "      <td>3.750000e+14</td>\n",
       "      <td>440.0</td>\n",
       "    </tr>\n",
       "  </tbody>\n",
       "</table>\n",
       "</div>"
      ],
      "text/plain": [
       "    Peak Brightness Date/Time (UT) Latitude (deg.) Longitude (deg.)  \\\n",
       "146            2013-02-15 03:20:33           54.8N            61.1E   \n",
       "\n",
       "     Altitude (km)  Velocity (km/s)    vx    vy   vz  \\\n",
       "146           23.3             18.6  12.8 -13.3 -2.4   \n",
       "\n",
       "     Total Radiated Energy (J)  Calculated Total Impact Energy (kt)  \n",
       "146               3.750000e+14                                440.0  "
      ]
     },
     "execution_count": 73,
     "metadata": {},
     "output_type": "execute_result"
    }
   ],
   "source": [
    "df[df['Calculated Total Impact Energy (kt)'] == df['Calculated Total Impact Energy (kt)'].max()]"
   ]
  },
  {
   "cell_type": "markdown",
   "metadata": {},
   "source": [
    "2. Определите метеорит с максимальнойи минимальной скоростью."
   ]
  },
  {
   "cell_type": "code",
   "execution_count": 74,
   "metadata": {},
   "outputs": [
    {
     "data": {
      "text/html": [
       "<div>\n",
       "<style scoped>\n",
       "    .dataframe tbody tr th:only-of-type {\n",
       "        vertical-align: middle;\n",
       "    }\n",
       "\n",
       "    .dataframe tbody tr th {\n",
       "        vertical-align: top;\n",
       "    }\n",
       "\n",
       "    .dataframe thead th {\n",
       "        text-align: right;\n",
       "    }\n",
       "</style>\n",
       "<table border=\"1\" class=\"dataframe\">\n",
       "  <thead>\n",
       "    <tr style=\"text-align: right;\">\n",
       "      <th></th>\n",
       "      <th>Peak Brightness Date/Time (UT)</th>\n",
       "      <th>Latitude (deg.)</th>\n",
       "      <th>Longitude (deg.)</th>\n",
       "      <th>Altitude (km)</th>\n",
       "      <th>Velocity (km/s)</th>\n",
       "      <th>vx</th>\n",
       "      <th>vy</th>\n",
       "      <th>vz</th>\n",
       "      <th>Total Radiated Energy (J)</th>\n",
       "      <th>Calculated Total Impact Energy (kt)</th>\n",
       "    </tr>\n",
       "  </thead>\n",
       "  <tbody>\n",
       "    <tr>\n",
       "      <th>67</th>\n",
       "      <td>2015-07-04 01:40:11</td>\n",
       "      <td>38.6N</td>\n",
       "      <td>103.1E</td>\n",
       "      <td>46.3</td>\n",
       "      <td>49.0</td>\n",
       "      <td>0.9</td>\n",
       "      <td>-40.4</td>\n",
       "      <td>-27.7</td>\n",
       "      <td>5.600000e+10</td>\n",
       "      <td>0.18</td>\n",
       "    </tr>\n",
       "  </tbody>\n",
       "</table>\n",
       "</div>"
      ],
      "text/plain": [
       "   Peak Brightness Date/Time (UT) Latitude (deg.) Longitude (deg.)  \\\n",
       "67            2015-07-04 01:40:11           38.6N           103.1E   \n",
       "\n",
       "    Altitude (km)  Velocity (km/s)   vx    vy    vz  \\\n",
       "67           46.3             49.0  0.9 -40.4 -27.7   \n",
       "\n",
       "    Total Radiated Energy (J)  Calculated Total Impact Energy (kt)  \n",
       "67               5.600000e+10                                 0.18  "
      ]
     },
     "execution_count": 74,
     "metadata": {},
     "output_type": "execute_result"
    }
   ],
   "source": [
    "df[df['Velocity (km/s)'] == df['Velocity (km/s)'].max()]"
   ]
  },
  {
   "cell_type": "code",
   "execution_count": 75,
   "metadata": {},
   "outputs": [
    {
     "data": {
      "text/html": [
       "<div>\n",
       "<style scoped>\n",
       "    .dataframe tbody tr th:only-of-type {\n",
       "        vertical-align: middle;\n",
       "    }\n",
       "\n",
       "    .dataframe tbody tr th {\n",
       "        vertical-align: top;\n",
       "    }\n",
       "\n",
       "    .dataframe thead th {\n",
       "        text-align: right;\n",
       "    }\n",
       "</style>\n",
       "<table border=\"1\" class=\"dataframe\">\n",
       "  <thead>\n",
       "    <tr style=\"text-align: right;\">\n",
       "      <th></th>\n",
       "      <th>Peak Brightness Date/Time (UT)</th>\n",
       "      <th>Latitude (deg.)</th>\n",
       "      <th>Longitude (deg.)</th>\n",
       "      <th>Altitude (km)</th>\n",
       "      <th>Velocity (km/s)</th>\n",
       "      <th>vx</th>\n",
       "      <th>vy</th>\n",
       "      <th>vz</th>\n",
       "      <th>Total Radiated Energy (J)</th>\n",
       "      <th>Calculated Total Impact Energy (kt)</th>\n",
       "    </tr>\n",
       "  </thead>\n",
       "  <tbody>\n",
       "    <tr>\n",
       "      <th>300</th>\n",
       "      <td>2008-07-01 17:40:19</td>\n",
       "      <td>37.1N</td>\n",
       "      <td>115.7W</td>\n",
       "      <td>36.1</td>\n",
       "      <td>9.8</td>\n",
       "      <td>2.8</td>\n",
       "      <td>1.7</td>\n",
       "      <td>-9.2</td>\n",
       "      <td>3.600000e+10</td>\n",
       "      <td>0.12</td>\n",
       "    </tr>\n",
       "  </tbody>\n",
       "</table>\n",
       "</div>"
      ],
      "text/plain": [
       "    Peak Brightness Date/Time (UT) Latitude (deg.) Longitude (deg.)  \\\n",
       "300            2008-07-01 17:40:19           37.1N           115.7W   \n",
       "\n",
       "     Altitude (km)  Velocity (km/s)   vx   vy   vz  Total Radiated Energy (J)  \\\n",
       "300           36.1              9.8  2.8  1.7 -9.2               3.600000e+10   \n",
       "\n",
       "     Calculated Total Impact Energy (kt)  \n",
       "300                                 0.12  "
      ]
     },
     "execution_count": 75,
     "metadata": {},
     "output_type": "execute_result"
    }
   ],
   "source": [
    "df[df['Velocity (km/s)'] == df['Velocity (km/s)'].min()]"
   ]
  },
  {
   "cell_type": "markdown",
   "metadata": {},
   "source": [
    "3. Определите место максимальной концентрации метеоритов."
   ]
  },
  {
   "cell_type": "code",
   "execution_count": 76,
   "metadata": {},
   "outputs": [],
   "source": [
    "def get_data(name):\n",
    "    return name[-1]"
   ]
  },
  {
   "cell_type": "code",
   "execution_count": 77,
   "metadata": {},
   "outputs": [],
   "source": [
    "df2 = df.dropna()\n",
    "Latitude = df2['Latitude (deg.)'].apply(get_data)\n",
    "Longitude = df2['Longitude (deg.)'].apply(get_data)"
   ]
  },
  {
   "cell_type": "code",
   "execution_count": 78,
   "metadata": {},
   "outputs": [
    {
     "data": {
      "text/plain": [
       "Latitude (deg.)  Longitude (deg.)\n",
       "N                E                   51\n",
       "                 W                   24\n",
       "S                E                   48\n",
       "                 W                   32\n",
       "Name: Longitude (deg.), dtype: int64"
      ]
     },
     "execution_count": 78,
     "metadata": {},
     "output_type": "execute_result"
    }
   ],
   "source": [
    "df.groupby([Latitude, Longitude])['Longitude (deg.)'].count()"
   ]
  },
  {
   "cell_type": "markdown",
   "metadata": {},
   "source": [
    "4. Определите время года, в которое вероятность появления метеоритов максимальна. Постройте график."
   ]
  },
  {
   "cell_type": "code",
   "execution_count": 79,
   "metadata": {},
   "outputs": [],
   "source": [
    "def get_data(name):\n",
    "    return name.split('-')[1]\n",
    "month = df['Peak Brightness Date/Time (UT)'].apply(get_data)\n",
    "winter = month[(month == \"01\") | (month == \"02\") | (month == \"12\")].count()\n",
    "spring = month[(month == \"03\") | (month == \"04\") | (month == \"05\")].count()\n",
    "summer = month[(month == \"06\") | (month == \"07\") | (month == \"08\")].count()\n",
    "autumn = month[(month == \"09\") | (month == \"10\") | (month == \"11\")].count()\n",
    "s = pd.Series([winter, spring, summer, autumn], index = ['winter', 'spring', 'summer', 'autumn'])"
   ]
  },
  {
   "cell_type": "code",
   "execution_count": 80,
   "metadata": {},
   "outputs": [
    {
     "data": {
      "text/plain": [
       "autumn    182\n",
       "dtype: int64"
      ]
     },
     "execution_count": 80,
     "metadata": {},
     "output_type": "execute_result"
    }
   ],
   "source": [
    "s[s == s.max()]"
   ]
  },
  {
   "cell_type": "code",
   "execution_count": 81,
   "metadata": {},
   "outputs": [
    {
     "data": {
      "text/plain": [
       "<AxesSubplot:>"
      ]
     },
     "execution_count": 81,
     "metadata": {},
     "output_type": "execute_result"
    },
    {
     "data": {
      "image/png": "[encoded data removed]",
      "text/plain": [
       "<Figure size 432x288 with 1 Axes>"
      ]
     },
     "metadata": {
      "needs_background": "light"
     },
     "output_type": "display_data"
    }
   ],
   "source": [
    "s.plot()"
   ]
  },
  {
   "cell_type": "markdown",
   "metadata": {},
   "source": [
    "5. Удалите строки данных, в которых для метеоритов не указана скорость. Выведите размер набора данных до и после удаления."
   ]
  },
  {
   "cell_type": "code",
   "execution_count": 82,
   "metadata": {},
   "outputs": [
    {
     "data": {
      "text/html": [
       "<div>\n",
       "<style scoped>\n",
       "    .dataframe tbody tr th:only-of-type {\n",
       "        vertical-align: middle;\n",
       "    }\n",
       "\n",
       "    .dataframe tbody tr th {\n",
       "        vertical-align: top;\n",
       "    }\n",
       "\n",
       "    .dataframe thead th {\n",
       "        text-align: right;\n",
       "    }\n",
       "</style>\n",
       "<table border=\"1\" class=\"dataframe\">\n",
       "  <thead>\n",
       "    <tr style=\"text-align: right;\">\n",
       "      <th></th>\n",
       "      <th>Peak Brightness Date/Time (UT)</th>\n",
       "      <th>Latitude (deg.)</th>\n",
       "      <th>Longitude (deg.)</th>\n",
       "      <th>Altitude (km)</th>\n",
       "      <th>Velocity (km/s)</th>\n",
       "      <th>vx</th>\n",
       "      <th>vy</th>\n",
       "      <th>vz</th>\n",
       "      <th>Total Radiated Energy (J)</th>\n",
       "      <th>Calculated Total Impact Energy (kt)</th>\n",
       "    </tr>\n",
       "  </thead>\n",
       "  <tbody>\n",
       "    <tr>\n",
       "      <th>1</th>\n",
       "      <td>2017-07-23 06:12:38</td>\n",
       "      <td>6.6S</td>\n",
       "      <td>69.7W</td>\n",
       "      <td>38.0</td>\n",
       "      <td>17.2</td>\n",
       "      <td>-0.4</td>\n",
       "      <td>8.7</td>\n",
       "      <td>-14.8</td>\n",
       "      <td>3.500000e+10</td>\n",
       "      <td>0.12</td>\n",
       "    </tr>\n",
       "    <tr>\n",
       "      <th>2</th>\n",
       "      <td>2017-07-13 09:30:36</td>\n",
       "      <td>23.1N</td>\n",
       "      <td>60.7E</td>\n",
       "      <td>35.0</td>\n",
       "      <td>13.7</td>\n",
       "      <td>-10.0</td>\n",
       "      <td>-6.5</td>\n",
       "      <td>-6.8</td>\n",
       "      <td>7.300000e+10</td>\n",
       "      <td>0.23</td>\n",
       "    </tr>\n",
       "    <tr>\n",
       "      <th>3</th>\n",
       "      <td>2017-06-30 14:26:45</td>\n",
       "      <td>34.3S</td>\n",
       "      <td>134.5E</td>\n",
       "      <td>20.0</td>\n",
       "      <td>15.2</td>\n",
       "      <td>10.9</td>\n",
       "      <td>-9.7</td>\n",
       "      <td>4.2</td>\n",
       "      <td>9.400000e+10</td>\n",
       "      <td>0.29</td>\n",
       "    </tr>\n",
       "    <tr>\n",
       "      <th>4</th>\n",
       "      <td>2017-06-23 20:21:55</td>\n",
       "      <td>57.0N</td>\n",
       "      <td>143.7E</td>\n",
       "      <td>35.1</td>\n",
       "      <td>24.3</td>\n",
       "      <td>17.7</td>\n",
       "      <td>13.1</td>\n",
       "      <td>-10.3</td>\n",
       "      <td>1.840000e+11</td>\n",
       "      <td>0.52</td>\n",
       "    </tr>\n",
       "    <tr>\n",
       "      <th>5</th>\n",
       "      <td>2017-06-20 13:41:32</td>\n",
       "      <td>54.2S</td>\n",
       "      <td>133.0E</td>\n",
       "      <td>33.3</td>\n",
       "      <td>13.6</td>\n",
       "      <td>8.7</td>\n",
       "      <td>-5.7</td>\n",
       "      <td>8.8</td>\n",
       "      <td>6.360000e+11</td>\n",
       "      <td>1.60</td>\n",
       "    </tr>\n",
       "  </tbody>\n",
       "</table>\n",
       "</div>"
      ],
      "text/plain": [
       "  Peak Brightness Date/Time (UT) Latitude (deg.) Longitude (deg.)  \\\n",
       "1            2017-07-23 06:12:38            6.6S            69.7W   \n",
       "2            2017-07-13 09:30:36           23.1N            60.7E   \n",
       "3            2017-06-30 14:26:45           34.3S           134.5E   \n",
       "4            2017-06-23 20:21:55           57.0N           143.7E   \n",
       "5            2017-06-20 13:41:32           54.2S           133.0E   \n",
       "\n",
       "   Altitude (km)  Velocity (km/s)    vx    vy    vz  \\\n",
       "1           38.0             17.2  -0.4   8.7 -14.8   \n",
       "2           35.0             13.7 -10.0  -6.5  -6.8   \n",
       "3           20.0             15.2  10.9  -9.7   4.2   \n",
       "4           35.1             24.3  17.7  13.1 -10.3   \n",
       "5           33.3             13.6   8.7  -5.7   8.8   \n",
       "\n",
       "   Total Radiated Energy (J)  Calculated Total Impact Energy (kt)  \n",
       "1               3.500000e+10                                 0.12  \n",
       "2               7.300000e+10                                 0.23  \n",
       "3               9.400000e+10                                 0.29  \n",
       "4               1.840000e+11                                 0.52  \n",
       "5               6.360000e+11                                 1.60  "
      ]
     },
     "execution_count": 82,
     "metadata": {},
     "output_type": "execute_result"
    }
   ],
   "source": [
    "df2 = df.dropna(axis = 0, subset=['Velocity (km/s)'])\n",
    "df2.head()"
   ]
  },
  {
   "cell_type": "code",
   "execution_count": 83,
   "metadata": {},
   "outputs": [
    {
     "data": {
      "text/plain": [
       "(719, 10)"
      ]
     },
     "execution_count": 83,
     "metadata": {},
     "output_type": "execute_result"
    }
   ],
   "source": [
    "df.shape"
   ]
  },
  {
   "cell_type": "code",
   "execution_count": 84,
   "metadata": {},
   "outputs": [
    {
     "data": {
      "text/plain": [
       "(157, 10)"
      ]
     },
     "execution_count": 84,
     "metadata": {},
     "output_type": "execute_result"
    }
   ],
   "source": [
    "df2.shape"
   ]
  },
  {
   "cell_type": "markdown",
   "metadata": {},
   "source": [
    "6. Построить график, на котором по оси ОХ отложено время суток, по OY–частота появления метеоритов."
   ]
  },
  {
   "cell_type": "code",
   "execution_count": 85,
   "metadata": {},
   "outputs": [],
   "source": [
    "def get_time(name):\n",
    "    return name.split()[1].split(':')[0]"
   ]
  },
  {
   "cell_type": "code",
   "execution_count": 86,
   "metadata": {},
   "outputs": [],
   "source": [
    "time = df['Peak Brightness Date/Time (UT)'].apply(get_time)"
   ]
  },
  {
   "cell_type": "code",
   "execution_count": 87,
   "metadata": {},
   "outputs": [
    {
     "data": {
      "text/plain": [
       "<AxesSubplot:xlabel='time'>"
      ]
     },
     "execution_count": 87,
     "metadata": {},
     "output_type": "execute_result"
    },
    {
     "data": {
      "image/png": "[encoded data removed]",
      "text/plain": [
       "<Figure size 432x288 with 1 Axes>"
      ]
     },
     "metadata": {
      "needs_background": "light"
     },
     "output_type": "display_data"
    }
   ],
   "source": [
    "df.groupby(time)['Peak Brightness Date/Time (UT)'].count().plot(xlabel = \"time\")"
   ]
  },
  {
   "cell_type": "markdown",
   "metadata": {},
   "source": [
    "7. Заполните строки в которых для метеоритов не указана скорость."
   ]
  },
  {
   "cell_type": "code",
   "execution_count": 88,
   "metadata": {},
   "outputs": [
    {
     "data": {
      "text/html": [
       "<div>\n",
       "<style scoped>\n",
       "    .dataframe tbody tr th:only-of-type {\n",
       "        vertical-align: middle;\n",
       "    }\n",
       "\n",
       "    .dataframe tbody tr th {\n",
       "        vertical-align: top;\n",
       "    }\n",
       "\n",
       "    .dataframe thead th {\n",
       "        text-align: right;\n",
       "    }\n",
       "</style>\n",
       "<table border=\"1\" class=\"dataframe\">\n",
       "  <thead>\n",
       "    <tr style=\"text-align: right;\">\n",
       "      <th></th>\n",
       "      <th>Peak Brightness Date/Time (UT)</th>\n",
       "      <th>Latitude (deg.)</th>\n",
       "      <th>Longitude (deg.)</th>\n",
       "      <th>Altitude (km)</th>\n",
       "      <th>Velocity (km/s)</th>\n",
       "      <th>vx</th>\n",
       "      <th>vy</th>\n",
       "      <th>vz</th>\n",
       "      <th>Total Radiated Energy (J)</th>\n",
       "      <th>Calculated Total Impact Energy (kt)</th>\n",
       "    </tr>\n",
       "  </thead>\n",
       "  <tbody>\n",
       "    <tr>\n",
       "      <th>0</th>\n",
       "      <td>2017-07-31 22:01:35</td>\n",
       "      <td>24.7N</td>\n",
       "      <td>118.5W</td>\n",
       "      <td>3.0</td>\n",
       "      <td>3.0</td>\n",
       "      <td>3.0</td>\n",
       "      <td>3.0</td>\n",
       "      <td>3.0</td>\n",
       "      <td>5.800000e+10</td>\n",
       "      <td>0.190</td>\n",
       "    </tr>\n",
       "    <tr>\n",
       "      <th>1</th>\n",
       "      <td>2017-07-23 06:12:38</td>\n",
       "      <td>6.6S</td>\n",
       "      <td>69.7W</td>\n",
       "      <td>38.0</td>\n",
       "      <td>17.2</td>\n",
       "      <td>-0.4</td>\n",
       "      <td>8.7</td>\n",
       "      <td>-14.8</td>\n",
       "      <td>3.500000e+10</td>\n",
       "      <td>0.120</td>\n",
       "    </tr>\n",
       "    <tr>\n",
       "      <th>2</th>\n",
       "      <td>2017-07-13 09:30:36</td>\n",
       "      <td>23.1N</td>\n",
       "      <td>60.7E</td>\n",
       "      <td>35.0</td>\n",
       "      <td>13.7</td>\n",
       "      <td>-10.0</td>\n",
       "      <td>-6.5</td>\n",
       "      <td>-6.8</td>\n",
       "      <td>7.300000e+10</td>\n",
       "      <td>0.230</td>\n",
       "    </tr>\n",
       "    <tr>\n",
       "      <th>3</th>\n",
       "      <td>2017-06-30 14:26:45</td>\n",
       "      <td>34.3S</td>\n",
       "      <td>134.5E</td>\n",
       "      <td>20.0</td>\n",
       "      <td>15.2</td>\n",
       "      <td>10.9</td>\n",
       "      <td>-9.7</td>\n",
       "      <td>4.2</td>\n",
       "      <td>9.400000e+10</td>\n",
       "      <td>0.290</td>\n",
       "    </tr>\n",
       "    <tr>\n",
       "      <th>4</th>\n",
       "      <td>2017-06-23 20:21:55</td>\n",
       "      <td>57.0N</td>\n",
       "      <td>143.7E</td>\n",
       "      <td>35.1</td>\n",
       "      <td>24.3</td>\n",
       "      <td>17.7</td>\n",
       "      <td>13.1</td>\n",
       "      <td>-10.3</td>\n",
       "      <td>1.840000e+11</td>\n",
       "      <td>0.520</td>\n",
       "    </tr>\n",
       "    <tr>\n",
       "      <th>...</th>\n",
       "      <td>...</td>\n",
       "      <td>...</td>\n",
       "      <td>...</td>\n",
       "      <td>...</td>\n",
       "      <td>...</td>\n",
       "      <td>...</td>\n",
       "      <td>...</td>\n",
       "      <td>...</td>\n",
       "      <td>...</td>\n",
       "      <td>...</td>\n",
       "    </tr>\n",
       "    <tr>\n",
       "      <th>714</th>\n",
       "      <td>1993-11-29 17:48:41</td>\n",
       "      <td>26.5N</td>\n",
       "      <td>78.3E</td>\n",
       "      <td>3.0</td>\n",
       "      <td>3.0</td>\n",
       "      <td>3.0</td>\n",
       "      <td>3.0</td>\n",
       "      <td>3.0</td>\n",
       "      <td>2.600000e+10</td>\n",
       "      <td>0.092</td>\n",
       "    </tr>\n",
       "    <tr>\n",
       "      <th>715</th>\n",
       "      <td>1993-10-31 03:39:27</td>\n",
       "      <td>51.3N</td>\n",
       "      <td>100.9W</td>\n",
       "      <td>3.0</td>\n",
       "      <td>3.0</td>\n",
       "      <td>3.0</td>\n",
       "      <td>3.0</td>\n",
       "      <td>3.0</td>\n",
       "      <td>4.000000e+10</td>\n",
       "      <td>0.130</td>\n",
       "    </tr>\n",
       "    <tr>\n",
       "      <th>716</th>\n",
       "      <td>1991-10-04 09:22:47</td>\n",
       "      <td>78.7N</td>\n",
       "      <td>6.3E</td>\n",
       "      <td>3.0</td>\n",
       "      <td>3.0</td>\n",
       "      <td>3.0</td>\n",
       "      <td>3.0</td>\n",
       "      <td>3.0</td>\n",
       "      <td>5.500000e+11</td>\n",
       "      <td>1.400</td>\n",
       "    </tr>\n",
       "    <tr>\n",
       "      <th>717</th>\n",
       "      <td>1990-10-01 03:51:47</td>\n",
       "      <td>7.5N</td>\n",
       "      <td>142.8E</td>\n",
       "      <td>3.0</td>\n",
       "      <td>3.0</td>\n",
       "      <td>3.0</td>\n",
       "      <td>3.0</td>\n",
       "      <td>3.0</td>\n",
       "      <td>2.500000e+12</td>\n",
       "      <td>5.200</td>\n",
       "    </tr>\n",
       "    <tr>\n",
       "      <th>718</th>\n",
       "      <td>1988-04-15 03:03:10</td>\n",
       "      <td>4.1S</td>\n",
       "      <td>124.3E</td>\n",
       "      <td>3.0</td>\n",
       "      <td>3.0</td>\n",
       "      <td>3.0</td>\n",
       "      <td>3.0</td>\n",
       "      <td>3.0</td>\n",
       "      <td>7.580000e+12</td>\n",
       "      <td>14.000</td>\n",
       "    </tr>\n",
       "  </tbody>\n",
       "</table>\n",
       "<p>719 rows × 10 columns</p>\n",
       "</div>"
      ],
      "text/plain": [
       "    Peak Brightness Date/Time (UT) Latitude (deg.) Longitude (deg.)  \\\n",
       "0              2017-07-31 22:01:35           24.7N           118.5W   \n",
       "1              2017-07-23 06:12:38            6.6S            69.7W   \n",
       "2              2017-07-13 09:30:36           23.1N            60.7E   \n",
       "3              2017-06-30 14:26:45           34.3S           134.5E   \n",
       "4              2017-06-23 20:21:55           57.0N           143.7E   \n",
       "..                             ...             ...              ...   \n",
       "714            1993-11-29 17:48:41           26.5N            78.3E   \n",
       "715            1993-10-31 03:39:27           51.3N           100.9W   \n",
       "716            1991-10-04 09:22:47           78.7N             6.3E   \n",
       "717            1990-10-01 03:51:47            7.5N           142.8E   \n",
       "718            1988-04-15 03:03:10            4.1S           124.3E   \n",
       "\n",
       "     Altitude (km)  Velocity (km/s)    vx    vy    vz  \\\n",
       "0              3.0              3.0   3.0   3.0   3.0   \n",
       "1             38.0             17.2  -0.4   8.7 -14.8   \n",
       "2             35.0             13.7 -10.0  -6.5  -6.8   \n",
       "3             20.0             15.2  10.9  -9.7   4.2   \n",
       "4             35.1             24.3  17.7  13.1 -10.3   \n",
       "..             ...              ...   ...   ...   ...   \n",
       "714            3.0              3.0   3.0   3.0   3.0   \n",
       "715            3.0              3.0   3.0   3.0   3.0   \n",
       "716            3.0              3.0   3.0   3.0   3.0   \n",
       "717            3.0              3.0   3.0   3.0   3.0   \n",
       "718            3.0              3.0   3.0   3.0   3.0   \n",
       "\n",
       "     Total Radiated Energy (J)  Calculated Total Impact Energy (kt)  \n",
       "0                 5.800000e+10                                0.190  \n",
       "1                 3.500000e+10                                0.120  \n",
       "2                 7.300000e+10                                0.230  \n",
       "3                 9.400000e+10                                0.290  \n",
       "4                 1.840000e+11                                0.520  \n",
       "..                         ...                                  ...  \n",
       "714               2.600000e+10                                0.092  \n",
       "715               4.000000e+10                                0.130  \n",
       "716               5.500000e+11                                1.400  \n",
       "717               2.500000e+12                                5.200  \n",
       "718               7.580000e+12                               14.000  \n",
       "\n",
       "[719 rows x 10 columns]"
      ]
     },
     "execution_count": 88,
     "metadata": {},
     "output_type": "execute_result"
    }
   ],
   "source": [
    "df3 = df.fillna(3)\n",
    "df3"
   ]
  },
  {
   "cell_type": "markdown",
   "metadata": {},
   "source": [
    "8. Определите месяц года, для которого появление метеоритов наиболее вероятно (постройте необходимые графики)."
   ]
  },
  {
   "cell_type": "code",
   "execution_count": 89,
   "metadata": {},
   "outputs": [],
   "source": [
    "def get_data(name):\n",
    "    return name.split('-')[1]\n",
    "month = df['Peak Brightness Date/Time (UT)'].apply(get_data)"
   ]
  },
  {
   "cell_type": "code",
   "execution_count": 90,
   "metadata": {},
   "outputs": [],
   "source": [
    "m = max(df.groupby(month)['Peak Brightness Date/Time (UT)'].count())"
   ]
  },
  {
   "cell_type": "code",
   "execution_count": 91,
   "metadata": {},
   "outputs": [
    {
     "data": {
      "text/plain": [
       "Peak Brightness Date/Time (UT)\n",
       "10    65\n",
       "11    65\n",
       "Name: Peak Brightness Date/Time (UT), dtype: int64"
      ]
     },
     "execution_count": 91,
     "metadata": {},
     "output_type": "execute_result"
    }
   ],
   "source": [
    "arr = df.groupby(month)['Peak Brightness Date/Time (UT)'].count()\n",
    "arr[arr == m]"
   ]
  },
  {
   "cell_type": "code",
   "execution_count": 92,
   "metadata": {},
   "outputs": [
    {
     "data": {
      "text/plain": [
       "<AxesSubplot:xlabel='month'>"
      ]
     },
     "execution_count": 92,
     "metadata": {},
     "output_type": "execute_result"
    },
    {
     "data": {
      "image/png": "[encoded data removed]",
      "text/plain": [
       "<Figure size 432x288 with 1 Axes>"
      ]
     },
     "metadata": {
      "needs_background": "light"
     },
     "output_type": "display_data"
    }
   ],
   "source": [
    "arr.plot(xlabel = \"month\")"
   ]
  },
  {
   "cell_type": "markdown",
   "metadata": {},
   "source": [
    "9. Вычислите корреляцию Пирсона и Спирмена между признакамиAltitude и Total Radiated Energy. Сравните полученные величины корреляции. Постройте гистограммы для указанных признаков. Оцените значение p-value."
   ]
  },
  {
   "cell_type": "code",
   "execution_count": 93,
   "metadata": {},
   "outputs": [
    {
     "data": {
      "text/plain": [
       "(0.017731240985883606, 0.6350302745668643)"
      ]
     },
     "execution_count": 93,
     "metadata": {},
     "output_type": "execute_result"
    }
   ],
   "source": [
    "stats.pearsonr(df3['Altitude (km)'], df3['Total Radiated Energy (J)'])\n"
   ]
  },
  {
   "cell_type": "code",
   "execution_count": 94,
   "metadata": {},
   "outputs": [
    {
     "data": {
      "text/plain": [
       "SpearmanrResult(correlation=0.18476771782927462, pvalue=6.07590161701954e-07)"
      ]
     },
     "execution_count": 94,
     "metadata": {},
     "output_type": "execute_result"
    }
   ],
   "source": [
    "stats.spearmanr(df3['Altitude (km)'], df3['Total Radiated Energy (J)'])"
   ]
  },
  {
   "cell_type": "code",
   "execution_count": 95,
   "metadata": {},
   "outputs": [
    {
     "data": {
      "text/plain": [
       "<AxesSubplot:ylabel='Frequency'>"
      ]
     },
     "execution_count": 95,
     "metadata": {},
     "output_type": "execute_result"
    },
    {
     "data": {
      "image/png": "[encoded data removed]",
      "text/plain": [
       "<Figure size 432x288 with 1 Axes>"
      ]
     },
     "metadata": {
      "needs_background": "light"
     },
     "output_type": "display_data"
    }
   ],
   "source": [
    "df['Altitude (km)'].plot.hist()"
   ]
  },
  {
   "cell_type": "code",
   "execution_count": 96,
   "metadata": {},
   "outputs": [
    {
     "data": {
      "text/plain": [
       "<AxesSubplot:ylabel='Frequency'>"
      ]
     },
     "execution_count": 96,
     "metadata": {},
     "output_type": "execute_result"
    },
    {
     "data": {
      "image/png": "[encoded data removed]",
      "text/plain": [
       "<Figure size 432x288 with 1 Axes>"
      ]
     },
     "metadata": {
      "needs_background": "light"
     },
     "output_type": "display_data"
    }
   ],
   "source": [
    "df['Total Radiated Energy (J)'].plot.hist()"
   ]
  },
  {
   "cell_type": "code",
   "execution_count": null,
   "metadata": {},
   "outputs": [],
   "source": []
  }
 ],
 "metadata": {
  "kernelspec": {
   "display_name": "Python 3",
   "language": "python",
   "name": "python3"
  },
  "language_info": {
   "codemirror_mode": {
    "name": "ipython",
    "version": 3
   },
   "file_extension": ".py",
   "mimetype": "text/x-python",
   "name": "python",
   "nbconvert_exporter": "python",
   "pygments_lexer": "ipython3",
   "version": "3.9.1"
  }
 },
 "nbformat": 4,
 "nbformat_minor": 4
}
