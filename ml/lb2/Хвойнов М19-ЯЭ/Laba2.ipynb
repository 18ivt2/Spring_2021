{
 "cells": [
  {
   "cell_type": "markdown",
   "metadata": {},
   "source": [
    "# Лабораторная работа №2\n",
    "# Хвойнов Олег\n",
    "# Варинат 7"
   ]
  },
  {
   "cell_type": "code",
   "execution_count": 1,
   "metadata": {},
   "outputs": [],
   "source": [
    "import numpy as np\n",
    "import pandas as pd\n",
    "import seaborn as sns"
   ]
  },
  {
   "cell_type": "code",
   "execution_count": 2,
   "metadata": {},
   "outputs": [
    {
     "name": "stdout",
     "output_type": "stream",
     "text": [
      "(1039, 13)\n"
     ]
    }
   ],
   "source": [
    "DataSet=pd.read_csv('camera_dataset.csv')\n",
    "print(DataSet.shape)"
   ]
  },
  {
   "cell_type": "code",
   "execution_count": 3,
   "metadata": {},
   "outputs": [
    {
     "data": {
      "text/html": [
       "<div>\n",
       "<style scoped>\n",
       "    .dataframe tbody tr th:only-of-type {\n",
       "        vertical-align: middle;\n",
       "    }\n",
       "\n",
       "    .dataframe tbody tr th {\n",
       "        vertical-align: top;\n",
       "    }\n",
       "\n",
       "    .dataframe thead th {\n",
       "        text-align: right;\n",
       "    }\n",
       "</style>\n",
       "<table border=\"1\" class=\"dataframe\">\n",
       "  <thead>\n",
       "    <tr style=\"text-align: right;\">\n",
       "      <th></th>\n",
       "      <th>Model</th>\n",
       "      <th>Release date</th>\n",
       "      <th>Max resolution</th>\n",
       "      <th>Low resolution</th>\n",
       "      <th>Effective pixels</th>\n",
       "      <th>Zoom wide (W)</th>\n",
       "      <th>Zoom tele (T)</th>\n",
       "      <th>Normal focus range</th>\n",
       "      <th>Macro focus range</th>\n",
       "      <th>Storage included</th>\n",
       "      <th>Weight (inc. batteries)</th>\n",
       "      <th>Dimensions</th>\n",
       "      <th>Price</th>\n",
       "    </tr>\n",
       "  </thead>\n",
       "  <tbody>\n",
       "    <tr>\n",
       "      <th>0</th>\n",
       "      <td>STRING</td>\n",
       "      <td>DOUBLE</td>\n",
       "      <td>DOUBLE</td>\n",
       "      <td>DOUBLE</td>\n",
       "      <td>DOUBLE</td>\n",
       "      <td>DOUBLE</td>\n",
       "      <td>DOUBLE</td>\n",
       "      <td>DOUBLE</td>\n",
       "      <td>DOUBLE</td>\n",
       "      <td>DOUBLE</td>\n",
       "      <td>DOUBLE</td>\n",
       "      <td>DOUBLE</td>\n",
       "      <td>DOUBLE</td>\n",
       "    </tr>\n",
       "    <tr>\n",
       "      <th>1</th>\n",
       "      <td>Agfa ePhoto 1280</td>\n",
       "      <td>1997</td>\n",
       "      <td>1024.0</td>\n",
       "      <td>640.0</td>\n",
       "      <td>0.0</td>\n",
       "      <td>38.0</td>\n",
       "      <td>114.0</td>\n",
       "      <td>70.0</td>\n",
       "      <td>40.0</td>\n",
       "      <td>4.0</td>\n",
       "      <td>420.0</td>\n",
       "      <td>95.0</td>\n",
       "      <td>179.0</td>\n",
       "    </tr>\n",
       "    <tr>\n",
       "      <th>2</th>\n",
       "      <td>Agfa ePhoto 1680</td>\n",
       "      <td>1998</td>\n",
       "      <td>1280.0</td>\n",
       "      <td>640.0</td>\n",
       "      <td>1.0</td>\n",
       "      <td>38.0</td>\n",
       "      <td>114.0</td>\n",
       "      <td>50.0</td>\n",
       "      <td>0.0</td>\n",
       "      <td>4.0</td>\n",
       "      <td>420.0</td>\n",
       "      <td>158.0</td>\n",
       "      <td>179.0</td>\n",
       "    </tr>\n",
       "    <tr>\n",
       "      <th>3</th>\n",
       "      <td>Agfa ePhoto CL18</td>\n",
       "      <td>2000</td>\n",
       "      <td>640.0</td>\n",
       "      <td>0.0</td>\n",
       "      <td>0.0</td>\n",
       "      <td>45.0</td>\n",
       "      <td>45.0</td>\n",
       "      <td>0.0</td>\n",
       "      <td>0.0</td>\n",
       "      <td>2.0</td>\n",
       "      <td>0.0</td>\n",
       "      <td>0.0</td>\n",
       "      <td>179.0</td>\n",
       "    </tr>\n",
       "    <tr>\n",
       "      <th>4</th>\n",
       "      <td>Agfa ePhoto CL30</td>\n",
       "      <td>1999</td>\n",
       "      <td>1152.0</td>\n",
       "      <td>640.0</td>\n",
       "      <td>0.0</td>\n",
       "      <td>35.0</td>\n",
       "      <td>35.0</td>\n",
       "      <td>0.0</td>\n",
       "      <td>0.0</td>\n",
       "      <td>4.0</td>\n",
       "      <td>0.0</td>\n",
       "      <td>0.0</td>\n",
       "      <td>269.0</td>\n",
       "    </tr>\n",
       "  </tbody>\n",
       "</table>\n",
       "</div>"
      ],
      "text/plain": [
       "              Model Release date Max resolution Low resolution  \\\n",
       "0            STRING       DOUBLE         DOUBLE         DOUBLE   \n",
       "1  Agfa ePhoto 1280         1997         1024.0          640.0   \n",
       "2  Agfa ePhoto 1680         1998         1280.0          640.0   \n",
       "3  Agfa ePhoto CL18         2000          640.0            0.0   \n",
       "4  Agfa ePhoto CL30         1999         1152.0          640.0   \n",
       "\n",
       "  Effective pixels Zoom wide (W) Zoom tele (T) Normal focus range  \\\n",
       "0           DOUBLE        DOUBLE        DOUBLE             DOUBLE   \n",
       "1              0.0          38.0         114.0               70.0   \n",
       "2              1.0          38.0         114.0               50.0   \n",
       "3              0.0          45.0          45.0                0.0   \n",
       "4              0.0          35.0          35.0                0.0   \n",
       "\n",
       "  Macro focus range Storage included Weight (inc. batteries) Dimensions  \\\n",
       "0            DOUBLE           DOUBLE                  DOUBLE     DOUBLE   \n",
       "1              40.0              4.0                   420.0       95.0   \n",
       "2               0.0              4.0                   420.0      158.0   \n",
       "3               0.0              2.0                     0.0        0.0   \n",
       "4               0.0              4.0                     0.0        0.0   \n",
       "\n",
       "    Price  \n",
       "0  DOUBLE  \n",
       "1   179.0  \n",
       "2   179.0  \n",
       "3   179.0  \n",
       "4   269.0  "
      ]
     },
     "execution_count": 3,
     "metadata": {},
     "output_type": "execute_result"
    }
   ],
   "source": [
    "DataSet.head()"
   ]
  },
  {
   "cell_type": "markdown",
   "metadata": {},
   "source": [
    "## 1. Визуализируем корреляцию между признаками с помощью headmap"
   ]
  },
  {
   "cell_type": "code",
   "execution_count": 4,
   "metadata": {},
   "outputs": [
    {
     "name": "stdout",
     "output_type": "stream",
     "text": [
      "(1037, 13)\n"
     ]
    }
   ],
   "source": [
    "DataSet=DataSet.dropna()\n",
    "print(DataSet.shape)"
   ]
  },
  {
   "cell_type": "code",
   "execution_count": 5,
   "metadata": {},
   "outputs": [],
   "source": [
    "DataSetNotString5=DataSet.drop([0])"
   ]
  },
  {
   "cell_type": "code",
   "execution_count": 6,
   "metadata": {},
   "outputs": [],
   "source": [
    "DataSetNotString=DataSetNotString5.drop(['Model'], axis='columns')"
   ]
  },
  {
   "cell_type": "code",
   "execution_count": 7,
   "metadata": {},
   "outputs": [],
   "source": [
    "DataSetNotString=DataSetNotString.astype(float)"
   ]
  },
  {
   "cell_type": "code",
   "execution_count": 8,
   "metadata": {},
   "outputs": [
    {
     "data": {
      "text/plain": [
       "<AxesSubplot:>"
      ]
     },
     "execution_count": 8,
     "metadata": {},
     "output_type": "execute_result"
    },
    {
     "data": {
      "image/png": "[encoded data removed]",
      "text/plain": [
       "<Figure size 432x288 with 2 Axes>"
      ]
     },
     "metadata": {
      "needs_background": "light"
     },
     "output_type": "display_data"
    }
   ],
   "source": [
    "sns.heatmap(DataSetNotString.corr())"
   ]
  },
  {
   "cell_type": "markdown",
   "metadata": {},
   "source": [
    "### Вывод. \n",
    "### Высокая степень корреляции наблюдается мужду:\n",
    "- годом выпуска и макс. разрешением;\n",
    "- годом выпуска и мин. разрешением;\n",
    "- годом выпуска и эффективными пикселями;\n",
    "- попарная корреляция между макс. разрешением, мин. разрешением и эффективными пикселями;\n",
    "- весом и шириной зума;\n",
    "- весом и размером."
   ]
  },
  {
   "cell_type": "markdown",
   "metadata": {},
   "source": [
    "## 2 Вычислим корреляцию Пирсона и Спирмена между Price и Max (Min) Resolution. "
   ]
  },
  {
   "cell_type": "markdown",
   "metadata": {},
   "source": [
    "#### Корреляция Пирсона:"
   ]
  },
  {
   "cell_type": "code",
   "execution_count": 9,
   "metadata": {},
   "outputs": [
    {
     "data": {
      "text/html": [
       "<div>\n",
       "<style scoped>\n",
       "    .dataframe tbody tr th:only-of-type {\n",
       "        vertical-align: middle;\n",
       "    }\n",
       "\n",
       "    .dataframe tbody tr th {\n",
       "        vertical-align: top;\n",
       "    }\n",
       "\n",
       "    .dataframe thead th {\n",
       "        text-align: right;\n",
       "    }\n",
       "</style>\n",
       "<table border=\"1\" class=\"dataframe\">\n",
       "  <thead>\n",
       "    <tr style=\"text-align: right;\">\n",
       "      <th></th>\n",
       "      <th>Price</th>\n",
       "      <th>Max resolution</th>\n",
       "      <th>Low resolution</th>\n",
       "    </tr>\n",
       "  </thead>\n",
       "  <tbody>\n",
       "    <tr>\n",
       "      <th>Price</th>\n",
       "      <td>1.000000</td>\n",
       "      <td>0.184201</td>\n",
       "      <td>0.154204</td>\n",
       "    </tr>\n",
       "    <tr>\n",
       "      <th>Max resolution</th>\n",
       "      <td>0.184201</td>\n",
       "      <td>1.000000</td>\n",
       "      <td>0.842790</td>\n",
       "    </tr>\n",
       "    <tr>\n",
       "      <th>Low resolution</th>\n",
       "      <td>0.154204</td>\n",
       "      <td>0.842790</td>\n",
       "      <td>1.000000</td>\n",
       "    </tr>\n",
       "  </tbody>\n",
       "</table>\n",
       "</div>"
      ],
      "text/plain": [
       "                   Price  Max resolution  Low resolution\n",
       "Price           1.000000        0.184201        0.154204\n",
       "Max resolution  0.184201        1.000000        0.842790\n",
       "Low resolution  0.154204        0.842790        1.000000"
      ]
     },
     "execution_count": 9,
     "metadata": {},
     "output_type": "execute_result"
    }
   ],
   "source": [
    "l=['Price','Max resolution','Low resolution']\n",
    "P=DataSetNotString[l].corr(method='pearson')\n",
    "P"
   ]
  },
  {
   "cell_type": "markdown",
   "metadata": {},
   "source": [
    "#### Корреляция Спирмена:"
   ]
  },
  {
   "cell_type": "code",
   "execution_count": 10,
   "metadata": {},
   "outputs": [
    {
     "data": {
      "text/html": [
       "<div>\n",
       "<style scoped>\n",
       "    .dataframe tbody tr th:only-of-type {\n",
       "        vertical-align: middle;\n",
       "    }\n",
       "\n",
       "    .dataframe tbody tr th {\n",
       "        vertical-align: top;\n",
       "    }\n",
       "\n",
       "    .dataframe thead th {\n",
       "        text-align: right;\n",
       "    }\n",
       "</style>\n",
       "<table border=\"1\" class=\"dataframe\">\n",
       "  <thead>\n",
       "    <tr style=\"text-align: right;\">\n",
       "      <th></th>\n",
       "      <th>Price</th>\n",
       "      <th>Max resolution</th>\n",
       "      <th>Low resolution</th>\n",
       "    </tr>\n",
       "  </thead>\n",
       "  <tbody>\n",
       "    <tr>\n",
       "      <th>Price</th>\n",
       "      <td>1.000000</td>\n",
       "      <td>0.101815</td>\n",
       "      <td>0.150730</td>\n",
       "    </tr>\n",
       "    <tr>\n",
       "      <th>Max resolution</th>\n",
       "      <td>0.101815</td>\n",
       "      <td>1.000000</td>\n",
       "      <td>0.882074</td>\n",
       "    </tr>\n",
       "    <tr>\n",
       "      <th>Low resolution</th>\n",
       "      <td>0.150730</td>\n",
       "      <td>0.882074</td>\n",
       "      <td>1.000000</td>\n",
       "    </tr>\n",
       "  </tbody>\n",
       "</table>\n",
       "</div>"
      ],
      "text/plain": [
       "                   Price  Max resolution  Low resolution\n",
       "Price           1.000000        0.101815        0.150730\n",
       "Max resolution  0.101815        1.000000        0.882074\n",
       "Low resolution  0.150730        0.882074        1.000000"
      ]
     },
     "execution_count": 10,
     "metadata": {},
     "output_type": "execute_result"
    }
   ],
   "source": [
    "Sp=DataSetNotString[l].corr(method='spearman')\n",
    "Sp"
   ]
  },
  {
   "cell_type": "markdown",
   "metadata": {},
   "source": [
    "### Коэффициенты корреляции Пирсона и Спирмена находятся на низких значениях, а значит степень корреляции мала."
   ]
  },
  {
   "cell_type": "markdown",
   "metadata": {},
   "source": [
    "## Построим гистограммы для данных признаков"
   ]
  },
  {
   "cell_type": "code",
   "execution_count": 11,
   "metadata": {},
   "outputs": [
    {
     "data": {
      "text/plain": [
       "<AxesSubplot:xlabel='Price'>"
      ]
     },
     "execution_count": 11,
     "metadata": {},
     "output_type": "execute_result"
    },
    {
     "data": {
      "image/png": "[encoded data removed]",
      "text/plain": [
       "<Figure size 432x288 with 1 Axes>"
      ]
     },
     "metadata": {
      "needs_background": "light"
     },
     "output_type": "display_data"
    }
   ],
   "source": [
    "l1=['Max resolution','Low resolution']\n",
    "DataSetNotString[l].groupby('Price').mean().plot(kind='bar',rot=45)"
   ]
  },
  {
   "cell_type": "markdown",
   "metadata": {},
   "source": [
    "## 3. Построим график изменения средней цены на камеры по годам."
   ]
  },
  {
   "cell_type": "code",
   "execution_count": 12,
   "metadata": {},
   "outputs": [
    {
     "data": {
      "text/html": [
       "<div>\n",
       "<style scoped>\n",
       "    .dataframe tbody tr th:only-of-type {\n",
       "        vertical-align: middle;\n",
       "    }\n",
       "\n",
       "    .dataframe tbody tr th {\n",
       "        vertical-align: top;\n",
       "    }\n",
       "\n",
       "    .dataframe thead th {\n",
       "        text-align: right;\n",
       "    }\n",
       "</style>\n",
       "<table border=\"1\" class=\"dataframe\">\n",
       "  <thead>\n",
       "    <tr style=\"text-align: right;\">\n",
       "      <th></th>\n",
       "      <th>Max resolution</th>\n",
       "      <th>Low resolution</th>\n",
       "      <th>Effective pixels</th>\n",
       "      <th>Zoom wide (W)</th>\n",
       "      <th>Zoom tele (T)</th>\n",
       "      <th>Normal focus range</th>\n",
       "      <th>Macro focus range</th>\n",
       "      <th>Storage included</th>\n",
       "      <th>Weight (inc. batteries)</th>\n",
       "      <th>Dimensions</th>\n",
       "      <th>Price</th>\n",
       "    </tr>\n",
       "    <tr>\n",
       "      <th>Release date</th>\n",
       "      <th></th>\n",
       "      <th></th>\n",
       "      <th></th>\n",
       "      <th></th>\n",
       "      <th></th>\n",
       "      <th></th>\n",
       "      <th></th>\n",
       "      <th></th>\n",
       "      <th></th>\n",
       "      <th></th>\n",
       "      <th></th>\n",
       "    </tr>\n",
       "  </thead>\n",
       "  <tbody>\n",
       "    <tr>\n",
       "      <th>1994.0</th>\n",
       "      <td>1524.000000</td>\n",
       "      <td>0.000000</td>\n",
       "      <td>1.000000</td>\n",
       "      <td>0.000000</td>\n",
       "      <td>0.000000</td>\n",
       "      <td>0.000000</td>\n",
       "      <td>0.000000</td>\n",
       "      <td>0.000000</td>\n",
       "      <td>1700.000000</td>\n",
       "      <td>170.000000</td>\n",
       "      <td>129.000000</td>\n",
       "    </tr>\n",
       "    <tr>\n",
       "      <th>1995.0</th>\n",
       "      <td>3060.000000</td>\n",
       "      <td>0.000000</td>\n",
       "      <td>6.000000</td>\n",
       "      <td>0.000000</td>\n",
       "      <td>0.000000</td>\n",
       "      <td>0.000000</td>\n",
       "      <td>0.000000</td>\n",
       "      <td>0.000000</td>\n",
       "      <td>1700.000000</td>\n",
       "      <td>170.000000</td>\n",
       "      <td>129.000000</td>\n",
       "    </tr>\n",
       "    <tr>\n",
       "      <th>1996.0</th>\n",
       "      <td>784.000000</td>\n",
       "      <td>448.000000</td>\n",
       "      <td>0.000000</td>\n",
       "      <td>42.250000</td>\n",
       "      <td>57.000000</td>\n",
       "      <td>56.250000</td>\n",
       "      <td>14.750000</td>\n",
       "      <td>3.250000</td>\n",
       "      <td>347.500000</td>\n",
       "      <td>153.000000</td>\n",
       "      <td>554.000000</td>\n",
       "    </tr>\n",
       "    <tr>\n",
       "      <th>1997.0</th>\n",
       "      <td>849.454545</td>\n",
       "      <td>378.181818</td>\n",
       "      <td>0.181818</td>\n",
       "      <td>41.636364</td>\n",
       "      <td>70.727273</td>\n",
       "      <td>51.454545</td>\n",
       "      <td>19.545455</td>\n",
       "      <td>2.545455</td>\n",
       "      <td>311.818182</td>\n",
       "      <td>113.454545</td>\n",
       "      <td>367.181818</td>\n",
       "    </tr>\n",
       "    <tr>\n",
       "      <th>1998.0</th>\n",
       "      <td>1282.500000</td>\n",
       "      <td>546.000000</td>\n",
       "      <td>0.906250</td>\n",
       "      <td>31.875000</td>\n",
       "      <td>86.500000</td>\n",
       "      <td>43.968750</td>\n",
       "      <td>10.250000</td>\n",
       "      <td>4.781250</td>\n",
       "      <td>515.625000</td>\n",
       "      <td>122.531250</td>\n",
       "      <td>382.750000</td>\n",
       "    </tr>\n",
       "    <tr>\n",
       "      <th>1999.0</th>\n",
       "      <td>1470.339623</td>\n",
       "      <td>716.075472</td>\n",
       "      <td>1.132075</td>\n",
       "      <td>33.509434</td>\n",
       "      <td>89.207547</td>\n",
       "      <td>45.886792</td>\n",
       "      <td>10.339623</td>\n",
       "      <td>7.679245</td>\n",
       "      <td>429.433962</td>\n",
       "      <td>117.132075</td>\n",
       "      <td>349.641509</td>\n",
       "    </tr>\n",
       "    <tr>\n",
       "      <th>2000.0</th>\n",
       "      <td>1796.590164</td>\n",
       "      <td>1049.901639</td>\n",
       "      <td>1.901639</td>\n",
       "      <td>34.049180</td>\n",
       "      <td>111.786885</td>\n",
       "      <td>47.868852</td>\n",
       "      <td>9.540984</td>\n",
       "      <td>10.475410</td>\n",
       "      <td>399.737705</td>\n",
       "      <td>108.049180</td>\n",
       "      <td>482.442623</td>\n",
       "    </tr>\n",
       "    <tr>\n",
       "      <th>2001.0</th>\n",
       "      <td>1866.647059</td>\n",
       "      <td>1116.611765</td>\n",
       "      <td>2.094118</td>\n",
       "      <td>34.647059</td>\n",
       "      <td>104.952941</td>\n",
       "      <td>49.929412</td>\n",
       "      <td>9.011765</td>\n",
       "      <td>11.305882</td>\n",
       "      <td>410.141176</td>\n",
       "      <td>115.629412</td>\n",
       "      <td>635.188235</td>\n",
       "    </tr>\n",
       "    <tr>\n",
       "      <th>2002.0</th>\n",
       "      <td>2095.595506</td>\n",
       "      <td>1390.764045</td>\n",
       "      <td>2.741573</td>\n",
       "      <td>33.977528</td>\n",
       "      <td>105.853933</td>\n",
       "      <td>46.157303</td>\n",
       "      <td>9.988764</td>\n",
       "      <td>16.089888</td>\n",
       "      <td>340.685393</td>\n",
       "      <td>106.011236</td>\n",
       "      <td>552.370787</td>\n",
       "    </tr>\n",
       "    <tr>\n",
       "      <th>2003.0</th>\n",
       "      <td>2263.732673</td>\n",
       "      <td>1484.653465</td>\n",
       "      <td>3.465347</td>\n",
       "      <td>33.643564</td>\n",
       "      <td>118.188119</td>\n",
       "      <td>46.227723</td>\n",
       "      <td>11.306931</td>\n",
       "      <td>16.158416</td>\n",
       "      <td>295.980198</td>\n",
       "      <td>102.747525</td>\n",
       "      <td>413.316832</td>\n",
       "    </tr>\n",
       "    <tr>\n",
       "      <th>2004.0</th>\n",
       "      <td>2535.042553</td>\n",
       "      <td>1836.510638</td>\n",
       "      <td>4.617021</td>\n",
       "      <td>32.886525</td>\n",
       "      <td>123.510638</td>\n",
       "      <td>44.914894</td>\n",
       "      <td>7.312057</td>\n",
       "      <td>18.191489</td>\n",
       "      <td>297.879433</td>\n",
       "      <td>102.028369</td>\n",
       "      <td>507.673759</td>\n",
       "    </tr>\n",
       "    <tr>\n",
       "      <th>2005.0</th>\n",
       "      <td>2754.678322</td>\n",
       "      <td>2180.769231</td>\n",
       "      <td>5.545455</td>\n",
       "      <td>32.615385</td>\n",
       "      <td>130.195804</td>\n",
       "      <td>39.475524</td>\n",
       "      <td>5.944056</td>\n",
       "      <td>20.447552</td>\n",
       "      <td>273.720280</td>\n",
       "      <td>100.832168</td>\n",
       "      <td>448.930070</td>\n",
       "    </tr>\n",
       "    <tr>\n",
       "      <th>2006.0</th>\n",
       "      <td>3015.631579</td>\n",
       "      <td>2408.526316</td>\n",
       "      <td>6.703947</td>\n",
       "      <td>30.907895</td>\n",
       "      <td>134.842105</td>\n",
       "      <td>36.750000</td>\n",
       "      <td>4.782895</td>\n",
       "      <td>17.875000</td>\n",
       "      <td>277.875000</td>\n",
       "      <td>102.618421</td>\n",
       "      <td>369.177632</td>\n",
       "    </tr>\n",
       "    <tr>\n",
       "      <th>2007.0</th>\n",
       "      <td>3289.790123</td>\n",
       "      <td>2517.283951</td>\n",
       "      <td>8.061728</td>\n",
       "      <td>32.567901</td>\n",
       "      <td>146.858025</td>\n",
       "      <td>46.839506</td>\n",
       "      <td>5.734568</td>\n",
       "      <td>28.425926</td>\n",
       "      <td>249.617284</td>\n",
       "      <td>99.953704</td>\n",
       "      <td>437.623457</td>\n",
       "    </tr>\n",
       "  </tbody>\n",
       "</table>\n",
       "</div>"
      ],
      "text/plain": [
       "              Max resolution  Low resolution  Effective pixels  Zoom wide (W)  \\\n",
       "Release date                                                                    \n",
       "1994.0           1524.000000        0.000000          1.000000       0.000000   \n",
       "1995.0           3060.000000        0.000000          6.000000       0.000000   \n",
       "1996.0            784.000000      448.000000          0.000000      42.250000   \n",
       "1997.0            849.454545      378.181818          0.181818      41.636364   \n",
       "1998.0           1282.500000      546.000000          0.906250      31.875000   \n",
       "1999.0           1470.339623      716.075472          1.132075      33.509434   \n",
       "2000.0           1796.590164     1049.901639          1.901639      34.049180   \n",
       "2001.0           1866.647059     1116.611765          2.094118      34.647059   \n",
       "2002.0           2095.595506     1390.764045          2.741573      33.977528   \n",
       "2003.0           2263.732673     1484.653465          3.465347      33.643564   \n",
       "2004.0           2535.042553     1836.510638          4.617021      32.886525   \n",
       "2005.0           2754.678322     2180.769231          5.545455      32.615385   \n",
       "2006.0           3015.631579     2408.526316          6.703947      30.907895   \n",
       "2007.0           3289.790123     2517.283951          8.061728      32.567901   \n",
       "\n",
       "              Zoom tele (T)  Normal focus range  Macro focus range  \\\n",
       "Release date                                                         \n",
       "1994.0             0.000000            0.000000           0.000000   \n",
       "1995.0             0.000000            0.000000           0.000000   \n",
       "1996.0            57.000000           56.250000          14.750000   \n",
       "1997.0            70.727273           51.454545          19.545455   \n",
       "1998.0            86.500000           43.968750          10.250000   \n",
       "1999.0            89.207547           45.886792          10.339623   \n",
       "2000.0           111.786885           47.868852           9.540984   \n",
       "2001.0           104.952941           49.929412           9.011765   \n",
       "2002.0           105.853933           46.157303           9.988764   \n",
       "2003.0           118.188119           46.227723          11.306931   \n",
       "2004.0           123.510638           44.914894           7.312057   \n",
       "2005.0           130.195804           39.475524           5.944056   \n",
       "2006.0           134.842105           36.750000           4.782895   \n",
       "2007.0           146.858025           46.839506           5.734568   \n",
       "\n",
       "              Storage included  Weight (inc. batteries)  Dimensions  \\\n",
       "Release date                                                          \n",
       "1994.0                0.000000              1700.000000  170.000000   \n",
       "1995.0                0.000000              1700.000000  170.000000   \n",
       "1996.0                3.250000               347.500000  153.000000   \n",
       "1997.0                2.545455               311.818182  113.454545   \n",
       "1998.0                4.781250               515.625000  122.531250   \n",
       "1999.0                7.679245               429.433962  117.132075   \n",
       "2000.0               10.475410               399.737705  108.049180   \n",
       "2001.0               11.305882               410.141176  115.629412   \n",
       "2002.0               16.089888               340.685393  106.011236   \n",
       "2003.0               16.158416               295.980198  102.747525   \n",
       "2004.0               18.191489               297.879433  102.028369   \n",
       "2005.0               20.447552               273.720280  100.832168   \n",
       "2006.0               17.875000               277.875000  102.618421   \n",
       "2007.0               28.425926               249.617284   99.953704   \n",
       "\n",
       "                   Price  \n",
       "Release date              \n",
       "1994.0        129.000000  \n",
       "1995.0        129.000000  \n",
       "1996.0        554.000000  \n",
       "1997.0        367.181818  \n",
       "1998.0        382.750000  \n",
       "1999.0        349.641509  \n",
       "2000.0        482.442623  \n",
       "2001.0        635.188235  \n",
       "2002.0        552.370787  \n",
       "2003.0        413.316832  \n",
       "2004.0        507.673759  \n",
       "2005.0        448.930070  \n",
       "2006.0        369.177632  \n",
       "2007.0        437.623457  "
      ]
     },
     "execution_count": 12,
     "metadata": {},
     "output_type": "execute_result"
    }
   ],
   "source": [
    "DataSetNotString1=DataSetNotString.astype(float)\n",
    "RelPr=DataSetNotString1.groupby('Release date').mean()\n",
    "RelPr"
   ]
  },
  {
   "cell_type": "code",
   "execution_count": 13,
   "metadata": {},
   "outputs": [
    {
     "data": {
      "text/plain": [
       "<AxesSubplot:xlabel='Release date'>"
      ]
     },
     "execution_count": 13,
     "metadata": {},
     "output_type": "execute_result"
    },
    {
     "data": {
      "image/png": "[encoded data removed]",
      "text/plain": [
       "<Figure size 432x288 with 1 Axes>"
      ]
     },
     "metadata": {
      "needs_background": "light"
     },
     "output_type": "display_data"
    }
   ],
   "source": [
    "RelPr['Price'].plot()"
   ]
  },
  {
   "cell_type": "markdown",
   "metadata": {},
   "source": [
    "## 4. . Определим компанию, камеры которой наиболее часто встречаются в наборе данных."
   ]
  },
  {
   "cell_type": "code",
   "execution_count": 14,
   "metadata": {},
   "outputs": [],
   "source": [
    "def get_name_company(Model):\n",
    "    return Model.split(' ')[0].strip()\n",
    "\n",
    "name_company=DataSet['Model'].apply(get_name_company)\n",
    "DataSet['Name company']=name_company"
   ]
  },
  {
   "cell_type": "code",
   "execution_count": 15,
   "metadata": {},
   "outputs": [],
   "source": [
    "DatCount=DataSet.groupby('Name company').count()"
   ]
  },
  {
   "cell_type": "code",
   "execution_count": 16,
   "metadata": {},
   "outputs": [
    {
     "data": {
      "text/html": [
       "<div>\n",
       "<style scoped>\n",
       "    .dataframe tbody tr th:only-of-type {\n",
       "        vertical-align: middle;\n",
       "    }\n",
       "\n",
       "    .dataframe tbody tr th {\n",
       "        vertical-align: top;\n",
       "    }\n",
       "\n",
       "    .dataframe thead th {\n",
       "        text-align: right;\n",
       "    }\n",
       "</style>\n",
       "<table border=\"1\" class=\"dataframe\">\n",
       "  <thead>\n",
       "    <tr style=\"text-align: right;\">\n",
       "      <th></th>\n",
       "      <th>Model</th>\n",
       "      <th>Release date</th>\n",
       "      <th>Max resolution</th>\n",
       "      <th>Low resolution</th>\n",
       "      <th>Effective pixels</th>\n",
       "      <th>Zoom wide (W)</th>\n",
       "      <th>Zoom tele (T)</th>\n",
       "      <th>Normal focus range</th>\n",
       "      <th>Macro focus range</th>\n",
       "      <th>Storage included</th>\n",
       "      <th>Weight (inc. batteries)</th>\n",
       "      <th>Dimensions</th>\n",
       "      <th>Price</th>\n",
       "    </tr>\n",
       "    <tr>\n",
       "      <th>Name company</th>\n",
       "      <th></th>\n",
       "      <th></th>\n",
       "      <th></th>\n",
       "      <th></th>\n",
       "      <th></th>\n",
       "      <th></th>\n",
       "      <th></th>\n",
       "      <th></th>\n",
       "      <th></th>\n",
       "      <th></th>\n",
       "      <th></th>\n",
       "      <th></th>\n",
       "      <th></th>\n",
       "    </tr>\n",
       "  </thead>\n",
       "  <tbody>\n",
       "    <tr>\n",
       "      <th>Olympus</th>\n",
       "      <td>122</td>\n",
       "      <td>122</td>\n",
       "      <td>122</td>\n",
       "      <td>122</td>\n",
       "      <td>122</td>\n",
       "      <td>122</td>\n",
       "      <td>122</td>\n",
       "      <td>122</td>\n",
       "      <td>122</td>\n",
       "      <td>122</td>\n",
       "      <td>122</td>\n",
       "      <td>122</td>\n",
       "      <td>122</td>\n",
       "    </tr>\n",
       "  </tbody>\n",
       "</table>\n",
       "</div>"
      ],
      "text/plain": [
       "              Model  Release date  Max resolution  Low resolution  \\\n",
       "Name company                                                        \n",
       "Olympus         122           122             122             122   \n",
       "\n",
       "              Effective pixels  Zoom wide (W)  Zoom tele (T)  \\\n",
       "Name company                                                   \n",
       "Olympus                    122            122            122   \n",
       "\n",
       "              Normal focus range  Macro focus range  Storage included  \\\n",
       "Name company                                                            \n",
       "Olympus                      122                122               122   \n",
       "\n",
       "              Weight (inc. batteries)  Dimensions  Price  \n",
       "Name company                                              \n",
       "Olympus                           122         122    122  "
      ]
     },
     "execution_count": 16,
     "metadata": {},
     "output_type": "execute_result"
    }
   ],
   "source": [
    "DatCount.loc[DatCount['Dimensions']==DatCount['Dimensions'].max()]"
   ]
  },
  {
   "cell_type": "markdown",
   "metadata": {},
   "source": [
    "### Из приведенного выше следует, что больше всех в таблице встречается компания Olympys"
   ]
  },
  {
   "cell_type": "markdown",
   "metadata": {},
   "source": [
    "## 5. Добавим в набор данных признак, являющийся произведением двух других признаков."
   ]
  },
  {
   "cell_type": "code",
   "execution_count": 17,
   "metadata": {},
   "outputs": [
    {
     "data": {
      "text/html": [
       "<div>\n",
       "<style scoped>\n",
       "    .dataframe tbody tr th:only-of-type {\n",
       "        vertical-align: middle;\n",
       "    }\n",
       "\n",
       "    .dataframe tbody tr th {\n",
       "        vertical-align: top;\n",
       "    }\n",
       "\n",
       "    .dataframe thead th {\n",
       "        text-align: right;\n",
       "    }\n",
       "</style>\n",
       "<table border=\"1\" class=\"dataframe\">\n",
       "  <thead>\n",
       "    <tr style=\"text-align: right;\">\n",
       "      <th></th>\n",
       "      <th>Release date</th>\n",
       "      <th>Max resolution</th>\n",
       "      <th>Low resolution</th>\n",
       "      <th>Effective pixels</th>\n",
       "      <th>Zoom wide (W)</th>\n",
       "      <th>Zoom tele (T)</th>\n",
       "      <th>Normal focus range</th>\n",
       "      <th>Macro focus range</th>\n",
       "      <th>Storage included</th>\n",
       "      <th>Weight (inc. batteries)</th>\n",
       "      <th>Dimensions</th>\n",
       "      <th>Price</th>\n",
       "      <th>Dimensions_Weight</th>\n",
       "    </tr>\n",
       "  </thead>\n",
       "  <tbody>\n",
       "    <tr>\n",
       "      <th>1</th>\n",
       "      <td>1997.0</td>\n",
       "      <td>1024.0</td>\n",
       "      <td>640.0</td>\n",
       "      <td>0.0</td>\n",
       "      <td>38.0</td>\n",
       "      <td>114.0</td>\n",
       "      <td>70.0</td>\n",
       "      <td>40.0</td>\n",
       "      <td>4.0</td>\n",
       "      <td>420.0</td>\n",
       "      <td>95.0</td>\n",
       "      <td>179.0</td>\n",
       "      <td>39900.0</td>\n",
       "    </tr>\n",
       "    <tr>\n",
       "      <th>2</th>\n",
       "      <td>1998.0</td>\n",
       "      <td>1280.0</td>\n",
       "      <td>640.0</td>\n",
       "      <td>1.0</td>\n",
       "      <td>38.0</td>\n",
       "      <td>114.0</td>\n",
       "      <td>50.0</td>\n",
       "      <td>0.0</td>\n",
       "      <td>4.0</td>\n",
       "      <td>420.0</td>\n",
       "      <td>158.0</td>\n",
       "      <td>179.0</td>\n",
       "      <td>66360.0</td>\n",
       "    </tr>\n",
       "    <tr>\n",
       "      <th>3</th>\n",
       "      <td>2000.0</td>\n",
       "      <td>640.0</td>\n",
       "      <td>0.0</td>\n",
       "      <td>0.0</td>\n",
       "      <td>45.0</td>\n",
       "      <td>45.0</td>\n",
       "      <td>0.0</td>\n",
       "      <td>0.0</td>\n",
       "      <td>2.0</td>\n",
       "      <td>0.0</td>\n",
       "      <td>0.0</td>\n",
       "      <td>179.0</td>\n",
       "      <td>0.0</td>\n",
       "    </tr>\n",
       "    <tr>\n",
       "      <th>4</th>\n",
       "      <td>1999.0</td>\n",
       "      <td>1152.0</td>\n",
       "      <td>640.0</td>\n",
       "      <td>0.0</td>\n",
       "      <td>35.0</td>\n",
       "      <td>35.0</td>\n",
       "      <td>0.0</td>\n",
       "      <td>0.0</td>\n",
       "      <td>4.0</td>\n",
       "      <td>0.0</td>\n",
       "      <td>0.0</td>\n",
       "      <td>269.0</td>\n",
       "      <td>0.0</td>\n",
       "    </tr>\n",
       "    <tr>\n",
       "      <th>5</th>\n",
       "      <td>1999.0</td>\n",
       "      <td>1152.0</td>\n",
       "      <td>640.0</td>\n",
       "      <td>0.0</td>\n",
       "      <td>43.0</td>\n",
       "      <td>43.0</td>\n",
       "      <td>50.0</td>\n",
       "      <td>0.0</td>\n",
       "      <td>40.0</td>\n",
       "      <td>300.0</td>\n",
       "      <td>128.0</td>\n",
       "      <td>1299.0</td>\n",
       "      <td>38400.0</td>\n",
       "    </tr>\n",
       "    <tr>\n",
       "      <th>...</th>\n",
       "      <td>...</td>\n",
       "      <td>...</td>\n",
       "      <td>...</td>\n",
       "      <td>...</td>\n",
       "      <td>...</td>\n",
       "      <td>...</td>\n",
       "      <td>...</td>\n",
       "      <td>...</td>\n",
       "      <td>...</td>\n",
       "      <td>...</td>\n",
       "      <td>...</td>\n",
       "      <td>...</td>\n",
       "      <td>...</td>\n",
       "    </tr>\n",
       "    <tr>\n",
       "      <th>1034</th>\n",
       "      <td>2001.0</td>\n",
       "      <td>2048.0</td>\n",
       "      <td>1024.0</td>\n",
       "      <td>3.0</td>\n",
       "      <td>38.0</td>\n",
       "      <td>114.0</td>\n",
       "      <td>10.0</td>\n",
       "      <td>10.0</td>\n",
       "      <td>8.0</td>\n",
       "      <td>320.0</td>\n",
       "      <td>120.0</td>\n",
       "      <td>62.0</td>\n",
       "      <td>38400.0</td>\n",
       "    </tr>\n",
       "    <tr>\n",
       "      <th>1035</th>\n",
       "      <td>2000.0</td>\n",
       "      <td>2048.0</td>\n",
       "      <td>1024.0</td>\n",
       "      <td>3.0</td>\n",
       "      <td>35.0</td>\n",
       "      <td>105.0</td>\n",
       "      <td>80.0</td>\n",
       "      <td>9.0</td>\n",
       "      <td>16.0</td>\n",
       "      <td>390.0</td>\n",
       "      <td>116.0</td>\n",
       "      <td>62.0</td>\n",
       "      <td>45240.0</td>\n",
       "    </tr>\n",
       "    <tr>\n",
       "      <th>1036</th>\n",
       "      <td>2001.0</td>\n",
       "      <td>2048.0</td>\n",
       "      <td>1024.0</td>\n",
       "      <td>3.0</td>\n",
       "      <td>35.0</td>\n",
       "      <td>98.0</td>\n",
       "      <td>80.0</td>\n",
       "      <td>10.0</td>\n",
       "      <td>8.0</td>\n",
       "      <td>340.0</td>\n",
       "      <td>107.0</td>\n",
       "      <td>62.0</td>\n",
       "      <td>36380.0</td>\n",
       "    </tr>\n",
       "    <tr>\n",
       "      <th>1037</th>\n",
       "      <td>2001.0</td>\n",
       "      <td>2400.0</td>\n",
       "      <td>1200.0</td>\n",
       "      <td>3.0</td>\n",
       "      <td>35.0</td>\n",
       "      <td>98.0</td>\n",
       "      <td>80.0</td>\n",
       "      <td>10.0</td>\n",
       "      <td>16.0</td>\n",
       "      <td>340.0</td>\n",
       "      <td>107.0</td>\n",
       "      <td>62.0</td>\n",
       "      <td>36380.0</td>\n",
       "    </tr>\n",
       "    <tr>\n",
       "      <th>1038</th>\n",
       "      <td>2002.0</td>\n",
       "      <td>1600.0</td>\n",
       "      <td>800.0</td>\n",
       "      <td>1.0</td>\n",
       "      <td>38.0</td>\n",
       "      <td>38.0</td>\n",
       "      <td>40.0</td>\n",
       "      <td>20.0</td>\n",
       "      <td>8.0</td>\n",
       "      <td>180.0</td>\n",
       "      <td>86.0</td>\n",
       "      <td>129.0</td>\n",
       "      <td>15480.0</td>\n",
       "    </tr>\n",
       "  </tbody>\n",
       "</table>\n",
       "<p>1036 rows × 13 columns</p>\n",
       "</div>"
      ],
      "text/plain": [
       "      Release date  Max resolution  Low resolution  Effective pixels  \\\n",
       "1           1997.0          1024.0           640.0               0.0   \n",
       "2           1998.0          1280.0           640.0               1.0   \n",
       "3           2000.0           640.0             0.0               0.0   \n",
       "4           1999.0          1152.0           640.0               0.0   \n",
       "5           1999.0          1152.0           640.0               0.0   \n",
       "...            ...             ...             ...               ...   \n",
       "1034        2001.0          2048.0          1024.0               3.0   \n",
       "1035        2000.0          2048.0          1024.0               3.0   \n",
       "1036        2001.0          2048.0          1024.0               3.0   \n",
       "1037        2001.0          2400.0          1200.0               3.0   \n",
       "1038        2002.0          1600.0           800.0               1.0   \n",
       "\n",
       "      Zoom wide (W)  Zoom tele (T)  Normal focus range  Macro focus range  \\\n",
       "1              38.0          114.0                70.0               40.0   \n",
       "2              38.0          114.0                50.0                0.0   \n",
       "3              45.0           45.0                 0.0                0.0   \n",
       "4              35.0           35.0                 0.0                0.0   \n",
       "5              43.0           43.0                50.0                0.0   \n",
       "...             ...            ...                 ...                ...   \n",
       "1034           38.0          114.0                10.0               10.0   \n",
       "1035           35.0          105.0                80.0                9.0   \n",
       "1036           35.0           98.0                80.0               10.0   \n",
       "1037           35.0           98.0                80.0               10.0   \n",
       "1038           38.0           38.0                40.0               20.0   \n",
       "\n",
       "      Storage included  Weight (inc. batteries)  Dimensions   Price  \\\n",
       "1                  4.0                    420.0        95.0   179.0   \n",
       "2                  4.0                    420.0       158.0   179.0   \n",
       "3                  2.0                      0.0         0.0   179.0   \n",
       "4                  4.0                      0.0         0.0   269.0   \n",
       "5                 40.0                    300.0       128.0  1299.0   \n",
       "...                ...                      ...         ...     ...   \n",
       "1034               8.0                    320.0       120.0    62.0   \n",
       "1035              16.0                    390.0       116.0    62.0   \n",
       "1036               8.0                    340.0       107.0    62.0   \n",
       "1037              16.0                    340.0       107.0    62.0   \n",
       "1038               8.0                    180.0        86.0   129.0   \n",
       "\n",
       "      Dimensions_Weight  \n",
       "1               39900.0  \n",
       "2               66360.0  \n",
       "3                   0.0  \n",
       "4                   0.0  \n",
       "5               38400.0  \n",
       "...                 ...  \n",
       "1034            38400.0  \n",
       "1035            45240.0  \n",
       "1036            36380.0  \n",
       "1037            36380.0  \n",
       "1038            15480.0  \n",
       "\n",
       "[1036 rows x 13 columns]"
      ]
     },
     "execution_count": 17,
     "metadata": {},
     "output_type": "execute_result"
    }
   ],
   "source": [
    "DataSetNotString1['Dimensions_Weight']=DataSetNotString1['Dimensions']*DataSetNotString1['Weight (inc. batteries)']\n",
    "DataSetNotString1"
   ]
  },
  {
   "cell_type": "markdown",
   "metadata": {},
   "source": [
    "## 6. Удалите строки с нулевыми значениями в данных. Выведите размер набора данных до и после удаления."
   ]
  },
  {
   "cell_type": "code",
   "execution_count": 18,
   "metadata": {},
   "outputs": [
    {
     "name": "stdout",
     "output_type": "stream",
     "text": [
      "(1039, 13)\n"
     ]
    }
   ],
   "source": [
    "DataSet2=pd.read_csv('camera_dataset.csv')\n",
    "print(DataSet2.shape)"
   ]
  },
  {
   "cell_type": "code",
   "execution_count": 19,
   "metadata": {},
   "outputs": [
    {
     "name": "stdout",
     "output_type": "stream",
     "text": [
      "(1037, 13)\n"
     ]
    }
   ],
   "source": [
    "DataSet2=DataSet2.dropna()\n",
    "print(DataSet2.shape)"
   ]
  },
  {
   "cell_type": "markdown",
   "metadata": {},
   "source": [
    "## 7.Определите камеру с максимальной стоимостью, определите камеру с минимальной стоимостью."
   ]
  },
  {
   "cell_type": "code",
   "execution_count": 20,
   "metadata": {},
   "outputs": [
    {
     "data": {
      "text/plain": [
       "53             Canon EOS-1Ds\n",
       "54     Canon EOS-1Ds Mark II\n",
       "55    Canon EOS-1Ds Mark III\n",
       "Name: Model, dtype: object"
      ]
     },
     "execution_count": 20,
     "metadata": {},
     "output_type": "execute_result"
    }
   ],
   "source": [
    "DataSetNotString1['Model']=DataSetNotString5['Model']\n",
    "DataSetNotString1['Model'].loc[DataSetNotString1['Price']==DataSetNotString1['Price'].max()]"
   ]
  },
  {
   "cell_type": "markdown",
   "metadata": {},
   "source": [
    "## 8. Определим год, в который было выпущено максимально количество новых камер."
   ]
  },
  {
   "cell_type": "code",
   "execution_count": 21,
   "metadata": {},
   "outputs": [],
   "source": [
    "vv=DataSetNotString1.groupby('Release date').count()"
   ]
  },
  {
   "cell_type": "code",
   "execution_count": 22,
   "metadata": {},
   "outputs": [
    {
     "data": {
      "text/html": [
       "<div>\n",
       "<style scoped>\n",
       "    .dataframe tbody tr th:only-of-type {\n",
       "        vertical-align: middle;\n",
       "    }\n",
       "\n",
       "    .dataframe tbody tr th {\n",
       "        vertical-align: top;\n",
       "    }\n",
       "\n",
       "    .dataframe thead th {\n",
       "        text-align: right;\n",
       "    }\n",
       "</style>\n",
       "<table border=\"1\" class=\"dataframe\">\n",
       "  <thead>\n",
       "    <tr style=\"text-align: right;\">\n",
       "      <th></th>\n",
       "      <th>Max resolution</th>\n",
       "      <th>Low resolution</th>\n",
       "      <th>Effective pixels</th>\n",
       "      <th>Zoom wide (W)</th>\n",
       "      <th>Zoom tele (T)</th>\n",
       "      <th>Normal focus range</th>\n",
       "      <th>Macro focus range</th>\n",
       "      <th>Storage included</th>\n",
       "      <th>Weight (inc. batteries)</th>\n",
       "      <th>Dimensions</th>\n",
       "      <th>Price</th>\n",
       "      <th>Dimensions_Weight</th>\n",
       "      <th>Model</th>\n",
       "    </tr>\n",
       "    <tr>\n",
       "      <th>Release date</th>\n",
       "      <th></th>\n",
       "      <th></th>\n",
       "      <th></th>\n",
       "      <th></th>\n",
       "      <th></th>\n",
       "      <th></th>\n",
       "      <th></th>\n",
       "      <th></th>\n",
       "      <th></th>\n",
       "      <th></th>\n",
       "      <th></th>\n",
       "      <th></th>\n",
       "      <th></th>\n",
       "    </tr>\n",
       "  </thead>\n",
       "  <tbody>\n",
       "    <tr>\n",
       "      <th>2007.0</th>\n",
       "      <td>162</td>\n",
       "      <td>162</td>\n",
       "      <td>162</td>\n",
       "      <td>162</td>\n",
       "      <td>162</td>\n",
       "      <td>162</td>\n",
       "      <td>162</td>\n",
       "      <td>162</td>\n",
       "      <td>162</td>\n",
       "      <td>162</td>\n",
       "      <td>162</td>\n",
       "      <td>162</td>\n",
       "      <td>162</td>\n",
       "    </tr>\n",
       "  </tbody>\n",
       "</table>\n",
       "</div>"
      ],
      "text/plain": [
       "              Max resolution  Low resolution  Effective pixels  Zoom wide (W)  \\\n",
       "Release date                                                                    \n",
       "2007.0                   162             162               162            162   \n",
       "\n",
       "              Zoom tele (T)  Normal focus range  Macro focus range  \\\n",
       "Release date                                                         \n",
       "2007.0                  162                 162                162   \n",
       "\n",
       "              Storage included  Weight (inc. batteries)  Dimensions  Price  \\\n",
       "Release date                                                                 \n",
       "2007.0                     162                      162         162    162   \n",
       "\n",
       "              Dimensions_Weight  Model  \n",
       "Release date                            \n",
       "2007.0                      162    162  "
      ]
     },
     "execution_count": 22,
     "metadata": {},
     "output_type": "execute_result"
    }
   ],
   "source": [
    "vv.loc[vv['Dimensions']==vv['Dimensions'].max()]"
   ]
  },
  {
   "cell_type": "markdown",
   "metadata": {},
   "source": [
    "### Максимальное количество камер было выпущенно в 2007 году"
   ]
  }
 ],
 "metadata": {
  "kernelspec": {
   "display_name": "Python 3",
   "language": "python",
   "name": "python3"
  },
  "language_info": {
   "codemirror_mode": {
    "name": "ipython",
    "version": 3
   },
   "file_extension": ".py",
   "mimetype": "text/x-python",
   "name": "python",
   "nbconvert_exporter": "python",
   "pygments_lexer": "ipython3",
   "version": "3.9.1"
  }
 },
 "nbformat": 4,
 "nbformat_minor": 4
}
