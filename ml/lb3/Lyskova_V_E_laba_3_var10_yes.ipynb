{
 "cells": [
  {
   "cell_type": "markdown",
   "metadata": {},
   "source": [
    "# Лабораторная работа №3"
   ]
  },
  {
   "cell_type": "markdown",
   "metadata": {},
   "source": [
    "## Лыскова В.Э. М19-ТС"
   ]
  },
  {
   "cell_type": "markdown",
   "metadata": {},
   "source": [
    "## Вариант №10"
   ]
  },
  {
   "cell_type": "code",
   "execution_count": 2,
   "metadata": {},
   "outputs": [],
   "source": [
    "import pandas as pd\n",
    "import numpy as np\n",
    "from pprint import pprint\n",
    "import matplotlib.pyplot as plt"
   ]
  },
  {
   "cell_type": "markdown",
   "metadata": {},
   "source": [
    "### 1.Изучить набор данных. Создать описание набора данных на русском языке. Описать признаки, используемые в наборе данных (включить полученные описания в отчёт)."
   ]
  },
  {
   "cell_type": "markdown",
   "metadata": {},
   "source": [
    "Информация об атрибуте: (классы: съедобный = e, ядовитый = p)\n",
    "\n",
    "- форма шляпки: раструб = b, коническая = c, выпуклая = x, плоская = f, с выступом = k, утопленная = s\n",
    "\n",
    "- поверхность шляпки: волокнистая = f, бороздки = g, чешуйчатая = y, гладкая = s\n",
    "\n",
    "- цвет шляпки: коричневый = n, бафф = b, корица = c, серый = g, зеленый = r, розовый = p, фиолетовый = u, красный = e, белый = w, желтый = y\n",
    "\n",
    "- пятна: пятна = t, no = f\n",
    "\n",
    "- запах: миндаль = a, анис = l, креозот = c, рыбный = y, неприятный = f, затхлый = m, none = n, острый = p, пряный = s\n",
    "\n",
    "- прикрепление жабр: прикреплено = a, по убыванию = d, свободно = f, с выемкой = n\n",
    "\n",
    "- расстояние между жабрами: близко = c, многолюдно = w, далеко = d\n",
    "\n",
    "- размер жабр: широкая = b, узкая = n\n",
    "\n",
    "- жаберный цвет: черный = k, коричневый = n, бафф = b, шоколад = h, серый = g, зеленый = r, оранжевый = o, розовый = p, фиолетовый = u, красный = e, белый = w, желтый = y\n",
    "\n",
    "- форма стебля: увеличение = e, сужение = t\n",
    "\n",
    "- стебель-корень: луковичный = b, булав = c, чашка = u, равный = e, ризоморфы = z, укоренившийся = r, отсутствующий =?\n",
    "\n",
    "- поверхность стебля над кольцом: волокнистый = f, чешуйчатый = y, шелковистый = k, гладкий = s\n",
    "\n",
    "- поверхность стебля под кольцом: волокнистый = f, чешуйчатый = y, шелковистый = k, гладкий = s\n",
    "\n",
    "- цвет стебля над кольцом: коричневый = n, бафф = b, корица = c, серый = g, оранжевый = o, розовый = p, красный = e, белый = w, желтый = y\n",
    "\n",
    "- цвет стебля под кольцом: коричневый = n, бафф = b, корица = c, серый = g, оранжевый = o, розовый = p, красный = e, белый = w, желтый = y\n",
    "\n",
    "- тип юбки: частичный = p, универсальный = u\n",
    "\n",
    "- цвет юбки: коричневый = n, оранжевый = o, белый = w, желтый = y\n",
    "\n",
    "- номер кольца: none = n, one = o, two = t\n",
    "\n",
    "- кольцевого типа: паутинка = c, непрозрачная = e, развальцовка = f, большая = l, none = n, подвеска = p, оболочка = s, зона = z\n",
    "\n",
    "- цвет споры-печати: черный = k, коричневый = n, бафф = b, шоколад = h, зеленый = r, оранжевый = o, фиолетовый = u, белый = w, желтый = y\n",
    "\n",
    "- популяция: обильная = a, сгруппированная = c, многочисленная = n, разбросанная = s, несколько = v, одиночная = y\n",
    "\n",
    "- среда обитания: травы = g, листья = l, луга = m, тропинки = p, городские = u, отходы = w, леса = d"
   ]
  },
  {
   "cell_type": "code",
   "execution_count": 3,
   "metadata": {},
   "outputs": [
    {
     "name": "stdout",
     "output_type": "stream",
     "text": [
      "Before drop_duplicates: (8124, 23)\n"
     ]
    }
   ],
   "source": [
    "df = pd.read_csv(\"mushrooms.csv\")\n",
    "print(\"Before drop_duplicates:\", df.shape)"
   ]
  },
  {
   "cell_type": "markdown",
   "metadata": {},
   "source": [
    "### 2.Удалите дубликаты строк в наборе данных; приведите размер набора данных до и после данной операции"
   ]
  },
  {
   "cell_type": "code",
   "execution_count": 4,
   "metadata": {},
   "outputs": [
    {
     "name": "stdout",
     "output_type": "stream",
     "text": [
      "After  drop_duplicates: (8124, 23)\n"
     ]
    },
    {
     "data": {
      "text/html": [
       "<div>\n",
       "<style scoped>\n",
       "    .dataframe tbody tr th:only-of-type {\n",
       "        vertical-align: middle;\n",
       "    }\n",
       "\n",
       "    .dataframe tbody tr th {\n",
       "        vertical-align: top;\n",
       "    }\n",
       "\n",
       "    .dataframe thead th {\n",
       "        text-align: right;\n",
       "    }\n",
       "</style>\n",
       "<table border=\"1\" class=\"dataframe\">\n",
       "  <thead>\n",
       "    <tr style=\"text-align: right;\">\n",
       "      <th></th>\n",
       "      <th>class</th>\n",
       "      <th>cap-shape</th>\n",
       "      <th>cap-surface</th>\n",
       "      <th>cap-color</th>\n",
       "      <th>bruises</th>\n",
       "      <th>odor</th>\n",
       "      <th>gill-attachment</th>\n",
       "      <th>gill-spacing</th>\n",
       "      <th>gill-size</th>\n",
       "      <th>gill-color</th>\n",
       "      <th>...</th>\n",
       "      <th>stalk-surface-below-ring</th>\n",
       "      <th>stalk-color-above-ring</th>\n",
       "      <th>stalk-color-below-ring</th>\n",
       "      <th>veil-type</th>\n",
       "      <th>veil-color</th>\n",
       "      <th>ring-number</th>\n",
       "      <th>ring-type</th>\n",
       "      <th>spore-print-color</th>\n",
       "      <th>population</th>\n",
       "      <th>habitat</th>\n",
       "    </tr>\n",
       "  </thead>\n",
       "  <tbody>\n",
       "    <tr>\n",
       "      <th>0</th>\n",
       "      <td>p</td>\n",
       "      <td>x</td>\n",
       "      <td>s</td>\n",
       "      <td>n</td>\n",
       "      <td>t</td>\n",
       "      <td>p</td>\n",
       "      <td>f</td>\n",
       "      <td>c</td>\n",
       "      <td>n</td>\n",
       "      <td>k</td>\n",
       "      <td>...</td>\n",
       "      <td>s</td>\n",
       "      <td>w</td>\n",
       "      <td>w</td>\n",
       "      <td>p</td>\n",
       "      <td>w</td>\n",
       "      <td>o</td>\n",
       "      <td>p</td>\n",
       "      <td>k</td>\n",
       "      <td>s</td>\n",
       "      <td>u</td>\n",
       "    </tr>\n",
       "    <tr>\n",
       "      <th>1</th>\n",
       "      <td>e</td>\n",
       "      <td>x</td>\n",
       "      <td>s</td>\n",
       "      <td>y</td>\n",
       "      <td>t</td>\n",
       "      <td>a</td>\n",
       "      <td>f</td>\n",
       "      <td>c</td>\n",
       "      <td>b</td>\n",
       "      <td>k</td>\n",
       "      <td>...</td>\n",
       "      <td>s</td>\n",
       "      <td>w</td>\n",
       "      <td>w</td>\n",
       "      <td>p</td>\n",
       "      <td>w</td>\n",
       "      <td>o</td>\n",
       "      <td>p</td>\n",
       "      <td>n</td>\n",
       "      <td>n</td>\n",
       "      <td>g</td>\n",
       "    </tr>\n",
       "    <tr>\n",
       "      <th>2</th>\n",
       "      <td>e</td>\n",
       "      <td>b</td>\n",
       "      <td>s</td>\n",
       "      <td>w</td>\n",
       "      <td>t</td>\n",
       "      <td>l</td>\n",
       "      <td>f</td>\n",
       "      <td>c</td>\n",
       "      <td>b</td>\n",
       "      <td>n</td>\n",
       "      <td>...</td>\n",
       "      <td>s</td>\n",
       "      <td>w</td>\n",
       "      <td>w</td>\n",
       "      <td>p</td>\n",
       "      <td>w</td>\n",
       "      <td>o</td>\n",
       "      <td>p</td>\n",
       "      <td>n</td>\n",
       "      <td>n</td>\n",
       "      <td>m</td>\n",
       "    </tr>\n",
       "    <tr>\n",
       "      <th>3</th>\n",
       "      <td>p</td>\n",
       "      <td>x</td>\n",
       "      <td>y</td>\n",
       "      <td>w</td>\n",
       "      <td>t</td>\n",
       "      <td>p</td>\n",
       "      <td>f</td>\n",
       "      <td>c</td>\n",
       "      <td>n</td>\n",
       "      <td>n</td>\n",
       "      <td>...</td>\n",
       "      <td>s</td>\n",
       "      <td>w</td>\n",
       "      <td>w</td>\n",
       "      <td>p</td>\n",
       "      <td>w</td>\n",
       "      <td>o</td>\n",
       "      <td>p</td>\n",
       "      <td>k</td>\n",
       "      <td>s</td>\n",
       "      <td>u</td>\n",
       "    </tr>\n",
       "    <tr>\n",
       "      <th>4</th>\n",
       "      <td>e</td>\n",
       "      <td>x</td>\n",
       "      <td>s</td>\n",
       "      <td>g</td>\n",
       "      <td>f</td>\n",
       "      <td>n</td>\n",
       "      <td>f</td>\n",
       "      <td>w</td>\n",
       "      <td>b</td>\n",
       "      <td>k</td>\n",
       "      <td>...</td>\n",
       "      <td>s</td>\n",
       "      <td>w</td>\n",
       "      <td>w</td>\n",
       "      <td>p</td>\n",
       "      <td>w</td>\n",
       "      <td>o</td>\n",
       "      <td>e</td>\n",
       "      <td>n</td>\n",
       "      <td>a</td>\n",
       "      <td>g</td>\n",
       "    </tr>\n",
       "  </tbody>\n",
       "</table>\n",
       "<p>5 rows × 23 columns</p>\n",
       "</div>"
      ],
      "text/plain": [
       "  class cap-shape cap-surface cap-color bruises odor gill-attachment  \\\n",
       "0     p         x           s         n       t    p               f   \n",
       "1     e         x           s         y       t    a               f   \n",
       "2     e         b           s         w       t    l               f   \n",
       "3     p         x           y         w       t    p               f   \n",
       "4     e         x           s         g       f    n               f   \n",
       "\n",
       "  gill-spacing gill-size gill-color  ... stalk-surface-below-ring  \\\n",
       "0            c         n          k  ...                        s   \n",
       "1            c         b          k  ...                        s   \n",
       "2            c         b          n  ...                        s   \n",
       "3            c         n          n  ...                        s   \n",
       "4            w         b          k  ...                        s   \n",
       "\n",
       "  stalk-color-above-ring stalk-color-below-ring veil-type veil-color  \\\n",
       "0                      w                      w         p          w   \n",
       "1                      w                      w         p          w   \n",
       "2                      w                      w         p          w   \n",
       "3                      w                      w         p          w   \n",
       "4                      w                      w         p          w   \n",
       "\n",
       "  ring-number ring-type spore-print-color population habitat  \n",
       "0           o         p                 k          s       u  \n",
       "1           o         p                 n          n       g  \n",
       "2           o         p                 n          n       m  \n",
       "3           o         p                 k          s       u  \n",
       "4           o         e                 n          a       g  \n",
       "\n",
       "[5 rows x 23 columns]"
      ]
     },
     "execution_count": 4,
     "metadata": {},
     "output_type": "execute_result"
    }
   ],
   "source": [
    "df.drop_duplicates()\n",
    "print(\"After  drop_duplicates:\", df.shape)\n",
    "df.head()"
   ]
  },
  {
   "cell_type": "markdown",
   "metadata": {},
   "source": [
    "### 7.Заполните пропущенные значения в данных;"
   ]
  },
  {
   "cell_type": "code",
   "execution_count": 5,
   "metadata": {},
   "outputs": [
    {
     "data": {
      "text/html": [
       "<div>\n",
       "<style scoped>\n",
       "    .dataframe tbody tr th:only-of-type {\n",
       "        vertical-align: middle;\n",
       "    }\n",
       "\n",
       "    .dataframe tbody tr th {\n",
       "        vertical-align: top;\n",
       "    }\n",
       "\n",
       "    .dataframe thead th {\n",
       "        text-align: right;\n",
       "    }\n",
       "</style>\n",
       "<table border=\"1\" class=\"dataframe\">\n",
       "  <thead>\n",
       "    <tr style=\"text-align: right;\">\n",
       "      <th></th>\n",
       "      <th>class</th>\n",
       "      <th>cap-shape</th>\n",
       "      <th>cap-surface</th>\n",
       "      <th>cap-color</th>\n",
       "      <th>bruises</th>\n",
       "      <th>odor</th>\n",
       "      <th>gill-attachment</th>\n",
       "      <th>gill-spacing</th>\n",
       "      <th>gill-size</th>\n",
       "      <th>gill-color</th>\n",
       "      <th>...</th>\n",
       "      <th>stalk-surface-below-ring</th>\n",
       "      <th>stalk-color-above-ring</th>\n",
       "      <th>stalk-color-below-ring</th>\n",
       "      <th>veil-type</th>\n",
       "      <th>veil-color</th>\n",
       "      <th>ring-number</th>\n",
       "      <th>ring-type</th>\n",
       "      <th>spore-print-color</th>\n",
       "      <th>population</th>\n",
       "      <th>habitat</th>\n",
       "    </tr>\n",
       "  </thead>\n",
       "  <tbody>\n",
       "  </tbody>\n",
       "</table>\n",
       "<p>0 rows × 23 columns</p>\n",
       "</div>"
      ],
      "text/plain": [
       "Empty DataFrame\n",
       "Columns: [class, cap-shape, cap-surface, cap-color, bruises, odor, gill-attachment, gill-spacing, gill-size, gill-color, stalk-shape, stalk-root, stalk-surface-above-ring, stalk-surface-below-ring, stalk-color-above-ring, stalk-color-below-ring, veil-type, veil-color, ring-number, ring-type, spore-print-color, population, habitat]\n",
       "Index: []\n",
       "\n",
       "[0 rows x 23 columns]"
      ]
     },
     "execution_count": 5,
     "metadata": {},
     "output_type": "execute_result"
    }
   ],
   "source": [
    "df[df.isna().any(axis=1)]"
   ]
  },
  {
   "cell_type": "markdown",
   "metadata": {},
   "source": [
    "### 3.Оцените сбалансированность данных по классам (постройте гистограмму). Используйте полученную информацию при выборе метрики оценки качества классификации (PR или ROC кривая)"
   ]
  },
  {
   "cell_type": "code",
   "execution_count": 6,
   "metadata": {},
   "outputs": [
    {
     "name": "stdout",
     "output_type": "stream",
     "text": [
      "Number of edible class: 4208\n",
      "Number of poisonous class: 3916\n"
     ]
    },
    {
     "data": {
      "text/plain": [
       "<AxesSubplot:>"
      ]
     },
     "execution_count": 6,
     "metadata": {},
     "output_type": "execute_result"
    },
    {
     "data": {
      "image/png": "[encoded data removed]",
      "text/plain": [
       "<Figure size 432x288 with 1 Axes>"
      ]
     },
     "metadata": {
      "needs_background": "light"
     },
     "output_type": "display_data"
    }
   ],
   "source": [
    "edible = df[df[\"class\"] == \"e\"][\"class\"]\n",
    "poisonous = df[df[\"class\"] == \"p\"][\"class\"]\n",
    "\n",
    "print(\"Number of edible class:\", edible.shape[0])\n",
    "print(\"Number of poisonous class:\", poisonous.shape[0])\n",
    "binsNumber = 2\n",
    "\n",
    "poisonous.hist(bins=binsNumber)\n",
    "edible.hist(bins=binsNumber)"
   ]
  },
  {
   "cell_type": "code",
   "execution_count": 7,
   "metadata": {},
   "outputs": [
    {
     "name": "stdout",
     "output_type": "stream",
     "text": [
      "(8124, 22)\n"
     ]
    }
   ],
   "source": [
    "df = df.drop([\"veil-type\"], axis=1)\n",
    "print(df.shape)"
   ]
  },
  {
   "cell_type": "markdown",
   "metadata": {},
   "source": [
    "### 5.Выполните замену категориальных признаков; выберите и обоснуйте способ замены;"
   ]
  },
  {
   "cell_type": "code",
   "execution_count": 8,
   "metadata": {},
   "outputs": [
    {
     "name": "stdout",
     "output_type": "stream",
     "text": [
      "(8124, 112)\n"
     ]
    }
   ],
   "source": [
    "from sklearn.preprocessing import OneHotEncoder\n",
    "enc = OneHotEncoder(drop='if_binary')\n",
    "X = df.to_numpy()\n",
    "enc.fit(X)\n",
    "X = enc.transform(X).toarray()\n",
    "print(X.shape)"
   ]
  },
  {
   "cell_type": "markdown",
   "metadata": {},
   "source": [
    "### 6.Оцените корреляцию между признаков и удалите те признаки, которые коррелируют с наибольшим числом других (удалять признаки нужно только для линейных методов классификации);"
   ]
  },
  {
   "cell_type": "code",
   "execution_count": 9,
   "metadata": {},
   "outputs": [
    {
     "name": "stdout",
     "output_type": "stream",
     "text": [
      "[[ 1.         -0.18256669  0.02300745 ...  0.32334579  0.11207815\n",
      "  -0.15008688]\n",
      " [-0.18256669  1.         -0.00538725 ... -0.0951776  -0.05287129\n",
      "  -0.03776367]\n",
      " [ 0.02300745 -0.00538725  1.         ... -0.0089854  -0.00483456\n",
      "  -0.00345312]\n",
      " ...\n",
      " [ 0.32334579 -0.0951776  -0.0089854  ...  1.         -0.0881841\n",
      "  -0.06298608]\n",
      " [ 0.11207815 -0.05287129 -0.00483456 ... -0.0881841   1.\n",
      "  -0.03388943]\n",
      " [-0.15008688 -0.03776367 -0.00345312 ... -0.06298608 -0.03388943\n",
      "   1.        ]]\n"
     ]
    },
    {
     "data": {
      "image/png": "[encoded data removed]",
      "text/plain": [
       "<Figure size 900x600 with 1 Axes>"
      ]
     },
     "metadata": {
      "needs_background": "light"
     },
     "output_type": "display_data"
    }
   ],
   "source": [
    "C = np.corrcoef(X.T)\n",
    "print(C)\n",
    "C = np.abs(C) > 0.99\n",
    "plt.figure(dpi=150)\n",
    "plt.imshow(C)\n",
    "plt.show()"
   ]
  },
  {
   "cell_type": "markdown",
   "metadata": {},
   "source": [
    "### 8.\tРешите поставленную задачу классификации в соответствии с заданием. При подборе параметров классификатора используйте метод GridSearchCV и перекрёстную проверку (изучите возможные для изменения параметры классификации). Оцените качество работы классификатора"
   ]
  },
  {
   "cell_type": "code",
   "execution_count": 10,
   "metadata": {},
   "outputs": [],
   "source": [
    "np.random.seed(123)\n",
    "np.random.shuffle(X)\n",
    "Y = X[:,0]\n",
    "X = X[:,1:]\n",
    "from sklearn.model_selection import train_test_split\n",
    "X_train, X_test, Y_train, Y_test = train_test_split(X, Y, test_size=1000, random_state=5)"
   ]
  },
  {
   "cell_type": "markdown",
   "metadata": {},
   "source": [
    "### 8. 1) Классификатор \"K ближайших соседей\" (задаётся радиус для выбора ближайших объектов)."
   ]
  },
  {
   "cell_type": "code",
   "execution_count": 11,
   "metadata": {
    "scrolled": false
   },
   "outputs": [
    {
     "name": "stdout",
     "output_type": "stream",
     "text": [
      "{'algorithm': 'auto', 'leaf_size': 30, 'metric': 'minkowski', 'metric_params': None, 'n_jobs': None, 'outlier_label': None, 'p': 2, 'radius': 1.0, 'weights': 'uniform'}\n"
     ]
    },
    {
     "data": {
      "text/plain": [
       "GridSearchCV(estimator=RadiusNeighborsClassifier(), n_jobs=4,\n",
       "             param_grid={'p': [1, 2], 'radius': [2, 3, 4, 5, 6, 7],\n",
       "                         'weights': ['uniform', 'distance']})"
      ]
     },
     "execution_count": 11,
     "metadata": {},
     "output_type": "execute_result"
    }
   ],
   "source": [
    "from sklearn.neighbors import RadiusNeighborsClassifier\n",
    "from sklearn.model_selection import GridSearchCV\n",
    "classifier = RadiusNeighborsClassifier()\n",
    "print(classifier.get_params())\n",
    "\n",
    "parameters = {\n",
    "    \"p\": [1, 2],\n",
    "    \"weights\": [\"uniform\", \"distance\"],\n",
    "    \"radius\": [2, 3, 4, 5, 6, 7]\n",
    "}\n",
    "\n",
    "gridSearch = GridSearchCV(classifier, parameters, n_jobs=4)\n",
    "\n",
    "gridSearch.fit(X_train, Y_train)"
   ]
  },
  {
   "cell_type": "code",
   "execution_count": 12,
   "metadata": {
    "scrolled": true
   },
   "outputs": [
    {
     "name": "stdout",
     "output_type": "stream",
     "text": [
      "{'p': 1, 'radius': 2, 'weights': 'uniform'}\n"
     ]
    },
    {
     "data": {
      "text/html": [
       "<div>\n",
       "<style scoped>\n",
       "    .dataframe tbody tr th:only-of-type {\n",
       "        vertical-align: middle;\n",
       "    }\n",
       "\n",
       "    .dataframe tbody tr th {\n",
       "        vertical-align: top;\n",
       "    }\n",
       "\n",
       "    .dataframe thead th {\n",
       "        text-align: right;\n",
       "    }\n",
       "</style>\n",
       "<table border=\"1\" class=\"dataframe\">\n",
       "  <thead>\n",
       "    <tr style=\"text-align: right;\">\n",
       "      <th></th>\n",
       "      <th>param_p</th>\n",
       "      <th>param_radius</th>\n",
       "      <th>param_weights</th>\n",
       "      <th>mean_test_score</th>\n",
       "    </tr>\n",
       "  </thead>\n",
       "  <tbody>\n",
       "    <tr>\n",
       "      <th>0</th>\n",
       "      <td>1</td>\n",
       "      <td>2</td>\n",
       "      <td>uniform</td>\n",
       "      <td>1.000000</td>\n",
       "    </tr>\n",
       "    <tr>\n",
       "      <th>1</th>\n",
       "      <td>1</td>\n",
       "      <td>2</td>\n",
       "      <td>distance</td>\n",
       "      <td>1.000000</td>\n",
       "    </tr>\n",
       "    <tr>\n",
       "      <th>2</th>\n",
       "      <td>1</td>\n",
       "      <td>3</td>\n",
       "      <td>uniform</td>\n",
       "      <td>1.000000</td>\n",
       "    </tr>\n",
       "    <tr>\n",
       "      <th>3</th>\n",
       "      <td>1</td>\n",
       "      <td>3</td>\n",
       "      <td>distance</td>\n",
       "      <td>1.000000</td>\n",
       "    </tr>\n",
       "    <tr>\n",
       "      <th>4</th>\n",
       "      <td>1</td>\n",
       "      <td>4</td>\n",
       "      <td>uniform</td>\n",
       "      <td>1.000000</td>\n",
       "    </tr>\n",
       "    <tr>\n",
       "      <th>5</th>\n",
       "      <td>1</td>\n",
       "      <td>4</td>\n",
       "      <td>distance</td>\n",
       "      <td>1.000000</td>\n",
       "    </tr>\n",
       "    <tr>\n",
       "      <th>6</th>\n",
       "      <td>1</td>\n",
       "      <td>5</td>\n",
       "      <td>uniform</td>\n",
       "      <td>1.000000</td>\n",
       "    </tr>\n",
       "    <tr>\n",
       "      <th>7</th>\n",
       "      <td>1</td>\n",
       "      <td>5</td>\n",
       "      <td>distance</td>\n",
       "      <td>1.000000</td>\n",
       "    </tr>\n",
       "    <tr>\n",
       "      <th>8</th>\n",
       "      <td>1</td>\n",
       "      <td>6</td>\n",
       "      <td>uniform</td>\n",
       "      <td>1.000000</td>\n",
       "    </tr>\n",
       "    <tr>\n",
       "      <th>9</th>\n",
       "      <td>1</td>\n",
       "      <td>6</td>\n",
       "      <td>distance</td>\n",
       "      <td>1.000000</td>\n",
       "    </tr>\n",
       "    <tr>\n",
       "      <th>10</th>\n",
       "      <td>1</td>\n",
       "      <td>7</td>\n",
       "      <td>uniform</td>\n",
       "      <td>1.000000</td>\n",
       "    </tr>\n",
       "    <tr>\n",
       "      <th>11</th>\n",
       "      <td>1</td>\n",
       "      <td>7</td>\n",
       "      <td>distance</td>\n",
       "      <td>1.000000</td>\n",
       "    </tr>\n",
       "    <tr>\n",
       "      <th>12</th>\n",
       "      <td>2</td>\n",
       "      <td>2</td>\n",
       "      <td>uniform</td>\n",
       "      <td>1.000000</td>\n",
       "    </tr>\n",
       "    <tr>\n",
       "      <th>13</th>\n",
       "      <td>2</td>\n",
       "      <td>2</td>\n",
       "      <td>distance</td>\n",
       "      <td>1.000000</td>\n",
       "    </tr>\n",
       "    <tr>\n",
       "      <th>14</th>\n",
       "      <td>2</td>\n",
       "      <td>3</td>\n",
       "      <td>uniform</td>\n",
       "      <td>0.999860</td>\n",
       "    </tr>\n",
       "    <tr>\n",
       "      <th>15</th>\n",
       "      <td>2</td>\n",
       "      <td>3</td>\n",
       "      <td>distance</td>\n",
       "      <td>0.999860</td>\n",
       "    </tr>\n",
       "    <tr>\n",
       "      <th>16</th>\n",
       "      <td>2</td>\n",
       "      <td>4</td>\n",
       "      <td>uniform</td>\n",
       "      <td>0.903846</td>\n",
       "    </tr>\n",
       "    <tr>\n",
       "      <th>17</th>\n",
       "      <td>2</td>\n",
       "      <td>4</td>\n",
       "      <td>distance</td>\n",
       "      <td>0.911286</td>\n",
       "    </tr>\n",
       "    <tr>\n",
       "      <th>18</th>\n",
       "      <td>2</td>\n",
       "      <td>5</td>\n",
       "      <td>uniform</td>\n",
       "      <td>0.785233</td>\n",
       "    </tr>\n",
       "    <tr>\n",
       "      <th>19</th>\n",
       "      <td>2</td>\n",
       "      <td>5</td>\n",
       "      <td>distance</td>\n",
       "      <td>0.863559</td>\n",
       "    </tr>\n",
       "    <tr>\n",
       "      <th>20</th>\n",
       "      <td>2</td>\n",
       "      <td>6</td>\n",
       "      <td>uniform</td>\n",
       "      <td>0.518669</td>\n",
       "    </tr>\n",
       "    <tr>\n",
       "      <th>21</th>\n",
       "      <td>2</td>\n",
       "      <td>6</td>\n",
       "      <td>distance</td>\n",
       "      <td>0.892757</td>\n",
       "    </tr>\n",
       "    <tr>\n",
       "      <th>22</th>\n",
       "      <td>2</td>\n",
       "      <td>7</td>\n",
       "      <td>uniform</td>\n",
       "      <td>0.518669</td>\n",
       "    </tr>\n",
       "    <tr>\n",
       "      <th>23</th>\n",
       "      <td>2</td>\n",
       "      <td>7</td>\n",
       "      <td>distance</td>\n",
       "      <td>0.892757</td>\n",
       "    </tr>\n",
       "  </tbody>\n",
       "</table>\n",
       "</div>"
      ],
      "text/plain": [
       "   param_p param_radius param_weights  mean_test_score\n",
       "0        1            2       uniform         1.000000\n",
       "1        1            2      distance         1.000000\n",
       "2        1            3       uniform         1.000000\n",
       "3        1            3      distance         1.000000\n",
       "4        1            4       uniform         1.000000\n",
       "5        1            4      distance         1.000000\n",
       "6        1            5       uniform         1.000000\n",
       "7        1            5      distance         1.000000\n",
       "8        1            6       uniform         1.000000\n",
       "9        1            6      distance         1.000000\n",
       "10       1            7       uniform         1.000000\n",
       "11       1            7      distance         1.000000\n",
       "12       2            2       uniform         1.000000\n",
       "13       2            2      distance         1.000000\n",
       "14       2            3       uniform         0.999860\n",
       "15       2            3      distance         0.999860\n",
       "16       2            4       uniform         0.903846\n",
       "17       2            4      distance         0.911286\n",
       "18       2            5       uniform         0.785233\n",
       "19       2            5      distance         0.863559\n",
       "20       2            6       uniform         0.518669\n",
       "21       2            6      distance         0.892757\n",
       "22       2            7       uniform         0.518669\n",
       "23       2            7      distance         0.892757"
      ]
     },
     "execution_count": 12,
     "metadata": {},
     "output_type": "execute_result"
    }
   ],
   "source": [
    "print(gridSearch.best_params_)\n",
    "\n",
    "cvResults = pd.DataFrame(gridSearch.cv_results_)\n",
    "cvResults[[\"param_p\", \"param_radius\", \"param_weights\", \"mean_test_score\"]]"
   ]
  },
  {
   "cell_type": "code",
   "execution_count": 13,
   "metadata": {},
   "outputs": [],
   "source": [
    "classifier_good = RadiusNeighborsClassifier(radius=3, p=2, weights='uniform')\n",
    "classifier_good.fit(X_train, Y_train)\n",
    "Y_predicted_good = classifier_good.predict_proba(X_test)\n",
    "\n",
    "\n",
    "classifier_bad = RadiusNeighborsClassifier(radius=5, p=2, weights='distance')\n",
    "classifier_bad.fit(X_train, Y_train)\n",
    "Y_predicted_bad = classifier_bad.predict_proba(X_test)"
   ]
  },
  {
   "cell_type": "code",
   "execution_count": 14,
   "metadata": {},
   "outputs": [
    {
     "name": "stdout",
     "output_type": "stream",
     "text": [
      "Good average precision: 1.0 recall: 1.0\n",
      "Bad average precision: 0.96 recall: 0.73\n"
     ]
    },
    {
     "data": {
      "image/png": "[encoded data removed]",
      "text/plain": [
       "<Figure size 432x288 with 1 Axes>"
      ]
     },
     "metadata": {
      "needs_background": "light"
     },
     "output_type": "display_data"
    },
    {
     "data": {
      "image/png": "[encoded data removed]",
      "text/plain": [
       "<Figure size 432x288 with 1 Axes>"
      ]
     },
     "metadata": {
      "needs_background": "light"
     },
     "output_type": "display_data"
    }
   ],
   "source": [
    "from sklearn.metrics import plot_precision_recall_curve, average_precision_score, recall_score\n",
    "\n",
    "\n",
    "disp_good = plot_precision_recall_curve(classifier_good, X_test, Y_test)\n",
    "disp_bad = plot_precision_recall_curve(classifier_bad, X_test, Y_test)\n",
    "disp_good.ax_.set_title('Precision-Recall curve (good)')\n",
    "disp_bad.ax_.set_title('Precision-Recall curve (bad)')\n",
    "\n",
    "\n",
    "average_precision_good = average_precision_score(Y_test, Y_predicted_good[:,1])\n",
    "average_precision_bad = average_precision_score(Y_test, Y_predicted_bad[:,1])\n",
    "recall_good = recall_score(Y_test, np.around(Y_predicted_good[:,1]))\n",
    "recall_bad = recall_score(Y_test, np.around(Y_predicted_bad[:,1]))\n",
    "\n",
    "print(\"Good average precision:\", average_precision_good, \"recall:\", recall_good)\n",
    "print(\"Bad average precision:\", round(average_precision_bad, 2), \"recall:\", round(recall_bad, 2))"
   ]
  },
  {
   "cell_type": "markdown",
   "metadata": {},
   "source": [
    "### 8. 2) Дерево решений (бинарное решающее дерево)"
   ]
  },
  {
   "cell_type": "code",
   "execution_count": 15,
   "metadata": {},
   "outputs": [
    {
     "name": "stdout",
     "output_type": "stream",
     "text": [
      "{'ccp_alpha': 0.0, 'class_weight': None, 'criterion': 'gini', 'max_depth': None, 'max_features': None, 'max_leaf_nodes': None, 'min_impurity_decrease': 0.0, 'min_impurity_split': None, 'min_samples_leaf': 1, 'min_samples_split': 2, 'min_weight_fraction_leaf': 0.0, 'random_state': None, 'splitter': 'best'}\n"
     ]
    },
    {
     "data": {
      "text/plain": [
       "GridSearchCV(estimator=DecisionTreeClassifier(), n_jobs=4,\n",
       "             param_grid={'max_depth': [4, 5, 6, 7, 8, 9, 10, 15],\n",
       "                         'max_features': [50, 90, 111],\n",
       "                         'min_samples_leaf': [1, 5, 10, 100]})"
      ]
     },
     "execution_count": 15,
     "metadata": {},
     "output_type": "execute_result"
    }
   ],
   "source": [
    "from sklearn.tree import DecisionTreeClassifier\n",
    "treeClassifier = DecisionTreeClassifier()\n",
    "\n",
    "print(treeClassifier.get_params())\n",
    "\n",
    "parameters = {\n",
    "    \"max_depth\": [4, 5, 6, 7, 8, 9, 10, 15],\n",
    "    \"max_features\": [50, 90, 111],\n",
    "    \"min_samples_leaf\": [1, 5, 10, 100]\n",
    "}\n",
    "\n",
    "gridSearchTree = GridSearchCV(treeClassifier, parameters, n_jobs=4)\n",
    "gridSearchTree.fit(X_train, Y_train)"
   ]
  },
  {
   "cell_type": "code",
   "execution_count": 16,
   "metadata": {},
   "outputs": [
    {
     "name": "stdout",
     "output_type": "stream",
     "text": [
      "{'max_depth': 6, 'max_features': 111, 'min_samples_leaf': 5}\n"
     ]
    },
    {
     "data": {
      "text/html": [
       "<div>\n",
       "<style scoped>\n",
       "    .dataframe tbody tr th:only-of-type {\n",
       "        vertical-align: middle;\n",
       "    }\n",
       "\n",
       "    .dataframe tbody tr th {\n",
       "        vertical-align: top;\n",
       "    }\n",
       "\n",
       "    .dataframe thead th {\n",
       "        text-align: right;\n",
       "    }\n",
       "</style>\n",
       "<table border=\"1\" class=\"dataframe\">\n",
       "  <thead>\n",
       "    <tr style=\"text-align: right;\">\n",
       "      <th></th>\n",
       "      <th>param_max_depth</th>\n",
       "      <th>param_max_features</th>\n",
       "      <th>param_min_samples_leaf</th>\n",
       "      <th>mean_test_score</th>\n",
       "    </tr>\n",
       "  </thead>\n",
       "  <tbody>\n",
       "    <tr>\n",
       "      <th>0</th>\n",
       "      <td>4</td>\n",
       "      <td>50</td>\n",
       "      <td>1</td>\n",
       "      <td>0.976693</td>\n",
       "    </tr>\n",
       "    <tr>\n",
       "      <th>1</th>\n",
       "      <td>4</td>\n",
       "      <td>50</td>\n",
       "      <td>5</td>\n",
       "      <td>0.977683</td>\n",
       "    </tr>\n",
       "    <tr>\n",
       "      <th>2</th>\n",
       "      <td>4</td>\n",
       "      <td>50</td>\n",
       "      <td>10</td>\n",
       "      <td>0.979504</td>\n",
       "    </tr>\n",
       "    <tr>\n",
       "      <th>3</th>\n",
       "      <td>4</td>\n",
       "      <td>50</td>\n",
       "      <td>100</td>\n",
       "      <td>0.967996</td>\n",
       "    </tr>\n",
       "    <tr>\n",
       "      <th>4</th>\n",
       "      <td>4</td>\n",
       "      <td>90</td>\n",
       "      <td>1</td>\n",
       "      <td>0.990034</td>\n",
       "    </tr>\n",
       "    <tr>\n",
       "      <th>...</th>\n",
       "      <td>...</td>\n",
       "      <td>...</td>\n",
       "      <td>...</td>\n",
       "      <td>...</td>\n",
       "    </tr>\n",
       "    <tr>\n",
       "      <th>91</th>\n",
       "      <td>15</td>\n",
       "      <td>90</td>\n",
       "      <td>100</td>\n",
       "      <td>0.973331</td>\n",
       "    </tr>\n",
       "    <tr>\n",
       "      <th>92</th>\n",
       "      <td>15</td>\n",
       "      <td>111</td>\n",
       "      <td>1</td>\n",
       "      <td>1.000000</td>\n",
       "    </tr>\n",
       "    <tr>\n",
       "      <th>93</th>\n",
       "      <td>15</td>\n",
       "      <td>111</td>\n",
       "      <td>5</td>\n",
       "      <td>1.000000</td>\n",
       "    </tr>\n",
       "    <tr>\n",
       "      <th>94</th>\n",
       "      <td>15</td>\n",
       "      <td>111</td>\n",
       "      <td>10</td>\n",
       "      <td>0.998737</td>\n",
       "    </tr>\n",
       "    <tr>\n",
       "      <th>95</th>\n",
       "      <td>15</td>\n",
       "      <td>111</td>\n",
       "      <td>100</td>\n",
       "      <td>0.970242</td>\n",
       "    </tr>\n",
       "  </tbody>\n",
       "</table>\n",
       "<p>96 rows × 4 columns</p>\n",
       "</div>"
      ],
      "text/plain": [
       "   param_max_depth param_max_features param_min_samples_leaf  mean_test_score\n",
       "0                4                 50                      1         0.976693\n",
       "1                4                 50                      5         0.977683\n",
       "2                4                 50                     10         0.979504\n",
       "3                4                 50                    100         0.967996\n",
       "4                4                 90                      1         0.990034\n",
       "..             ...                ...                    ...              ...\n",
       "91              15                 90                    100         0.973331\n",
       "92              15                111                      1         1.000000\n",
       "93              15                111                      5         1.000000\n",
       "94              15                111                     10         0.998737\n",
       "95              15                111                    100         0.970242\n",
       "\n",
       "[96 rows x 4 columns]"
      ]
     },
     "execution_count": 16,
     "metadata": {},
     "output_type": "execute_result"
    }
   ],
   "source": [
    "print(gridSearchTree.best_params_)\n",
    "\n",
    "cvResults = pd.DataFrame(gridSearchTree.cv_results_)\n",
    "cvResults[[\"param_max_depth\", \"param_max_features\", \"param_min_samples_leaf\", \"mean_test_score\"]]"
   ]
  },
  {
   "cell_type": "code",
   "execution_count": 17,
   "metadata": {},
   "outputs": [],
   "source": [
    "tree_classifier_good = DecisionTreeClassifier(max_depth=6, max_features=90, min_samples_leaf=5)\n",
    "tree_classifier_good.fit(X_train, Y_train)\n",
    "tree_Y_predicted_good = tree_classifier_good.predict_proba(X_test)\n",
    "\n",
    "tree_classifier_bad = DecisionTreeClassifier(max_depth=3, max_features=5, min_samples_leaf=50)\n",
    "tree_classifier_bad.fit(X_train, Y_train)\n",
    "tree_Y_predicted_bad = tree_classifier_bad.predict_proba(X_test)"
   ]
  },
  {
   "cell_type": "code",
   "execution_count": 18,
   "metadata": {},
   "outputs": [
    {
     "data": {
      "text/plain": [
       "[Text(697.5, 830.5, 'X[26] <= 0.5\\ngini = 0.499\\nsamples = 7124\\nvalue = [3695, 3429]'),\n",
       " Text(380.45454545454544, 679.5, 'X[21] <= 0.5\\ngini = 0.289\\nsamples = 4029\\nvalue = [705, 3324]'),\n",
       " Text(253.63636363636363, 528.5, 'X[24] <= 0.5\\ngini = 0.172\\nsamples = 3674\\nvalue = [350, 3324]'),\n",
       " Text(126.81818181818181, 377.5, 'gini = 0.0\\nsamples = 3324\\nvalue = [0, 3324]'),\n",
       " Text(380.45454545454544, 377.5, 'gini = 0.0\\nsamples = 350\\nvalue = [350, 0]'),\n",
       " Text(507.27272727272725, 528.5, 'gini = 0.0\\nsamples = 355\\nvalue = [355, 0]'),\n",
       " Text(1014.5454545454545, 679.5, 'X[94] <= 0.5\\ngini = 0.066\\nsamples = 3095\\nvalue = [2990, 105]'),\n",
       " Text(887.7272727272727, 528.5, 'X[58] <= 0.5\\ngini = 0.027\\nsamples = 3032\\nvalue = [2990, 42]'),\n",
       " Text(634.090909090909, 377.5, 'X[32] <= 0.5\\ngini = 0.005\\nsamples = 2984\\nvalue = [2976, 8]'),\n",
       " Text(507.27272727272725, 226.5, 'gini = 0.0\\nsamples = 2807\\nvalue = [2807, 0]'),\n",
       " Text(760.9090909090909, 226.5, 'X[20] <= 0.5\\ngini = 0.086\\nsamples = 177\\nvalue = [169, 8]'),\n",
       " Text(634.090909090909, 75.5, 'gini = 0.0\\nsamples = 169\\nvalue = [169, 0]'),\n",
       " Text(887.7272727272727, 75.5, 'gini = 0.0\\nsamples = 8\\nvalue = [0, 8]'),\n",
       " Text(1141.3636363636363, 377.5, 'X[84] <= 0.5\\ngini = 0.413\\nsamples = 48\\nvalue = [14, 34]'),\n",
       " Text(1014.5454545454545, 226.5, 'gini = 0.0\\nsamples = 14\\nvalue = [14, 0]'),\n",
       " Text(1268.181818181818, 226.5, 'gini = 0.0\\nsamples = 34\\nvalue = [0, 34]'),\n",
       " Text(1141.3636363636363, 528.5, 'gini = 0.0\\nsamples = 63\\nvalue = [0, 63]')]"
      ]
     },
     "execution_count": 18,
     "metadata": {},
     "output_type": "execute_result"
    },
    {
     "data": {
      "image/png": "[encoded data removed]",
      "text/plain": [
       "<Figure size 1800x1200 with 1 Axes>"
      ]
     },
     "metadata": {
      "needs_background": "light"
     },
     "output_type": "display_data"
    }
   ],
   "source": [
    "from sklearn import tree\n",
    "plt.figure(dpi=300)\n",
    "tree.plot_tree(tree_classifier_good)"
   ]
  },
  {
   "cell_type": "code",
   "execution_count": 19,
   "metadata": {},
   "outputs": [
    {
     "name": "stdout",
     "output_type": "stream",
     "text": [
      "Good average precision: 1.0 recall: 1.0\n",
      "Bad average precision: 0.77 recall: 0.54\n"
     ]
    },
    {
     "data": {
      "image/png": "[encoded data removed]",
      "text/plain": [
       "<Figure size 432x288 with 1 Axes>"
      ]
     },
     "metadata": {
      "needs_background": "light"
     },
     "output_type": "display_data"
    },
    {
     "data": {
      "image/png": "[encoded data removed]",
      "text/plain": [
       "<Figure size 432x288 with 1 Axes>"
      ]
     },
     "metadata": {
      "needs_background": "light"
     },
     "output_type": "display_data"
    }
   ],
   "source": [
    "from sklearn.metrics import plot_precision_recall_curve, average_precision_score, recall_score\n",
    "\n",
    "\n",
    "disp_good = plot_precision_recall_curve(tree_classifier_good, X_test, Y_test)\n",
    "disp_bad = plot_precision_recall_curve(tree_classifier_bad, X_test, Y_test)\n",
    "disp_good.ax_.set_title('Precision-Recall curve (good)')\n",
    "disp_bad.ax_.set_title('Precision-Recall curve (bad)')\n",
    "\n",
    "\n",
    "average_precision_good = average_precision_score(Y_test, tree_Y_predicted_good[:,1])\n",
    "average_precision_bad = average_precision_score(Y_test, tree_Y_predicted_bad[:,1])\n",
    "recall_good = recall_score(Y_test, np.around(tree_Y_predicted_good[:,1]))\n",
    "recall_bad = recall_score(Y_test, np.around(tree_Y_predicted_bad[:,1]))\n",
    "\n",
    "print(\"Good average precision:\", average_precision_good, \"recall:\", recall_good)\n",
    "print(\"Bad average precision:\", round(average_precision_bad, 2), \"recall:\", round(recall_bad, 2))\n"
   ]
  },
  {
   "cell_type": "code",
   "execution_count": null,
   "metadata": {},
   "outputs": [],
   "source": []
  },
  {
   "cell_type": "code",
   "execution_count": null,
   "metadata": {},
   "outputs": [],
   "source": []
  },
  {
   "cell_type": "code",
   "execution_count": null,
   "metadata": {},
   "outputs": [],
   "source": []
  },
  {
   "cell_type": "code",
   "execution_count": null,
   "metadata": {},
   "outputs": [],
   "source": []
  },
  {
   "cell_type": "code",
   "execution_count": null,
   "metadata": {},
   "outputs": [],
   "source": []
  },
  {
   "cell_type": "code",
   "execution_count": null,
   "metadata": {},
   "outputs": [],
   "source": []
  },
  {
   "cell_type": "code",
   "execution_count": null,
   "metadata": {},
   "outputs": [],
   "source": []
  },
  {
   "cell_type": "code",
   "execution_count": null,
   "metadata": {},
   "outputs": [],
   "source": []
  },
  {
   "cell_type": "code",
   "execution_count": null,
   "metadata": {},
   "outputs": [],
   "source": []
  },
  {
   "cell_type": "code",
   "execution_count": null,
   "metadata": {},
   "outputs": [],
   "source": []
  },
  {
   "cell_type": "code",
   "execution_count": null,
   "metadata": {},
   "outputs": [],
   "source": []
  },
  {
   "cell_type": "code",
   "execution_count": null,
   "metadata": {},
   "outputs": [],
   "source": []
  },
  {
   "cell_type": "code",
   "execution_count": null,
   "metadata": {},
   "outputs": [],
   "source": []
  },
  {
   "cell_type": "code",
   "execution_count": null,
   "metadata": {},
   "outputs": [],
   "source": []
  },
  {
   "cell_type": "code",
   "execution_count": null,
   "metadata": {},
   "outputs": [],
   "source": []
  },
  {
   "cell_type": "code",
   "execution_count": null,
   "metadata": {},
   "outputs": [],
   "source": []
  },
  {
   "cell_type": "code",
   "execution_count": null,
   "metadata": {},
   "outputs": [],
   "source": []
  },
  {
   "cell_type": "code",
   "execution_count": null,
   "metadata": {},
   "outputs": [],
   "source": []
  },
  {
   "cell_type": "code",
   "execution_count": null,
   "metadata": {},
   "outputs": [],
   "source": []
  },
  {
   "cell_type": "code",
   "execution_count": null,
   "metadata": {},
   "outputs": [],
   "source": []
  },
  {
   "cell_type": "code",
   "execution_count": null,
   "metadata": {},
   "outputs": [],
   "source": []
  },
  {
   "cell_type": "code",
   "execution_count": null,
   "metadata": {},
   "outputs": [],
   "source": []
  },
  {
   "cell_type": "code",
   "execution_count": null,
   "metadata": {},
   "outputs": [],
   "source": []
  },
  {
   "cell_type": "code",
   "execution_count": null,
   "metadata": {},
   "outputs": [],
   "source": []
  },
  {
   "cell_type": "code",
   "execution_count": null,
   "metadata": {},
   "outputs": [],
   "source": []
  },
  {
   "cell_type": "code",
   "execution_count": null,
   "metadata": {},
   "outputs": [],
   "source": []
  },
  {
   "cell_type": "code",
   "execution_count": null,
   "metadata": {},
   "outputs": [],
   "source": []
  },
  {
   "cell_type": "code",
   "execution_count": null,
   "metadata": {},
   "outputs": [],
   "source": []
  },
  {
   "cell_type": "code",
   "execution_count": null,
   "metadata": {},
   "outputs": [],
   "source": []
  },
  {
   "cell_type": "code",
   "execution_count": null,
   "metadata": {},
   "outputs": [],
   "source": []
  },
  {
   "cell_type": "code",
   "execution_count": null,
   "metadata": {},
   "outputs": [],
   "source": []
  },
  {
   "cell_type": "code",
   "execution_count": null,
   "metadata": {},
   "outputs": [],
   "source": []
  },
  {
   "cell_type": "code",
   "execution_count": null,
   "metadata": {},
   "outputs": [],
   "source": []
  },
  {
   "cell_type": "code",
   "execution_count": null,
   "metadata": {},
   "outputs": [],
   "source": []
  },
  {
   "cell_type": "code",
   "execution_count": null,
   "metadata": {},
   "outputs": [],
   "source": []
  },
  {
   "cell_type": "code",
   "execution_count": null,
   "metadata": {},
   "outputs": [],
   "source": []
  },
  {
   "cell_type": "code",
   "execution_count": null,
   "metadata": {},
   "outputs": [],
   "source": []
  },
  {
   "cell_type": "code",
   "execution_count": null,
   "metadata": {},
   "outputs": [],
   "source": []
  }
 ],
 "metadata": {
  "kernelspec": {
   "display_name": "Python 3",
   "language": "python",
   "name": "python3"
  },
  "language_info": {
   "codemirror_mode": {
    "name": "ipython",
    "version": 3
   },
   "file_extension": ".py",
   "mimetype": "text/x-python",
   "name": "python",
   "nbconvert_exporter": "python",
   "pygments_lexer": "ipython3",
   "version": "3.8.7"
  }
 },
 "nbformat": 4,
 "nbformat_minor": 5
}
