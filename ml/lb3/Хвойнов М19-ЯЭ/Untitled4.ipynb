{
 "cells": [
  {
   "cell_type": "markdown",
   "metadata": {},
   "source": [
    "# Лабораторная работа \n",
    "## Хвойнов Олег \n",
    "## Вариант 43 файл 7"
   ]
  },
  {
   "cell_type": "code",
   "execution_count": 1,
   "metadata": {},
   "outputs": [],
   "source": [
    "import numpy as np\n",
    "import pandas as pd\n",
    "import seaborn as sns\n",
    "from sklearn import preprocessing\n",
    "from sklearn import datasets\n",
    "from sklearn.preprocessing import StandardScaler\n",
    "from sklearn.linear_model import Perceptron\n",
    "from sklearn.metrics import classification_report, accuracy_score, confusion_matrix\n",
    "from sklearn.model_selection import train_test_split\n",
    "\n",
    "from sklearn.model_selection import GridSearchCV, cross_val_score\n",
    "from sklearn.tree import DecisionTreeClassifier\n",
    "\n",
    "\n"
   ]
  },
  {
   "cell_type": "code",
   "execution_count": 2,
   "metadata": {},
   "outputs": [],
   "source": [
    "DataSet=pd.read_csv('wine.data.csv')"
   ]
  },
  {
   "cell_type": "code",
   "execution_count": 3,
   "metadata": {},
   "outputs": [
    {
     "data": {
      "text/plain": [
       "Klass                               1.00\n",
       " Alcohol                           14.23\n",
       " Malic acid                         1.71\n",
       " Ash                                2.43\n",
       " Alcalinity of ash                 15.60\n",
       " Magnesium                        127.00\n",
       " Total phenols                      2.80\n",
       " Flavanoids                         3.06\n",
       " Nonflavanoid phenols               0.28\n",
       " Proanthocyanins                    2.29\n",
       " Color intensity                    5.64\n",
       " Hue                                1.04\n",
       " OD280/OD315 of diluted wines       3.92\n",
       " Proline                         1065.00\n",
       "Name: 0, dtype: float64"
      ]
     },
     "execution_count": 3,
     "metadata": {},
     "output_type": "execute_result"
    }
   ],
   "source": [
    "DataSet.iloc[0]"
   ]
  },
  {
   "cell_type": "code",
   "execution_count": 4,
   "metadata": {},
   "outputs": [
    {
     "data": {
      "text/html": [
       "<div>\n",
       "<style scoped>\n",
       "    .dataframe tbody tr th:only-of-type {\n",
       "        vertical-align: middle;\n",
       "    }\n",
       "\n",
       "    .dataframe tbody tr th {\n",
       "        vertical-align: top;\n",
       "    }\n",
       "\n",
       "    .dataframe thead th {\n",
       "        text-align: right;\n",
       "    }\n",
       "</style>\n",
       "<table border=\"1\" class=\"dataframe\">\n",
       "  <thead>\n",
       "    <tr style=\"text-align: right;\">\n",
       "      <th></th>\n",
       "      <th>Klass</th>\n",
       "      <th>Alcohol</th>\n",
       "      <th>Malic acid</th>\n",
       "      <th>Ash</th>\n",
       "      <th>Alcalinity of ash</th>\n",
       "      <th>Magnesium</th>\n",
       "      <th>Total phenols</th>\n",
       "      <th>Flavanoids</th>\n",
       "      <th>Nonflavanoid phenols</th>\n",
       "      <th>Proanthocyanins</th>\n",
       "      <th>Color intensity</th>\n",
       "      <th>Hue</th>\n",
       "      <th>OD280/OD315 of diluted wines</th>\n",
       "      <th>Proline</th>\n",
       "    </tr>\n",
       "  </thead>\n",
       "  <tbody>\n",
       "    <tr>\n",
       "      <th>0</th>\n",
       "      <td>1</td>\n",
       "      <td>14.23</td>\n",
       "      <td>1.71</td>\n",
       "      <td>2.43</td>\n",
       "      <td>15.6</td>\n",
       "      <td>127</td>\n",
       "      <td>2.80</td>\n",
       "      <td>3.06</td>\n",
       "      <td>0.28</td>\n",
       "      <td>2.29</td>\n",
       "      <td>5.64</td>\n",
       "      <td>1.04</td>\n",
       "      <td>3.92</td>\n",
       "      <td>1065</td>\n",
       "    </tr>\n",
       "    <tr>\n",
       "      <th>1</th>\n",
       "      <td>1</td>\n",
       "      <td>13.20</td>\n",
       "      <td>1.78</td>\n",
       "      <td>2.14</td>\n",
       "      <td>11.2</td>\n",
       "      <td>100</td>\n",
       "      <td>2.65</td>\n",
       "      <td>2.76</td>\n",
       "      <td>0.26</td>\n",
       "      <td>1.28</td>\n",
       "      <td>4.38</td>\n",
       "      <td>1.05</td>\n",
       "      <td>3.40</td>\n",
       "      <td>1050</td>\n",
       "    </tr>\n",
       "    <tr>\n",
       "      <th>2</th>\n",
       "      <td>1</td>\n",
       "      <td>13.16</td>\n",
       "      <td>2.36</td>\n",
       "      <td>2.67</td>\n",
       "      <td>18.6</td>\n",
       "      <td>101</td>\n",
       "      <td>2.80</td>\n",
       "      <td>3.24</td>\n",
       "      <td>0.30</td>\n",
       "      <td>2.81</td>\n",
       "      <td>5.68</td>\n",
       "      <td>1.03</td>\n",
       "      <td>3.17</td>\n",
       "      <td>1185</td>\n",
       "    </tr>\n",
       "    <tr>\n",
       "      <th>3</th>\n",
       "      <td>1</td>\n",
       "      <td>14.37</td>\n",
       "      <td>1.95</td>\n",
       "      <td>2.50</td>\n",
       "      <td>16.8</td>\n",
       "      <td>113</td>\n",
       "      <td>3.85</td>\n",
       "      <td>3.49</td>\n",
       "      <td>0.24</td>\n",
       "      <td>2.18</td>\n",
       "      <td>7.80</td>\n",
       "      <td>0.86</td>\n",
       "      <td>3.45</td>\n",
       "      <td>1480</td>\n",
       "    </tr>\n",
       "    <tr>\n",
       "      <th>4</th>\n",
       "      <td>1</td>\n",
       "      <td>13.24</td>\n",
       "      <td>2.59</td>\n",
       "      <td>2.87</td>\n",
       "      <td>21.0</td>\n",
       "      <td>118</td>\n",
       "      <td>2.80</td>\n",
       "      <td>2.69</td>\n",
       "      <td>0.39</td>\n",
       "      <td>1.82</td>\n",
       "      <td>4.32</td>\n",
       "      <td>1.04</td>\n",
       "      <td>2.93</td>\n",
       "      <td>735</td>\n",
       "    </tr>\n",
       "  </tbody>\n",
       "</table>\n",
       "</div>"
      ],
      "text/plain": [
       "   Klass   Alcohol   Malic acid   Ash   Alcalinity of ash   Magnesium  \\\n",
       "0      1     14.23         1.71  2.43                15.6         127   \n",
       "1      1     13.20         1.78  2.14                11.2         100   \n",
       "2      1     13.16         2.36  2.67                18.6         101   \n",
       "3      1     14.37         1.95  2.50                16.8         113   \n",
       "4      1     13.24         2.59  2.87                21.0         118   \n",
       "\n",
       "    Total phenols   Flavanoids   Nonflavanoid phenols   Proanthocyanins  \\\n",
       "0            2.80         3.06                   0.28              2.29   \n",
       "1            2.65         2.76                   0.26              1.28   \n",
       "2            2.80         3.24                   0.30              2.81   \n",
       "3            3.85         3.49                   0.24              2.18   \n",
       "4            2.80         2.69                   0.39              1.82   \n",
       "\n",
       "    Color intensity   Hue   OD280/OD315 of diluted wines   Proline  \n",
       "0              5.64  1.04                           3.92      1065  \n",
       "1              4.38  1.05                           3.40      1050  \n",
       "2              5.68  1.03                           3.17      1185  \n",
       "3              7.80  0.86                           3.45      1480  \n",
       "4              4.32  1.04                           2.93       735  "
      ]
     },
     "execution_count": 4,
     "metadata": {},
     "output_type": "execute_result"
    }
   ],
   "source": [
    "DataSet.head()"
   ]
  },
  {
   "cell_type": "markdown",
   "metadata": {},
   "source": [
    "##  1. Изучим набор данных\n",
    "- Алкоголь Alcohol\n",
    "- Яблочная кислота Malic acid\n",
    "- Зола Ash\n",
    "- Щелочность золы Alcalinity of ash\n",
    "- Магний Magnesium\n",
    "- Общие фенолы Total phenols\n",
    "- Флаваноиды Flavanoids\n",
    "- Нефлаваноидные фенолы Nonflavanoid phenols\t\n",
    "- Проантоцианы Proanthocyanins\n",
    "- Интенсивность цвета Color intensity\n",
    "- Оттенок Hue\n",
    "- OD280/OD315 разбавленных вин OD280/OD315 of diluted wines\n",
    "- Пролин Proline"
   ]
  },
  {
   "cell_type": "markdown",
   "metadata": {},
   "source": [
    "##  2.Удалим дубликаты строк в наборе данных"
   ]
  },
  {
   "cell_type": "code",
   "execution_count": 5,
   "metadata": {},
   "outputs": [
    {
     "name": "stdout",
     "output_type": "stream",
     "text": [
      "(178, 14)\n"
     ]
    }
   ],
   "source": [
    "print(DataSet.shape)"
   ]
  },
  {
   "cell_type": "code",
   "execution_count": 6,
   "metadata": {},
   "outputs": [
    {
     "name": "stdout",
     "output_type": "stream",
     "text": [
      "(178, 14)\n"
     ]
    }
   ],
   "source": [
    "DataSet=DataSet.drop_duplicates()\n",
    "print(DataSet.shape)"
   ]
  },
  {
   "cell_type": "markdown",
   "metadata": {},
   "source": [
    "## 3. Оценим сбалансированность данных по классам "
   ]
  },
  {
   "cell_type": "code",
   "execution_count": 7,
   "metadata": {},
   "outputs": [
    {
     "data": {
      "text/plain": [
       "<AxesSubplot:xlabel='Klass'>"
      ]
     },
     "execution_count": 7,
     "metadata": {},
     "output_type": "execute_result"
    },
    {
     "data": {
      "image/png": "[encoded data removed]",
      "text/plain": [
       "<Figure size 432x288 with 1 Axes>"
      ]
     },
     "metadata": {
      "needs_background": "light"
     },
     "output_type": "display_data"
    }
   ],
   "source": [
    "DataSet.groupby('Klass').count().plot(kind='bar',rot=100)"
   ]
  },
  {
   "cell_type": "markdown",
   "metadata": {},
   "source": [
    "#### Поскольку сбалансированность данных по калссам высокая используем ROC метрику"
   ]
  },
  {
   "cell_type": "markdown",
   "metadata": {},
   "source": [
    "## 4.\tВыполним масштабирование количественных признаков"
   ]
  },
  {
   "cell_type": "code",
   "execution_count": 8,
   "metadata": {},
   "outputs": [
    {
     "data": {
      "text/plain": [
       "<AxesSubplot:>"
      ]
     },
     "execution_count": 8,
     "metadata": {},
     "output_type": "execute_result"
    },
    {
     "data": {
      "image/png": "[encoded data removed]",
      "text/plain": [
       "<Figure size 432x288 with 1 Axes>"
      ]
     },
     "metadata": {
      "needs_background": "light"
     },
     "output_type": "display_data"
    }
   ],
   "source": [
    "DataSet.boxplot(column=[' Proline'])"
   ]
  },
  {
   "cell_type": "code",
   "execution_count": 9,
   "metadata": {},
   "outputs": [
    {
     "data": {
      "text/plain": [
       "<AxesSubplot:>"
      ]
     },
     "execution_count": 9,
     "metadata": {},
     "output_type": "execute_result"
    },
    {
     "data": {
      "image/png": "[encoded data removed]",
      "text/plain": [
       "<Figure size 432x288 with 1 Axes>"
      ]
     },
     "metadata": {
      "needs_background": "light"
     },
     "output_type": "display_data"
    }
   ],
   "source": [
    "DataSet1=DataSet.drop([' Proline'], axis='columns')\n",
    "DataSet1.boxplot()"
   ]
  },
  {
   "cell_type": "code",
   "execution_count": 10,
   "metadata": {},
   "outputs": [],
   "source": [
    "DataSet_n=preprocessing.normalize(DataSet)"
   ]
  },
  {
   "cell_type": "code",
   "execution_count": 11,
   "metadata": {},
   "outputs": [],
   "source": [
    "DataSet_n=pd.DataFrame(DataSet_n)\n",
    "DataSet_n.columns=['Klass','Alcohol','Malic acid','Ash','Alcalinity of ash','Magnesium','Total phenols','Flavanoids','Nonflavanoid phenols','Proanthocyanins','Color intensity','Hue','OD280/OD315 of diluted wines','Proline']\n"
   ]
  },
  {
   "cell_type": "code",
   "execution_count": 12,
   "metadata": {},
   "outputs": [
    {
     "data": {
      "text/plain": [
       "<AxesSubplot:>"
      ]
     },
     "execution_count": 12,
     "metadata": {},
     "output_type": "execute_result"
    },
    {
     "data": {
      "image/png": "[encoded data removed]",
      "text/plain": [
       "<Figure size 432x288 with 1 Axes>"
      ]
     },
     "metadata": {
      "needs_background": "light"
     },
     "output_type": "display_data"
    }
   ],
   "source": [
    "DataSet_n.boxplot()"
   ]
  },
  {
   "cell_type": "code",
   "execution_count": 13,
   "metadata": {},
   "outputs": [
    {
     "data": {
      "text/plain": [
       "<AxesSubplot:>"
      ]
     },
     "execution_count": 13,
     "metadata": {},
     "output_type": "execute_result"
    },
    {
     "data": {
      "image/png": "[encoded data removed]",
      "text/plain": [
       "<Figure size 432x288 with 1 Axes>"
      ]
     },
     "metadata": {
      "needs_background": "light"
     },
     "output_type": "display_data"
    }
   ],
   "source": [
    "DataSet_s=preprocessing.scale(DataSet)\n",
    "DataSet_s=pd.DataFrame(DataSet_s)\n",
    "DataSet_s.columns=['Klass','Alcohol','Malic acid','Ash','Alcalinity of ash','Magnesium','Total phenols','Flavanoids','Nonflavanoid phenols','Proanthocyanins','Color intensity','Hue','OD280/OD315 of diluted wines','Proline']\n",
    "DataSet_s.boxplot()"
   ]
  },
  {
   "cell_type": "code",
   "execution_count": null,
   "metadata": {},
   "outputs": [],
   "source": []
  },
  {
   "cell_type": "markdown",
   "metadata": {},
   "source": [
    "## 5.\tВыполним замену категориальных признаков"
   ]
  },
  {
   "cell_type": "markdown",
   "metadata": {},
   "source": [
    "## 6.\tОценитим корреляцию между признаками и удалитим те признаки, которые коррелируют с наибольшим числом других (для лин )"
   ]
  },
  {
   "cell_type": "code",
   "execution_count": 14,
   "metadata": {},
   "outputs": [
    {
     "data": {
      "text/html": [
       "<div>\n",
       "<style scoped>\n",
       "    .dataframe tbody tr th:only-of-type {\n",
       "        vertical-align: middle;\n",
       "    }\n",
       "\n",
       "    .dataframe tbody tr th {\n",
       "        vertical-align: top;\n",
       "    }\n",
       "\n",
       "    .dataframe thead th {\n",
       "        text-align: right;\n",
       "    }\n",
       "</style>\n",
       "<table border=\"1\" class=\"dataframe\">\n",
       "  <thead>\n",
       "    <tr style=\"text-align: right;\">\n",
       "      <th></th>\n",
       "      <th>Klass</th>\n",
       "      <th>Alcohol</th>\n",
       "      <th>Malic acid</th>\n",
       "      <th>Ash</th>\n",
       "      <th>Alcalinity of ash</th>\n",
       "      <th>Magnesium</th>\n",
       "      <th>Total phenols</th>\n",
       "      <th>Flavanoids</th>\n",
       "      <th>Nonflavanoid phenols</th>\n",
       "      <th>Proanthocyanins</th>\n",
       "      <th>Color intensity</th>\n",
       "      <th>Hue</th>\n",
       "      <th>OD280/OD315 of diluted wines</th>\n",
       "      <th>Proline</th>\n",
       "    </tr>\n",
       "  </thead>\n",
       "  <tbody>\n",
       "    <tr>\n",
       "      <th>Klass</th>\n",
       "      <td>1.000000</td>\n",
       "      <td>0.875228</td>\n",
       "      <td>0.678845</td>\n",
       "      <td>0.848681</td>\n",
       "      <td>0.864579</td>\n",
       "      <td>0.824064</td>\n",
       "      <td>0.502431</td>\n",
       "      <td>0.183544</td>\n",
       "      <td>0.770432</td>\n",
       "      <td>0.433052</td>\n",
       "      <td>0.611852</td>\n",
       "      <td>0.542946</td>\n",
       "      <td>0.470946</td>\n",
       "      <td>-0.772245</td>\n",
       "    </tr>\n",
       "    <tr>\n",
       "      <th>Alcohol</th>\n",
       "      <td>0.875228</td>\n",
       "      <td>1.000000</td>\n",
       "      <td>0.622928</td>\n",
       "      <td>0.937653</td>\n",
       "      <td>0.931706</td>\n",
       "      <td>0.923763</td>\n",
       "      <td>0.768087</td>\n",
       "      <td>0.546075</td>\n",
       "      <td>0.763887</td>\n",
       "      <td>0.658288</td>\n",
       "      <td>0.391967</td>\n",
       "      <td>0.787109</td>\n",
       "      <td>0.781888</td>\n",
       "      <td>-0.909308</td>\n",
       "    </tr>\n",
       "    <tr>\n",
       "      <th>Malic acid</th>\n",
       "      <td>0.678845</td>\n",
       "      <td>0.622928</td>\n",
       "      <td>1.000000</td>\n",
       "      <td>0.624181</td>\n",
       "      <td>0.625013</td>\n",
       "      <td>0.560272</td>\n",
       "      <td>0.345252</td>\n",
       "      <td>0.129147</td>\n",
       "      <td>0.569596</td>\n",
       "      <td>0.349386</td>\n",
       "      <td>0.406474</td>\n",
       "      <td>0.248712</td>\n",
       "      <td>0.346406</td>\n",
       "      <td>-0.524663</td>\n",
       "    </tr>\n",
       "    <tr>\n",
       "      <th>Ash</th>\n",
       "      <td>0.848681</td>\n",
       "      <td>0.937653</td>\n",
       "      <td>0.624181</td>\n",
       "      <td>1.000000</td>\n",
       "      <td>0.966468</td>\n",
       "      <td>0.915831</td>\n",
       "      <td>0.747195</td>\n",
       "      <td>0.552450</td>\n",
       "      <td>0.780876</td>\n",
       "      <td>0.638723</td>\n",
       "      <td>0.381680</td>\n",
       "      <td>0.746696</td>\n",
       "      <td>0.754064</td>\n",
       "      <td>-0.902545</td>\n",
       "    </tr>\n",
       "    <tr>\n",
       "      <th>Alcalinity of ash</th>\n",
       "      <td>0.864579</td>\n",
       "      <td>0.931706</td>\n",
       "      <td>0.625013</td>\n",
       "      <td>0.966468</td>\n",
       "      <td>1.000000</td>\n",
       "      <td>0.893946</td>\n",
       "      <td>0.721423</td>\n",
       "      <td>0.523267</td>\n",
       "      <td>0.784569</td>\n",
       "      <td>0.642498</td>\n",
       "      <td>0.370805</td>\n",
       "      <td>0.725635</td>\n",
       "      <td>0.745222</td>\n",
       "      <td>-0.880512</td>\n",
       "    </tr>\n",
       "    <tr>\n",
       "      <th>Magnesium</th>\n",
       "      <td>0.824064</td>\n",
       "      <td>0.923763</td>\n",
       "      <td>0.560272</td>\n",
       "      <td>0.915831</td>\n",
       "      <td>0.893946</td>\n",
       "      <td>1.000000</td>\n",
       "      <td>0.735255</td>\n",
       "      <td>0.542247</td>\n",
       "      <td>0.681605</td>\n",
       "      <td>0.651123</td>\n",
       "      <td>0.352734</td>\n",
       "      <td>0.758158</td>\n",
       "      <td>0.735386</td>\n",
       "      <td>-0.979435</td>\n",
       "    </tr>\n",
       "    <tr>\n",
       "      <th>Total phenols</th>\n",
       "      <td>0.502431</td>\n",
       "      <td>0.768087</td>\n",
       "      <td>0.345252</td>\n",
       "      <td>0.747195</td>\n",
       "      <td>0.721423</td>\n",
       "      <td>0.735255</td>\n",
       "      <td>1.000000</td>\n",
       "      <td>0.866761</td>\n",
       "      <td>0.449448</td>\n",
       "      <td>0.803860</td>\n",
       "      <td>0.085810</td>\n",
       "      <td>0.782214</td>\n",
       "      <td>0.882160</td>\n",
       "      <td>-0.761251</td>\n",
       "    </tr>\n",
       "    <tr>\n",
       "      <th>Flavanoids</th>\n",
       "      <td>0.183544</td>\n",
       "      <td>0.546075</td>\n",
       "      <td>0.129147</td>\n",
       "      <td>0.552450</td>\n",
       "      <td>0.523267</td>\n",
       "      <td>0.542247</td>\n",
       "      <td>0.866761</td>\n",
       "      <td>1.000000</td>\n",
       "      <td>0.219780</td>\n",
       "      <td>0.774064</td>\n",
       "      <td>-0.132989</td>\n",
       "      <td>0.681173</td>\n",
       "      <td>0.840877</td>\n",
       "      <td>-0.599046</td>\n",
       "    </tr>\n",
       "    <tr>\n",
       "      <th>Nonflavanoid phenols</th>\n",
       "      <td>0.770432</td>\n",
       "      <td>0.763887</td>\n",
       "      <td>0.569596</td>\n",
       "      <td>0.780876</td>\n",
       "      <td>0.784569</td>\n",
       "      <td>0.681605</td>\n",
       "      <td>0.449448</td>\n",
       "      <td>0.219780</td>\n",
       "      <td>1.000000</td>\n",
       "      <td>0.399438</td>\n",
       "      <td>0.377522</td>\n",
       "      <td>0.565921</td>\n",
       "      <td>0.491633</td>\n",
       "      <td>-0.648992</td>\n",
       "    </tr>\n",
       "    <tr>\n",
       "      <th>Proanthocyanins</th>\n",
       "      <td>0.433052</td>\n",
       "      <td>0.658288</td>\n",
       "      <td>0.349386</td>\n",
       "      <td>0.638723</td>\n",
       "      <td>0.642498</td>\n",
       "      <td>0.651123</td>\n",
       "      <td>0.803860</td>\n",
       "      <td>0.774064</td>\n",
       "      <td>0.399438</td>\n",
       "      <td>1.000000</td>\n",
       "      <td>0.074612</td>\n",
       "      <td>0.655400</td>\n",
       "      <td>0.782869</td>\n",
       "      <td>-0.668089</td>\n",
       "    </tr>\n",
       "    <tr>\n",
       "      <th>Color intensity</th>\n",
       "      <td>0.611852</td>\n",
       "      <td>0.391967</td>\n",
       "      <td>0.406474</td>\n",
       "      <td>0.381680</td>\n",
       "      <td>0.370805</td>\n",
       "      <td>0.352734</td>\n",
       "      <td>0.085810</td>\n",
       "      <td>-0.132989</td>\n",
       "      <td>0.377522</td>\n",
       "      <td>0.074612</td>\n",
       "      <td>1.000000</td>\n",
       "      <td>-0.049345</td>\n",
       "      <td>-0.072378</td>\n",
       "      <td>-0.304478</td>\n",
       "    </tr>\n",
       "    <tr>\n",
       "      <th>Hue</th>\n",
       "      <td>0.542946</td>\n",
       "      <td>0.787109</td>\n",
       "      <td>0.248712</td>\n",
       "      <td>0.746696</td>\n",
       "      <td>0.725635</td>\n",
       "      <td>0.758158</td>\n",
       "      <td>0.782214</td>\n",
       "      <td>0.681173</td>\n",
       "      <td>0.565921</td>\n",
       "      <td>0.655400</td>\n",
       "      <td>-0.049345</td>\n",
       "      <td>1.000000</td>\n",
       "      <td>0.832888</td>\n",
       "      <td>-0.773559</td>\n",
       "    </tr>\n",
       "    <tr>\n",
       "      <th>OD280/OD315 of diluted wines</th>\n",
       "      <td>0.470946</td>\n",
       "      <td>0.781888</td>\n",
       "      <td>0.346406</td>\n",
       "      <td>0.754064</td>\n",
       "      <td>0.745222</td>\n",
       "      <td>0.735386</td>\n",
       "      <td>0.882160</td>\n",
       "      <td>0.840877</td>\n",
       "      <td>0.491633</td>\n",
       "      <td>0.782869</td>\n",
       "      <td>-0.072378</td>\n",
       "      <td>0.832888</td>\n",
       "      <td>1.000000</td>\n",
       "      <td>-0.767557</td>\n",
       "    </tr>\n",
       "    <tr>\n",
       "      <th>Proline</th>\n",
       "      <td>-0.772245</td>\n",
       "      <td>-0.909308</td>\n",
       "      <td>-0.524663</td>\n",
       "      <td>-0.902545</td>\n",
       "      <td>-0.880512</td>\n",
       "      <td>-0.979435</td>\n",
       "      <td>-0.761251</td>\n",
       "      <td>-0.599046</td>\n",
       "      <td>-0.648992</td>\n",
       "      <td>-0.668089</td>\n",
       "      <td>-0.304478</td>\n",
       "      <td>-0.773559</td>\n",
       "      <td>-0.767557</td>\n",
       "      <td>1.000000</td>\n",
       "    </tr>\n",
       "  </tbody>\n",
       "</table>\n",
       "</div>"
      ],
      "text/plain": [
       "                                 Klass   Alcohol  Malic acid       Ash  \\\n",
       "Klass                         1.000000  0.875228    0.678845  0.848681   \n",
       "Alcohol                       0.875228  1.000000    0.622928  0.937653   \n",
       "Malic acid                    0.678845  0.622928    1.000000  0.624181   \n",
       "Ash                           0.848681  0.937653    0.624181  1.000000   \n",
       "Alcalinity of ash             0.864579  0.931706    0.625013  0.966468   \n",
       "Magnesium                     0.824064  0.923763    0.560272  0.915831   \n",
       "Total phenols                 0.502431  0.768087    0.345252  0.747195   \n",
       "Flavanoids                    0.183544  0.546075    0.129147  0.552450   \n",
       "Nonflavanoid phenols          0.770432  0.763887    0.569596  0.780876   \n",
       "Proanthocyanins               0.433052  0.658288    0.349386  0.638723   \n",
       "Color intensity               0.611852  0.391967    0.406474  0.381680   \n",
       "Hue                           0.542946  0.787109    0.248712  0.746696   \n",
       "OD280/OD315 of diluted wines  0.470946  0.781888    0.346406  0.754064   \n",
       "Proline                      -0.772245 -0.909308   -0.524663 -0.902545   \n",
       "\n",
       "                              Alcalinity of ash  Magnesium  Total phenols  \\\n",
       "Klass                                  0.864579   0.824064       0.502431   \n",
       "Alcohol                                0.931706   0.923763       0.768087   \n",
       "Malic acid                             0.625013   0.560272       0.345252   \n",
       "Ash                                    0.966468   0.915831       0.747195   \n",
       "Alcalinity of ash                      1.000000   0.893946       0.721423   \n",
       "Magnesium                              0.893946   1.000000       0.735255   \n",
       "Total phenols                          0.721423   0.735255       1.000000   \n",
       "Flavanoids                             0.523267   0.542247       0.866761   \n",
       "Nonflavanoid phenols                   0.784569   0.681605       0.449448   \n",
       "Proanthocyanins                        0.642498   0.651123       0.803860   \n",
       "Color intensity                        0.370805   0.352734       0.085810   \n",
       "Hue                                    0.725635   0.758158       0.782214   \n",
       "OD280/OD315 of diluted wines           0.745222   0.735386       0.882160   \n",
       "Proline                               -0.880512  -0.979435      -0.761251   \n",
       "\n",
       "                              Flavanoids  Nonflavanoid phenols  \\\n",
       "Klass                           0.183544              0.770432   \n",
       "Alcohol                         0.546075              0.763887   \n",
       "Malic acid                      0.129147              0.569596   \n",
       "Ash                             0.552450              0.780876   \n",
       "Alcalinity of ash               0.523267              0.784569   \n",
       "Magnesium                       0.542247              0.681605   \n",
       "Total phenols                   0.866761              0.449448   \n",
       "Flavanoids                      1.000000              0.219780   \n",
       "Nonflavanoid phenols            0.219780              1.000000   \n",
       "Proanthocyanins                 0.774064              0.399438   \n",
       "Color intensity                -0.132989              0.377522   \n",
       "Hue                             0.681173              0.565921   \n",
       "OD280/OD315 of diluted wines    0.840877              0.491633   \n",
       "Proline                        -0.599046             -0.648992   \n",
       "\n",
       "                              Proanthocyanins  Color intensity       Hue  \\\n",
       "Klass                                0.433052         0.611852  0.542946   \n",
       "Alcohol                              0.658288         0.391967  0.787109   \n",
       "Malic acid                           0.349386         0.406474  0.248712   \n",
       "Ash                                  0.638723         0.381680  0.746696   \n",
       "Alcalinity of ash                    0.642498         0.370805  0.725635   \n",
       "Magnesium                            0.651123         0.352734  0.758158   \n",
       "Total phenols                        0.803860         0.085810  0.782214   \n",
       "Flavanoids                           0.774064        -0.132989  0.681173   \n",
       "Nonflavanoid phenols                 0.399438         0.377522  0.565921   \n",
       "Proanthocyanins                      1.000000         0.074612  0.655400   \n",
       "Color intensity                      0.074612         1.000000 -0.049345   \n",
       "Hue                                  0.655400        -0.049345  1.000000   \n",
       "OD280/OD315 of diluted wines         0.782869        -0.072378  0.832888   \n",
       "Proline                             -0.668089        -0.304478 -0.773559   \n",
       "\n",
       "                              OD280/OD315 of diluted wines   Proline  \n",
       "Klass                                             0.470946 -0.772245  \n",
       "Alcohol                                           0.781888 -0.909308  \n",
       "Malic acid                                        0.346406 -0.524663  \n",
       "Ash                                               0.754064 -0.902545  \n",
       "Alcalinity of ash                                 0.745222 -0.880512  \n",
       "Magnesium                                         0.735386 -0.979435  \n",
       "Total phenols                                     0.882160 -0.761251  \n",
       "Flavanoids                                        0.840877 -0.599046  \n",
       "Nonflavanoid phenols                              0.491633 -0.648992  \n",
       "Proanthocyanins                                   0.782869 -0.668089  \n",
       "Color intensity                                  -0.072378 -0.304478  \n",
       "Hue                                               0.832888 -0.773559  \n",
       "OD280/OD315 of diluted wines                      1.000000 -0.767557  \n",
       "Proline                                          -0.767557  1.000000  "
      ]
     },
     "execution_count": 14,
     "metadata": {},
     "output_type": "execute_result"
    }
   ],
   "source": [
    "l=['Klass','Alcohol','Malic acid','Ash','Alcalinity of ash','Magnesium','Total phenols','Flavanoids','Nonflavanoid phenols','Proanthocyanins','Color intensity','Hue','OD280/OD315 of diluted wines','Proline']\n",
    "P=DataSet_n[l].corr()\n",
    "P"
   ]
  },
  {
   "cell_type": "code",
   "execution_count": 15,
   "metadata": {},
   "outputs": [
    {
     "data": {
      "text/plain": [
       "<AxesSubplot:>"
      ]
     },
     "execution_count": 15,
     "metadata": {},
     "output_type": "execute_result"
    },
    {
     "data": {
      "image/png": "[encoded data removed]",
      "text/plain": [
       "<Figure size 432x288 with 2 Axes>"
      ]
     },
     "metadata": {
      "needs_background": "light"
     },
     "output_type": "display_data"
    }
   ],
   "source": [
    "sns.heatmap(P)"
   ]
  },
  {
   "cell_type": "code",
   "execution_count": 16,
   "metadata": {},
   "outputs": [
    {
     "data": {
      "text/html": [
       "<div>\n",
       "<style scoped>\n",
       "    .dataframe tbody tr th:only-of-type {\n",
       "        vertical-align: middle;\n",
       "    }\n",
       "\n",
       "    .dataframe tbody tr th {\n",
       "        vertical-align: top;\n",
       "    }\n",
       "\n",
       "    .dataframe thead th {\n",
       "        text-align: right;\n",
       "    }\n",
       "</style>\n",
       "<table border=\"1\" class=\"dataframe\">\n",
       "  <thead>\n",
       "    <tr style=\"text-align: right;\">\n",
       "      <th></th>\n",
       "      <th>Klass</th>\n",
       "      <th>Malic acid</th>\n",
       "      <th>Ash</th>\n",
       "      <th>Magnesium</th>\n",
       "      <th>Total phenols</th>\n",
       "      <th>Flavanoids</th>\n",
       "      <th>Nonflavanoid phenols</th>\n",
       "      <th>Proanthocyanins</th>\n",
       "      <th>Color intensity</th>\n",
       "      <th>Hue</th>\n",
       "      <th>OD280/OD315 of diluted wines</th>\n",
       "      <th>Proline</th>\n",
       "    </tr>\n",
       "  </thead>\n",
       "  <tbody>\n",
       "    <tr>\n",
       "      <th>Klass</th>\n",
       "      <td>1.000000</td>\n",
       "      <td>0.678845</td>\n",
       "      <td>0.848681</td>\n",
       "      <td>0.824064</td>\n",
       "      <td>0.502431</td>\n",
       "      <td>0.183544</td>\n",
       "      <td>0.770432</td>\n",
       "      <td>0.433052</td>\n",
       "      <td>0.611852</td>\n",
       "      <td>0.542946</td>\n",
       "      <td>0.470946</td>\n",
       "      <td>-0.772245</td>\n",
       "    </tr>\n",
       "    <tr>\n",
       "      <th>Malic acid</th>\n",
       "      <td>0.678845</td>\n",
       "      <td>1.000000</td>\n",
       "      <td>0.624181</td>\n",
       "      <td>0.560272</td>\n",
       "      <td>0.345252</td>\n",
       "      <td>0.129147</td>\n",
       "      <td>0.569596</td>\n",
       "      <td>0.349386</td>\n",
       "      <td>0.406474</td>\n",
       "      <td>0.248712</td>\n",
       "      <td>0.346406</td>\n",
       "      <td>-0.524663</td>\n",
       "    </tr>\n",
       "    <tr>\n",
       "      <th>Ash</th>\n",
       "      <td>0.848681</td>\n",
       "      <td>0.624181</td>\n",
       "      <td>1.000000</td>\n",
       "      <td>0.915831</td>\n",
       "      <td>0.747195</td>\n",
       "      <td>0.552450</td>\n",
       "      <td>0.780876</td>\n",
       "      <td>0.638723</td>\n",
       "      <td>0.381680</td>\n",
       "      <td>0.746696</td>\n",
       "      <td>0.754064</td>\n",
       "      <td>-0.902545</td>\n",
       "    </tr>\n",
       "    <tr>\n",
       "      <th>Magnesium</th>\n",
       "      <td>0.824064</td>\n",
       "      <td>0.560272</td>\n",
       "      <td>0.915831</td>\n",
       "      <td>1.000000</td>\n",
       "      <td>0.735255</td>\n",
       "      <td>0.542247</td>\n",
       "      <td>0.681605</td>\n",
       "      <td>0.651123</td>\n",
       "      <td>0.352734</td>\n",
       "      <td>0.758158</td>\n",
       "      <td>0.735386</td>\n",
       "      <td>-0.979435</td>\n",
       "    </tr>\n",
       "    <tr>\n",
       "      <th>Total phenols</th>\n",
       "      <td>0.502431</td>\n",
       "      <td>0.345252</td>\n",
       "      <td>0.747195</td>\n",
       "      <td>0.735255</td>\n",
       "      <td>1.000000</td>\n",
       "      <td>0.866761</td>\n",
       "      <td>0.449448</td>\n",
       "      <td>0.803860</td>\n",
       "      <td>0.085810</td>\n",
       "      <td>0.782214</td>\n",
       "      <td>0.882160</td>\n",
       "      <td>-0.761251</td>\n",
       "    </tr>\n",
       "    <tr>\n",
       "      <th>Flavanoids</th>\n",
       "      <td>0.183544</td>\n",
       "      <td>0.129147</td>\n",
       "      <td>0.552450</td>\n",
       "      <td>0.542247</td>\n",
       "      <td>0.866761</td>\n",
       "      <td>1.000000</td>\n",
       "      <td>0.219780</td>\n",
       "      <td>0.774064</td>\n",
       "      <td>-0.132989</td>\n",
       "      <td>0.681173</td>\n",
       "      <td>0.840877</td>\n",
       "      <td>-0.599046</td>\n",
       "    </tr>\n",
       "    <tr>\n",
       "      <th>Nonflavanoid phenols</th>\n",
       "      <td>0.770432</td>\n",
       "      <td>0.569596</td>\n",
       "      <td>0.780876</td>\n",
       "      <td>0.681605</td>\n",
       "      <td>0.449448</td>\n",
       "      <td>0.219780</td>\n",
       "      <td>1.000000</td>\n",
       "      <td>0.399438</td>\n",
       "      <td>0.377522</td>\n",
       "      <td>0.565921</td>\n",
       "      <td>0.491633</td>\n",
       "      <td>-0.648992</td>\n",
       "    </tr>\n",
       "    <tr>\n",
       "      <th>Proanthocyanins</th>\n",
       "      <td>0.433052</td>\n",
       "      <td>0.349386</td>\n",
       "      <td>0.638723</td>\n",
       "      <td>0.651123</td>\n",
       "      <td>0.803860</td>\n",
       "      <td>0.774064</td>\n",
       "      <td>0.399438</td>\n",
       "      <td>1.000000</td>\n",
       "      <td>0.074612</td>\n",
       "      <td>0.655400</td>\n",
       "      <td>0.782869</td>\n",
       "      <td>-0.668089</td>\n",
       "    </tr>\n",
       "    <tr>\n",
       "      <th>Color intensity</th>\n",
       "      <td>0.611852</td>\n",
       "      <td>0.406474</td>\n",
       "      <td>0.381680</td>\n",
       "      <td>0.352734</td>\n",
       "      <td>0.085810</td>\n",
       "      <td>-0.132989</td>\n",
       "      <td>0.377522</td>\n",
       "      <td>0.074612</td>\n",
       "      <td>1.000000</td>\n",
       "      <td>-0.049345</td>\n",
       "      <td>-0.072378</td>\n",
       "      <td>-0.304478</td>\n",
       "    </tr>\n",
       "    <tr>\n",
       "      <th>Hue</th>\n",
       "      <td>0.542946</td>\n",
       "      <td>0.248712</td>\n",
       "      <td>0.746696</td>\n",
       "      <td>0.758158</td>\n",
       "      <td>0.782214</td>\n",
       "      <td>0.681173</td>\n",
       "      <td>0.565921</td>\n",
       "      <td>0.655400</td>\n",
       "      <td>-0.049345</td>\n",
       "      <td>1.000000</td>\n",
       "      <td>0.832888</td>\n",
       "      <td>-0.773559</td>\n",
       "    </tr>\n",
       "    <tr>\n",
       "      <th>OD280/OD315 of diluted wines</th>\n",
       "      <td>0.470946</td>\n",
       "      <td>0.346406</td>\n",
       "      <td>0.754064</td>\n",
       "      <td>0.735386</td>\n",
       "      <td>0.882160</td>\n",
       "      <td>0.840877</td>\n",
       "      <td>0.491633</td>\n",
       "      <td>0.782869</td>\n",
       "      <td>-0.072378</td>\n",
       "      <td>0.832888</td>\n",
       "      <td>1.000000</td>\n",
       "      <td>-0.767557</td>\n",
       "    </tr>\n",
       "    <tr>\n",
       "      <th>Proline</th>\n",
       "      <td>-0.772245</td>\n",
       "      <td>-0.524663</td>\n",
       "      <td>-0.902545</td>\n",
       "      <td>-0.979435</td>\n",
       "      <td>-0.761251</td>\n",
       "      <td>-0.599046</td>\n",
       "      <td>-0.648992</td>\n",
       "      <td>-0.668089</td>\n",
       "      <td>-0.304478</td>\n",
       "      <td>-0.773559</td>\n",
       "      <td>-0.767557</td>\n",
       "      <td>1.000000</td>\n",
       "    </tr>\n",
       "  </tbody>\n",
       "</table>\n",
       "</div>"
      ],
      "text/plain": [
       "                                 Klass  Malic acid       Ash  Magnesium  \\\n",
       "Klass                         1.000000    0.678845  0.848681   0.824064   \n",
       "Malic acid                    0.678845    1.000000  0.624181   0.560272   \n",
       "Ash                           0.848681    0.624181  1.000000   0.915831   \n",
       "Magnesium                     0.824064    0.560272  0.915831   1.000000   \n",
       "Total phenols                 0.502431    0.345252  0.747195   0.735255   \n",
       "Flavanoids                    0.183544    0.129147  0.552450   0.542247   \n",
       "Nonflavanoid phenols          0.770432    0.569596  0.780876   0.681605   \n",
       "Proanthocyanins               0.433052    0.349386  0.638723   0.651123   \n",
       "Color intensity               0.611852    0.406474  0.381680   0.352734   \n",
       "Hue                           0.542946    0.248712  0.746696   0.758158   \n",
       "OD280/OD315 of diluted wines  0.470946    0.346406  0.754064   0.735386   \n",
       "Proline                      -0.772245   -0.524663 -0.902545  -0.979435   \n",
       "\n",
       "                              Total phenols  Flavanoids  Nonflavanoid phenols  \\\n",
       "Klass                              0.502431    0.183544              0.770432   \n",
       "Malic acid                         0.345252    0.129147              0.569596   \n",
       "Ash                                0.747195    0.552450              0.780876   \n",
       "Magnesium                          0.735255    0.542247              0.681605   \n",
       "Total phenols                      1.000000    0.866761              0.449448   \n",
       "Flavanoids                         0.866761    1.000000              0.219780   \n",
       "Nonflavanoid phenols               0.449448    0.219780              1.000000   \n",
       "Proanthocyanins                    0.803860    0.774064              0.399438   \n",
       "Color intensity                    0.085810   -0.132989              0.377522   \n",
       "Hue                                0.782214    0.681173              0.565921   \n",
       "OD280/OD315 of diluted wines       0.882160    0.840877              0.491633   \n",
       "Proline                           -0.761251   -0.599046             -0.648992   \n",
       "\n",
       "                              Proanthocyanins  Color intensity       Hue  \\\n",
       "Klass                                0.433052         0.611852  0.542946   \n",
       "Malic acid                           0.349386         0.406474  0.248712   \n",
       "Ash                                  0.638723         0.381680  0.746696   \n",
       "Magnesium                            0.651123         0.352734  0.758158   \n",
       "Total phenols                        0.803860         0.085810  0.782214   \n",
       "Flavanoids                           0.774064        -0.132989  0.681173   \n",
       "Nonflavanoid phenols                 0.399438         0.377522  0.565921   \n",
       "Proanthocyanins                      1.000000         0.074612  0.655400   \n",
       "Color intensity                      0.074612         1.000000 -0.049345   \n",
       "Hue                                  0.655400        -0.049345  1.000000   \n",
       "OD280/OD315 of diluted wines         0.782869        -0.072378  0.832888   \n",
       "Proline                             -0.668089        -0.304478 -0.773559   \n",
       "\n",
       "                              OD280/OD315 of diluted wines   Proline  \n",
       "Klass                                             0.470946 -0.772245  \n",
       "Malic acid                                        0.346406 -0.524663  \n",
       "Ash                                               0.754064 -0.902545  \n",
       "Magnesium                                         0.735386 -0.979435  \n",
       "Total phenols                                     0.882160 -0.761251  \n",
       "Flavanoids                                        0.840877 -0.599046  \n",
       "Nonflavanoid phenols                              0.491633 -0.648992  \n",
       "Proanthocyanins                                   0.782869 -0.668089  \n",
       "Color intensity                                  -0.072378 -0.304478  \n",
       "Hue                                               0.832888 -0.773559  \n",
       "OD280/OD315 of diluted wines                      1.000000 -0.767557  \n",
       "Proline                                          -0.767557  1.000000  "
      ]
     },
     "execution_count": 16,
     "metadata": {},
     "output_type": "execute_result"
    }
   ],
   "source": [
    "R=['Klass','Malic acid','Ash','Magnesium','Total phenols','Flavanoids','Nonflavanoid phenols','Proanthocyanins','Color intensity','Hue','OD280/OD315 of diluted wines','Proline']\n",
    "DataSet_n[R].corr()"
   ]
  },
  {
   "cell_type": "markdown",
   "metadata": {},
   "source": [
    "## 7.\tЗаполнитим пропущенные значения в данных"
   ]
  },
  {
   "cell_type": "code",
   "execution_count": 17,
   "metadata": {},
   "outputs": [
    {
     "data": {
      "text/plain": [
       "Klass                           False\n",
       "Alcohol                         False\n",
       "Malic acid                      False\n",
       "Ash                             False\n",
       "Alcalinity of ash               False\n",
       "Magnesium                       False\n",
       "Total phenols                   False\n",
       "Flavanoids                      False\n",
       "Nonflavanoid phenols            False\n",
       "Proanthocyanins                 False\n",
       "Color intensity                 False\n",
       "Hue                             False\n",
       "OD280/OD315 of diluted wines    False\n",
       "Proline                         False\n",
       "dtype: bool"
      ]
     },
     "execution_count": 17,
     "metadata": {},
     "output_type": "execute_result"
    }
   ],
   "source": [
    "DataSet_n.count().isna()"
   ]
  },
  {
   "cell_type": "markdown",
   "metadata": {},
   "source": [
    "## 8.\tРешим поставленную задачу классификации с помщью линейного классификатора и логического классификатора.\n",
    "### Линейный классификатор"
   ]
  },
  {
   "cell_type": "code",
   "execution_count": 18,
   "metadata": {},
   "outputs": [
    {
     "name": "stdout",
     "output_type": "stream",
     "text": [
      "Оценка точности: 1.0\n",
      "\n",
      "Матрица ошибок: \n",
      "[[14  0  0]\n",
      " [ 0 13  0]\n",
      " [ 0  0  9]]\n",
      "\n",
      "Отчет о классификации: \n",
      "              precision    recall  f1-score   support\n",
      "\n",
      "         1.0       1.00      1.00      1.00        14\n",
      "         2.0       1.00      1.00      1.00        13\n",
      "         3.0       1.00      1.00      1.00         9\n",
      "\n",
      "    accuracy                           1.00        36\n",
      "   macro avg       1.00      1.00      1.00        36\n",
      "weighted avg       1.00      1.00      1.00        36\n",
      "\n"
     ]
    }
   ],
   "source": [
    "X1=DataSet_s.values[:,1:13]\n",
    "Y1=DataSet.values[:,0]\n",
    "X1_train, X1_test, Y1_train, Y1_test=train_test_split(X1, Y1, test_size=.2, random_state=1)\n",
    "#DataSet_n.describe()\n",
    "\n",
    "# Персептрон\n",
    "ppn = Perceptron(max_iter = 500, eta0 = 1, penalty='l2', random_state = 1)\n",
    "ppn.fit(X1_train, Y1_train)\n",
    "y1_pred = ppn.predict(X1_test)\n",
    "print(\"Оценка точности: \"+ str(accuracy_score(Y1_test, y1_pred)))\n",
    "\n",
    "print(\"\\nМатрица ошибок: \\n\"+str(confusion_matrix(Y1_test,y1_pred)))\n",
    "\n",
    "print(\"\\nОтчет о классификации: \\n\"+str(classification_report(Y1_test, y1_pred)))\n"
   ]
  },
  {
   "cell_type": "markdown",
   "metadata": {},
   "source": [
    "### Логический классификатор"
   ]
  },
  {
   "cell_type": "code",
   "execution_count": 19,
   "metadata": {},
   "outputs": [
    {
     "name": "stdout",
     "output_type": "stream",
     "text": [
      "Оценка точности: 1.0\n",
      "\n",
      "Матрица ошибок: \n",
      "[[14  0  0]\n",
      " [ 0 13  0]\n",
      " [ 0  0  9]]\n",
      "\n",
      "Отчет о классификации: \n",
      "              precision    recall  f1-score   support\n",
      "\n",
      "         1.0       1.00      1.00      1.00        14\n",
      "         2.0       1.00      1.00      1.00        13\n",
      "         3.0       1.00      1.00      1.00         9\n",
      "\n",
      "    accuracy                           1.00        36\n",
      "   macro avg       1.00      1.00      1.00        36\n",
      "weighted avg       1.00      1.00      1.00        36\n",
      "\n"
     ]
    }
   ],
   "source": [
    "ppt = DecisionTreeClassifier(criterion = 'gini', max_depth = 3,max_features= 10, random_state = 1)\n",
    "ppt.fit(X1_train, Y1_train)\n",
    "y2_pred = ppn.predict(X1_test)\n",
    "print(\"Оценка точности: \" + str(accuracy_score(Y1_test, y2_pred)))\n",
    "print(\"\\nМатрица ошибок: \\n\" + str(confusion_matrix(Y1_test, y2_pred)))\n",
    "print(\"\\nОтчет о классификации: \\n\" + str(classification_report(Y1_test, y2_pred)))"
   ]
  },
  {
   "cell_type": "markdown",
   "metadata": {},
   "source": [
    "### Воспользуемся методом Gridsearchcv"
   ]
  },
  {
   "cell_type": "markdown",
   "metadata": {},
   "source": [
    "#### Для линейного классификатора"
   ]
  },
  {
   "cell_type": "code",
   "execution_count": 20,
   "metadata": {},
   "outputs": [
    {
     "name": "stdout",
     "output_type": "stream",
     "text": [
      "Fitting 5 folds for each of 90 candidates, totalling 450 fits\n",
      "{'max_iter': 500, 'penalty': 'l1'}\n",
      "0.9571428571428571\n",
      "1.0\n"
     ]
    }
   ],
   "source": [
    "ppn_params = {'max_iter': range(500,2000,50), 'penalty':('l2','l1','elasticnet')}\n",
    "ppn_grid = GridSearchCV(ppn, ppn_params, cv=5, n_jobs=-1, verbose=True)\n",
    "ppn_grid.fit(X1_train, Y1_train)\n",
    "\n",
    "print(ppn_grid.best_params_)\n",
    "\n",
    "print(ppn_grid.best_score_)\n",
    "\n",
    "print(accuracy_score(Y1_test, y1_pred))"
   ]
  },
  {
   "cell_type": "markdown",
   "metadata": {},
   "source": [
    "#### Для логического классификатора"
   ]
  },
  {
   "cell_type": "code",
   "execution_count": 21,
   "metadata": {},
   "outputs": [
    {
     "name": "stdout",
     "output_type": "stream",
     "text": [
      "Fitting 5 folds for each of 300 candidates, totalling 1500 fits\n",
      "{'criterion': 'entropy', 'max_depth': 5, 'max_features': 8}\n",
      "0.9790640394088671\n",
      "1.0\n"
     ]
    },
    {
     "name": "stderr",
     "output_type": "stream",
     "text": [
      "C:\\GitHub\\WPy64-3910\\python-3.9.1.amd64\\lib\\site-packages\\sklearn\\model_selection\\_search.py:918: UserWarning: One or more of the test scores are non-finite: [0.60492611 0.61921182 0.61921182 0.61921182 0.61921182 0.61921182\n",
      " 0.61921182 0.61921182 0.591133          nan        nan        nan\n",
      "        nan        nan        nan 0.88694581 0.77339901 0.83004926\n",
      " 0.89408867 0.89384236 0.90098522 0.89408867 0.89408867 0.85862069\n",
      "        nan        nan        nan        nan        nan        nan\n",
      " 0.90123153 0.80837438 0.88669951 0.91502463 0.92241379 0.93669951\n",
      " 0.92980296 0.92980296 0.9364532         nan        nan        nan\n",
      "        nan        nan        nan 0.9226601  0.89310345 0.89359606\n",
      " 0.93669951 0.95049261 0.94359606 0.9364532  0.92955665 0.9364532\n",
      "        nan        nan        nan        nan        nan        nan\n",
      " 0.94359606 0.88596059 0.90073892 0.95098522 0.96453202 0.95763547\n",
      " 0.95073892 0.94384236 0.95073892        nan        nan        nan\n",
      "        nan        nan        nan 0.94359606 0.88596059 0.90073892\n",
      " 0.95098522 0.96453202 0.95763547 0.95073892 0.94384236 0.95073892\n",
      "        nan        nan        nan        nan        nan        nan\n",
      " 0.94359606 0.88596059 0.90073892 0.95098522 0.96453202 0.95763547\n",
      " 0.95073892 0.94384236 0.95073892        nan        nan        nan\n",
      "        nan        nan        nan 0.94359606 0.88596059 0.90073892\n",
      " 0.95098522 0.96453202 0.95763547 0.95073892 0.94384236 0.95073892\n",
      "        nan        nan        nan        nan        nan        nan\n",
      " 0.94359606 0.88596059 0.90073892 0.95098522 0.96453202 0.95763547\n",
      " 0.95073892 0.94384236 0.95073892        nan        nan        nan\n",
      "        nan        nan        nan 0.94359606 0.88596059 0.90073892\n",
      " 0.95098522 0.96453202 0.95763547 0.95073892 0.94384236 0.95073892\n",
      "        nan        nan        nan        nan        nan        nan\n",
      " 0.57758621 0.57758621 0.57758621 0.57758621 0.57758621 0.57758621\n",
      " 0.57758621 0.57758621 0.57758621        nan        nan        nan\n",
      "        nan        nan        nan 0.90837438 0.80960591 0.88694581\n",
      " 0.90837438 0.91527094 0.90837438 0.90837438 0.90123153 0.90837438\n",
      "        nan        nan        nan        nan        nan        nan\n",
      " 0.93694581 0.87192118 0.88719212 0.92241379 0.95073892 0.94359606\n",
      " 0.95073892 0.9226601  0.92980296        nan        nan        nan\n",
      "        nan        nan        nan 0.94384236 0.94334975 0.92955665\n",
      " 0.96477833 0.95763547 0.95788177 0.94359606 0.92955665 0.94408867\n",
      "        nan        nan        nan        nan        nan        nan\n",
      " 0.95098522 0.94334975 0.94384236 0.96477833 0.97906404 0.95788177\n",
      " 0.95073892 0.93669951 0.95837438        nan        nan        nan\n",
      "        nan        nan        nan 0.95098522 0.9362069  0.94384236\n",
      " 0.96477833 0.97906404 0.95788177 0.95073892 0.93669951 0.95837438\n",
      "        nan        nan        nan        nan        nan        nan\n",
      " 0.95098522 0.9362069  0.94384236 0.96477833 0.97906404 0.95788177\n",
      " 0.95073892 0.93669951 0.95837438        nan        nan        nan\n",
      "        nan        nan        nan 0.95098522 0.9362069  0.94384236\n",
      " 0.96477833 0.97906404 0.95788177 0.95073892 0.93669951 0.95837438\n",
      "        nan        nan        nan        nan        nan        nan\n",
      " 0.95098522 0.9362069  0.94384236 0.96477833 0.97906404 0.95788177\n",
      " 0.95073892 0.93669951 0.95837438        nan        nan        nan\n",
      "        nan        nan        nan 0.95098522 0.9362069  0.94384236\n",
      " 0.96477833 0.97906404 0.95788177 0.95073892 0.93669951 0.95837438\n",
      "        nan        nan        nan        nan        nan        nan]\n",
      "  warnings.warn(\n"
     ]
    }
   ],
   "source": [
    "tree_params = {'max_depth': range(1,11), 'max_features': range(4,19), 'criterion':('gini', 'entropy')}\n",
    "tree_grid = GridSearchCV(ppt, tree_params, cv=5, n_jobs=-1, verbose=True)\n",
    "tree_grid.fit(X1_train, Y1_train)\n",
    "\n",
    "print(tree_grid.best_params_)\n",
    "\n",
    "print(tree_grid.best_score_)\n",
    "\n",
    "print(accuracy_score(Y1_test, y2_pred))"
   ]
  },
  {
   "cell_type": "markdown",
   "metadata": {},
   "source": [
    "### Перекресный метод"
   ]
  },
  {
   "cell_type": "markdown",
   "metadata": {},
   "source": [
    "#### Для линейной классификации "
   ]
  },
  {
   "cell_type": "code",
   "execution_count": 22,
   "metadata": {},
   "outputs": [
    {
     "name": "stdout",
     "output_type": "stream",
     "text": [
      "Точность для cv=5:  [0.96551724 0.96551724 0.89285714 0.96428571 0.92857143]\n",
      "Среднее значение точности:  0.9433497536945813\n"
     ]
    }
   ],
   "source": [
    "all_accuracies = cross_val_score(estimator=ppn, X=X1_train, y=Y1_train, cv=5)\n",
    "print(\"Точность для cv=5: \",all_accuracies)\n",
    "print(\"Среднее значение точности: \",all_accuracies.mean())"
   ]
  },
  {
   "cell_type": "markdown",
   "metadata": {},
   "source": [
    "#### Для логической классификации"
   ]
  },
  {
   "cell_type": "code",
   "execution_count": 23,
   "metadata": {},
   "outputs": [
    {
     "name": "stdout",
     "output_type": "stream",
     "text": [
      "Точность для cv=5:  [0.89655172 0.93103448 0.92857143 0.96428571 0.92857143]\n",
      "Среднее значение точности:  0.9298029556650247\n"
     ]
    }
   ],
   "source": [
    "all_accuracies = cross_val_score(estimator=ppt, X=X1_train, y=Y1_train, cv=5)\n",
    "print(\"Точность для cv=5: \",all_accuracies)\n",
    "print(\"Среднее значение точности: \",all_accuracies.mean())"
   ]
  },
  {
   "cell_type": "markdown",
   "metadata": {},
   "source": [
    "## 9.\tСравните кривые для классификаторов"
   ]
  },
  {
   "cell_type": "markdown",
   "metadata": {},
   "source": [
    "### ROC для линейного "
   ]
  },
  {
   "cell_type": "code",
   "execution_count": 24,
   "metadata": {},
   "outputs": [
    {
     "data": {
      "image/png": "[encoded data removed]",
      "text/plain": [
       "<Figure size 720x720 with 1 Axes>"
      ]
     },
     "metadata": {},
     "output_type": "display_data"
    }
   ],
   "source": [
    "from sklearn.metrics import precision_recall_curve, classification_report\n",
    "from matplotlib.pylab import rc, plot\n",
    "import sklearn.metrics as metrics\n",
    "import matplotlib.pyplot as plt\n",
    "sns.set(font_scale=1.5)\n",
    "sns.set_color_codes(\"muted\")\n",
    "\n",
    "plt.figure(figsize=(10, 10))\n",
    "fpr, tpr, thresholds = metrics.roc_curve(Y1_test, y1_pred, pos_label=1)\n",
    "plt.plot(fpr, tpr, label='ROC curve ')\n",
    "plt.plot([0, 1], [0, 1])\n",
    "plt.xlim([0.0, 1.1])\n",
    "plt.ylim([0.0, 1.1])\n",
    "plt.xlabel('False Positive Rate')\n",
    "plt.ylabel('True Positive Rate')\n",
    "plt.title('ROC curve')\n",
    "plt.show()"
   ]
  },
  {
   "cell_type": "markdown",
   "metadata": {},
   "source": [
    "### ROC для логического"
   ]
  },
  {
   "cell_type": "code",
   "execution_count": 25,
   "metadata": {},
   "outputs": [
    {
     "data": {
      "image/png": "[encoded data removed]",
      "text/plain": [
       "<Figure size 720x720 with 1 Axes>"
      ]
     },
     "metadata": {},
     "output_type": "display_data"
    }
   ],
   "source": [
    "plt.figure(figsize=(10, 10))\n",
    "fpr, tpr, thresholds = metrics.roc_curve(Y1_test, ppt.predict_proba(X1_test)[:,1], pos_label=1)\n",
    "plt.plot(fpr, tpr, label='ROC curve ')\n",
    "plt.plot([0, 1], [0, 1])\n",
    "plt.xlim([0.0, 1.1])\n",
    "plt.ylim([0.0, 1.1])\n",
    "plt.xlabel('False Positive Rate')\n",
    "plt.ylabel('True Positive Rate')\n",
    "plt.title('ROC curve')\n",
    "plt.show()"
   ]
  },
  {
   "cell_type": "markdown",
   "metadata": {},
   "source": [
    "### PR для линейного"
   ]
  },
  {
   "cell_type": "code",
   "execution_count": 26,
   "metadata": {},
   "outputs": [
    {
     "data": {
      "image/png": "[encoded data removed]",
      "text/plain": [
       "<Figure size 720x720 with 1 Axes>"
      ]
     },
     "metadata": {},
     "output_type": "display_data"
    }
   ],
   "source": [
    "plt.figure(figsize=(10, 10))\n",
    "fpr, tpr, thresholds = metrics.precision_recall_curve(Y1_test, y1_pred, pos_label=1)\n",
    "plt.plot(fpr, tpr, label='PR curve ')\n",
    "plt.plot([0, 1], [0, 1])\n",
    "plt.xlim([0.0, 1.0])\n",
    "plt.ylim([0.0, 1.0])\n",
    "plt.xlabel('Precision')\n",
    "plt.ylabel('Recal')\n",
    "plt.title('PR curve')\n",
    "plt.show()"
   ]
  },
  {
   "cell_type": "markdown",
   "metadata": {},
   "source": [
    "### PR для логического"
   ]
  },
  {
   "cell_type": "code",
   "execution_count": 27,
   "metadata": {},
   "outputs": [
    {
     "data": {
      "image/png": "[encoded data removed]",
      "text/plain": [
       "<Figure size 720x720 with 1 Axes>"
      ]
     },
     "metadata": {},
     "output_type": "display_data"
    }
   ],
   "source": [
    "plt.figure(figsize=(10, 10))\n",
    "fpr, tpr, thresholds = metrics.precision_recall_curve(Y1_test, ppt.predict_proba(X1_test)[:,1], pos_label=1)\n",
    "plt.plot(fpr, tpr, label='PR curve ')\n",
    "plt.plot([0, 1], [0, 1])\n",
    "plt.xlim([0.0, 1.0])\n",
    "plt.ylim([0.0, 1.0])\n",
    "plt.xlabel('Precision')\n",
    "plt.ylabel('Recal')\n",
    "plt.title('PR curve')\n",
    "plt.show()"
   ]
  },
  {
   "cell_type": "code",
   "execution_count": null,
   "metadata": {},
   "outputs": [],
   "source": []
  }
 ],
 "metadata": {
  "kernelspec": {
   "display_name": "Python 3",
   "language": "python",
   "name": "python3"
  },
  "language_info": {
   "codemirror_mode": {
    "name": "ipython",
    "version": 3
   },
   "file_extension": ".py",
   "mimetype": "text/x-python",
   "name": "python",
   "nbconvert_exporter": "python",
   "pygments_lexer": "ipython3",
   "version": "3.9.1"
  }
 },
 "nbformat": 4,
 "nbformat_minor": 4
}
