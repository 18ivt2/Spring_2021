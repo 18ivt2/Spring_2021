{
 "cells": [
  {
   "cell_type": "code",
   "execution_count": 2,
   "metadata": {},
   "outputs": [],
   "source": [
    "import pandas as pd\n",
    "import seaborn as sns\n",
    "import numpy as np\n",
    "import matplotlib.pyplot as plt"
   ]
  },
  {
   "cell_type": "code",
   "execution_count": 3,
   "metadata": {},
   "outputs": [],
   "source": [
    "#таблица 1\n",
    "X_train = pd.read_csv('X_train.txt', header=None, delimiter='\\n', encoding = 'utf-8')\n",
    "y_train = pd.read_csv('y_train.txt', header=None, delimiter='\\n', encoding = 'utf-8')\n",
    "subject_train = pd.read_csv('subject_train.txt', header=None, delimiter='\\n', encoding = 'utf-8')\n",
    "body_acc_x_train = pd.read_csv('body_acc_x_train.txt', header=None, delimiter='\\n', encoding = 'utf-8')\n",
    "body_acc_y_train = pd.read_csv('body_acc_y_train.txt', header=None, delimiter='\\n', encoding = 'utf-8')\n",
    "body_acc_z_train = pd.read_csv('body_acc_z_train.txt', header=None, delimiter='\\n', encoding = 'utf-8')\n",
    "body_gyro_x_train = pd.read_csv('body_gyro_x_train.txt', header=None, delimiter='\\n', encoding = 'utf-8')\n",
    "body_gyro_y_train = pd.read_csv('body_gyro_y_train.txt', header=None, delimiter='\\n', encoding = 'utf-8')\n",
    "body_gyro_z_train = pd.read_csv('body_gyro_z_train.txt', header=None, delimiter='\\n', encoding = 'utf-8')\n",
    "total_acc_x_train = pd.read_csv('total_acc_x_train.txt', header=None, delimiter='\\n', encoding = 'utf-8')\n",
    "total_acc_y_train = pd.read_csv('total_acc_y_train.txt', header=None, delimiter='\\n', encoding = 'utf-8')\n",
    "total_acc_z_train = pd.read_csv('total_acc_z_train.txt', header=None, delimiter='\\n', encoding = 'utf-8')"
   ]
  },
  {
   "cell_type": "code",
   "execution_count": 4,
   "metadata": {},
   "outputs": [],
   "source": [
    "# Объединение всех txt файлов с меткой train в одну таблицу\n",
    "data_train = pd.DataFrame({\n",
    "    'X_train':list(X_train[0]),\n",
    "    'y_train':list(y_train[0]),\n",
    "    'subject_train':list(subject_train[0]),\n",
    "    'body_acc_x_train':list(body_acc_x_train[0]),\n",
    "    'body_acc_y_train':list(body_acc_y_train[0]),\n",
    "    'body_acc_z_train':list(body_acc_z_train[0]),\n",
    "    'body_gyro_x_train':list(body_gyro_x_train[0]),\n",
    "    'body_gyro_y_train':list(body_gyro_y_train[0]),\n",
    "    'body_gyro_z_train':list(body_gyro_z_train[0]),\n",
    "    'total_acc_x_train':list(total_acc_x_train[0]),\n",
    "    'total_acc_y_train':list(total_acc_y_train[0]),\n",
    "    'total_acc_z_train':list(total_acc_z_train[0]),    \n",
    "})"
   ]
  },
  {
   "cell_type": "code",
   "execution_count": 5,
   "metadata": {},
   "outputs": [
    {
     "data": {
      "text/html": [
       "<div>\n",
       "<style scoped>\n",
       "    .dataframe tbody tr th:only-of-type {\n",
       "        vertical-align: middle;\n",
       "    }\n",
       "\n",
       "    .dataframe tbody tr th {\n",
       "        vertical-align: top;\n",
       "    }\n",
       "\n",
       "    .dataframe thead th {\n",
       "        text-align: right;\n",
       "    }\n",
       "</style>\n",
       "<table border=\"1\" class=\"dataframe\">\n",
       "  <thead>\n",
       "    <tr style=\"text-align: right;\">\n",
       "      <th></th>\n",
       "      <th>X_train</th>\n",
       "      <th>y_train</th>\n",
       "      <th>subject_train</th>\n",
       "      <th>body_acc_x_train</th>\n",
       "      <th>body_acc_y_train</th>\n",
       "      <th>body_acc_z_train</th>\n",
       "      <th>body_gyro_x_train</th>\n",
       "      <th>body_gyro_y_train</th>\n",
       "      <th>body_gyro_z_train</th>\n",
       "      <th>total_acc_x_train</th>\n",
       "      <th>total_acc_y_train</th>\n",
       "      <th>total_acc_z_train</th>\n",
       "    </tr>\n",
       "  </thead>\n",
       "  <tbody>\n",
       "    <tr>\n",
       "      <th>0</th>\n",
       "      <td>2.8858451e-001 -2.0294171e-002 -1.3290514e-0...</td>\n",
       "      <td>5</td>\n",
       "      <td>1</td>\n",
       "      <td>1.8085150e-004  1.0138560e-002  9.2755740e-0...</td>\n",
       "      <td>1.0766810e-002  6.5794800e-003  8.9288780e-0...</td>\n",
       "      <td>5.5560680e-002  5.5124830e-002  4.8404730e-0...</td>\n",
       "      <td>3.0191220e-002  4.3710710e-002  3.5687800e-0...</td>\n",
       "      <td>6.6013620e-002  4.2698970e-002  7.4850180e-0...</td>\n",
       "      <td>2.2858640e-002  1.0315720e-002  1.3249690e-0...</td>\n",
       "      <td>1.0128170e+000  1.0228330e+000  1.0220280e+0...</td>\n",
       "      <td>-1.2321670e-001 -1.2687560e-001 -1.2400370e-0...</td>\n",
       "      <td>1.0293410e-001  1.0568720e-001  1.0210250e-0...</td>\n",
       "    </tr>\n",
       "    <tr>\n",
       "      <th>1</th>\n",
       "      <td>2.7841883e-001 -1.6410568e-002 -1.2352019e-0...</td>\n",
       "      <td>5</td>\n",
       "      <td>1</td>\n",
       "      <td>1.0937520e-003  4.5500770e-003  2.8791730e-0...</td>\n",
       "      <td>-4.6875880e-003 -7.4878940e-003 -8.4299910e-0...</td>\n",
       "      <td>-2.6859540e-002 -2.5098410e-002 -2.5975340e-0...</td>\n",
       "      <td>1.7111060e-002  2.4178510e-002  3.0228890e-0...</td>\n",
       "      <td>6.1227970e-003  9.7103570e-003  1.0321920e-0...</td>\n",
       "      <td>1.2268150e-002  1.6149580e-002  1.5894710e-0...</td>\n",
       "      <td>1.0188510e+000  1.0223800e+000  1.0207810e+0...</td>\n",
       "      <td>-1.2397600e-001 -1.2680780e-001 -1.2778620e-0...</td>\n",
       "      <td>9.7929580e-002  9.9350860e-002  9.8113810e-0...</td>\n",
       "    </tr>\n",
       "    <tr>\n",
       "      <th>2</th>\n",
       "      <td>2.7965306e-001 -1.9467156e-002 -1.1346169e-0...</td>\n",
       "      <td>5</td>\n",
       "      <td>1</td>\n",
       "      <td>3.5312660e-003  2.2850630e-003 -4.1975380e-0...</td>\n",
       "      <td>4.4559420e-003  3.0458760e-003  1.7761790e-0...</td>\n",
       "      <td>-5.9145810e-003 -4.1389110e-003 -5.4288510e-0...</td>\n",
       "      <td>2.6188770e-002  2.1651490e-002  1.4550620e-0...</td>\n",
       "      <td>-2.3834100e-004 -4.2759820e-004  7.6113500e-0...</td>\n",
       "      <td>2.1588970e-003 -2.7247520e-004  2.6309860e-0...</td>\n",
       "      <td>1.0231270e+000  1.0218820e+000  1.0191780e+0...</td>\n",
       "      <td>-1.2001570e-001 -1.2149940e-001 -1.2284070e-0...</td>\n",
       "      <td>9.1116670e-002  9.2675600e-002  9.6063780e-0...</td>\n",
       "    </tr>\n",
       "    <tr>\n",
       "      <th>3</th>\n",
       "      <td>2.7917394e-001 -2.6200646e-002 -1.2328257e-0...</td>\n",
       "      <td>5</td>\n",
       "      <td>1</td>\n",
       "      <td>-1.7723520e-003 -1.3114480e-003  3.8767950e-0...</td>\n",
       "      <td>-1.0185410e-002 -1.1252540e-002 -1.2196300e-0...</td>\n",
       "      <td>1.0532550e-003  1.2272950e-003 -6.0043620e-0...</td>\n",
       "      <td>-3.7515740e-002 -3.3097000e-002 -3.0360130e-0...</td>\n",
       "      <td>-1.2886320e-002 -1.6918220e-002 -1.6185180e-0...</td>\n",
       "      <td>-8.7274160e-004 -5.4819700e-003 -4.6782300e-0...</td>\n",
       "      <td>1.0176820e+000  1.0181490e+000  1.0198540e+0...</td>\n",
       "      <td>-1.3340390e-001 -1.3436390e-001 -1.3520280e-0...</td>\n",
       "      <td>9.5151800e-002  9.5415390e-002  8.8273550e-0...</td>\n",
       "    </tr>\n",
       "    <tr>\n",
       "      <th>4</th>\n",
       "      <td>2.7662877e-001 -1.6569655e-002 -1.1536185e-0...</td>\n",
       "      <td>5</td>\n",
       "      <td>1</td>\n",
       "      <td>8.7476850e-005 -2.7191750e-004  1.0221030e-0...</td>\n",
       "      <td>-3.8569290e-003 -2.8379350e-003 -3.0864180e-0...</td>\n",
       "      <td>-1.3333360e-002 -1.4947560e-002 -1.5678630e-0...</td>\n",
       "      <td>-1.9429320e-002 -1.9090990e-002 -1.4816310e-0...</td>\n",
       "      <td>-8.6123780e-003 -8.1467190e-003 -5.3766200e-0...</td>\n",
       "      <td>-1.5740100e-003  2.0070770e-004 -9.7009380e-0...</td>\n",
       "      <td>1.0199520e+000  1.0196160e+000  1.0209330e+0...</td>\n",
       "      <td>-1.2873060e-001 -1.2784610e-001 -1.2823000e-0...</td>\n",
       "      <td>8.0841400e-002  7.9126840e-002  7.8291380e-0...</td>\n",
       "    </tr>\n",
       "  </tbody>\n",
       "</table>\n",
       "</div>"
      ],
      "text/plain": [
       "                                             X_train  y_train  subject_train  \\\n",
       "0    2.8858451e-001 -2.0294171e-002 -1.3290514e-0...        5              1   \n",
       "1    2.7841883e-001 -1.6410568e-002 -1.2352019e-0...        5              1   \n",
       "2    2.7965306e-001 -1.9467156e-002 -1.1346169e-0...        5              1   \n",
       "3    2.7917394e-001 -2.6200646e-002 -1.2328257e-0...        5              1   \n",
       "4    2.7662877e-001 -1.6569655e-002 -1.1536185e-0...        5              1   \n",
       "\n",
       "                                    body_acc_x_train  \\\n",
       "0    1.8085150e-004  1.0138560e-002  9.2755740e-0...   \n",
       "1    1.0937520e-003  4.5500770e-003  2.8791730e-0...   \n",
       "2    3.5312660e-003  2.2850630e-003 -4.1975380e-0...   \n",
       "3   -1.7723520e-003 -1.3114480e-003  3.8767950e-0...   \n",
       "4    8.7476850e-005 -2.7191750e-004  1.0221030e-0...   \n",
       "\n",
       "                                    body_acc_y_train  \\\n",
       "0    1.0766810e-002  6.5794800e-003  8.9288780e-0...   \n",
       "1   -4.6875880e-003 -7.4878940e-003 -8.4299910e-0...   \n",
       "2    4.4559420e-003  3.0458760e-003  1.7761790e-0...   \n",
       "3   -1.0185410e-002 -1.1252540e-002 -1.2196300e-0...   \n",
       "4   -3.8569290e-003 -2.8379350e-003 -3.0864180e-0...   \n",
       "\n",
       "                                    body_acc_z_train  \\\n",
       "0    5.5560680e-002  5.5124830e-002  4.8404730e-0...   \n",
       "1   -2.6859540e-002 -2.5098410e-002 -2.5975340e-0...   \n",
       "2   -5.9145810e-003 -4.1389110e-003 -5.4288510e-0...   \n",
       "3    1.0532550e-003  1.2272950e-003 -6.0043620e-0...   \n",
       "4   -1.3333360e-002 -1.4947560e-002 -1.5678630e-0...   \n",
       "\n",
       "                                   body_gyro_x_train  \\\n",
       "0    3.0191220e-002  4.3710710e-002  3.5687800e-0...   \n",
       "1    1.7111060e-002  2.4178510e-002  3.0228890e-0...   \n",
       "2    2.6188770e-002  2.1651490e-002  1.4550620e-0...   \n",
       "3   -3.7515740e-002 -3.3097000e-002 -3.0360130e-0...   \n",
       "4   -1.9429320e-002 -1.9090990e-002 -1.4816310e-0...   \n",
       "\n",
       "                                   body_gyro_y_train  \\\n",
       "0    6.6013620e-002  4.2698970e-002  7.4850180e-0...   \n",
       "1    6.1227970e-003  9.7103570e-003  1.0321920e-0...   \n",
       "2   -2.3834100e-004 -4.2759820e-004  7.6113500e-0...   \n",
       "3   -1.2886320e-002 -1.6918220e-002 -1.6185180e-0...   \n",
       "4   -8.6123780e-003 -8.1467190e-003 -5.3766200e-0...   \n",
       "\n",
       "                                   body_gyro_z_train  \\\n",
       "0    2.2858640e-002  1.0315720e-002  1.3249690e-0...   \n",
       "1    1.2268150e-002  1.6149580e-002  1.5894710e-0...   \n",
       "2    2.1588970e-003 -2.7247520e-004  2.6309860e-0...   \n",
       "3   -8.7274160e-004 -5.4819700e-003 -4.6782300e-0...   \n",
       "4   -1.5740100e-003  2.0070770e-004 -9.7009380e-0...   \n",
       "\n",
       "                                   total_acc_x_train  \\\n",
       "0    1.0128170e+000  1.0228330e+000  1.0220280e+0...   \n",
       "1    1.0188510e+000  1.0223800e+000  1.0207810e+0...   \n",
       "2    1.0231270e+000  1.0218820e+000  1.0191780e+0...   \n",
       "3    1.0176820e+000  1.0181490e+000  1.0198540e+0...   \n",
       "4    1.0199520e+000  1.0196160e+000  1.0209330e+0...   \n",
       "\n",
       "                                   total_acc_y_train  \\\n",
       "0   -1.2321670e-001 -1.2687560e-001 -1.2400370e-0...   \n",
       "1   -1.2397600e-001 -1.2680780e-001 -1.2778620e-0...   \n",
       "2   -1.2001570e-001 -1.2149940e-001 -1.2284070e-0...   \n",
       "3   -1.3340390e-001 -1.3436390e-001 -1.3520280e-0...   \n",
       "4   -1.2873060e-001 -1.2784610e-001 -1.2823000e-0...   \n",
       "\n",
       "                                   total_acc_z_train  \n",
       "0    1.0293410e-001  1.0568720e-001  1.0210250e-0...  \n",
       "1    9.7929580e-002  9.9350860e-002  9.8113810e-0...  \n",
       "2    9.1116670e-002  9.2675600e-002  9.6063780e-0...  \n",
       "3    9.5151800e-002  9.5415390e-002  8.8273550e-0...  \n",
       "4    8.0841400e-002  7.9126840e-002  7.8291380e-0...  "
      ]
     },
     "execution_count": 5,
     "metadata": {},
     "output_type": "execute_result"
    }
   ],
   "source": [
    "data_train.head()"
   ]
  },
  {
   "cell_type": "code",
   "execution_count": 6,
   "metadata": {},
   "outputs": [],
   "source": [
    "#таблица 2\n",
    "X_test = pd.read_csv('X_test.txt', header=None, delimiter='\\n', encoding = 'utf-8')\n",
    "y_test = pd.read_csv('y_test.txt', header=None, delimiter='\\n', encoding = 'utf-8')\n",
    "subject_test = pd.read_csv('subject_test.txt', header=None, delimiter='\\n', encoding = 'utf-8')\n",
    "body_acc_x_test = pd.read_csv('body_acc_x_test.txt', header=None, delimiter='\\n', encoding = 'utf-8')\n",
    "body_acc_y_test = pd.read_csv('body_acc_y_test.txt', header=None, delimiter='\\n', encoding = 'utf-8')\n",
    "body_acc_z_test = pd.read_csv('body_acc_z_test.txt', header=None, delimiter='\\n', encoding = 'utf-8')\n",
    "body_gyro_x_test = pd.read_csv('body_gyro_x_test.txt', header=None, delimiter='\\n', encoding = 'utf-8')\n",
    "body_gyro_y_test = pd.read_csv('body_gyro_y_test.txt', header=None, delimiter='\\n', encoding = 'utf-8')\n",
    "body_gyro_z_test = pd.read_csv('body_gyro_z_test.txt', header=None, delimiter='\\n', encoding = 'utf-8')\n",
    "total_acc_x_test = pd.read_csv('total_acc_x_test.txt', header=None, delimiter='\\n', encoding = 'utf-8')\n",
    "total_acc_y_test = pd.read_csv('total_acc_y_test.txt', header=None, delimiter='\\n', encoding = 'utf-8')\n",
    "total_acc_z_test = pd.read_csv('total_acc_z_test.txt', header=None, delimiter='\\n', encoding = 'utf-8')"
   ]
  },
  {
   "cell_type": "code",
   "execution_count": 7,
   "metadata": {},
   "outputs": [],
   "source": [
    "# Объединение всех txt файлов с меткой test в одну таблицу\n",
    "data_test = pd.DataFrame({\n",
    "    'X_test':list(X_test[0]),\n",
    "    'y_test':list(y_test[0]),\n",
    "    'subject_test':list(subject_test[0]),\n",
    "    'body_acc_x_test':list(body_acc_x_test[0]),\n",
    "    'body_acc_y_test':list(body_acc_y_test[0]),\n",
    "    'body_acc_z_test':list(body_acc_z_test[0]),\n",
    "    'body_gyro_x_test':list(body_gyro_x_test[0]),\n",
    "    'body_gyro_y_test':list(body_gyro_y_test[0]),\n",
    "    'body_gyro_z_test':list(body_gyro_z_test[0]),\n",
    "    'total_acc_x_test':list(total_acc_x_test[0]),\n",
    "    'total_acc_y_test':list(total_acc_y_test[0]),\n",
    "    'total_acc_z_test':list(total_acc_z_test[0]),    \n",
    "})"
   ]
  },
  {
   "cell_type": "code",
   "execution_count": 8,
   "metadata": {},
   "outputs": [
    {
     "data": {
      "text/html": [
       "<div>\n",
       "<style scoped>\n",
       "    .dataframe tbody tr th:only-of-type {\n",
       "        vertical-align: middle;\n",
       "    }\n",
       "\n",
       "    .dataframe tbody tr th {\n",
       "        vertical-align: top;\n",
       "    }\n",
       "\n",
       "    .dataframe thead th {\n",
       "        text-align: right;\n",
       "    }\n",
       "</style>\n",
       "<table border=\"1\" class=\"dataframe\">\n",
       "  <thead>\n",
       "    <tr style=\"text-align: right;\">\n",
       "      <th></th>\n",
       "      <th>X_test</th>\n",
       "      <th>y_test</th>\n",
       "      <th>subject_test</th>\n",
       "      <th>body_acc_x_test</th>\n",
       "      <th>body_acc_y_test</th>\n",
       "      <th>body_acc_z_test</th>\n",
       "      <th>body_gyro_x_test</th>\n",
       "      <th>body_gyro_y_test</th>\n",
       "      <th>body_gyro_z_test</th>\n",
       "      <th>total_acc_x_test</th>\n",
       "      <th>total_acc_y_test</th>\n",
       "      <th>total_acc_z_test</th>\n",
       "    </tr>\n",
       "  </thead>\n",
       "  <tbody>\n",
       "    <tr>\n",
       "      <th>0</th>\n",
       "      <td>2.5717778e-001 -2.3285230e-002 -1.4653762e-0...</td>\n",
       "      <td>5</td>\n",
       "      <td>2</td>\n",
       "      <td>1.1653150e-002  1.3109090e-002  1.1268850e-0...</td>\n",
       "      <td>-2.9399040e-002 -3.9728670e-002 -5.2405860e-0...</td>\n",
       "      <td>1.0682620e-001  1.5245490e-001  2.1684620e-0...</td>\n",
       "      <td>4.3746370e-001  4.6826410e-001  4.9825740e-0...</td>\n",
       "      <td>5.3134920e-001  7.2106850e-001  5.2032840e-0...</td>\n",
       "      <td>1.3652790e-001  9.7622390e-002  8.3555780e-0...</td>\n",
       "      <td>1.0412160e+000  1.0418030e+000  1.0390860e+0...</td>\n",
       "      <td>-2.6979590e-001 -2.8002500e-001 -2.9266310e-0...</td>\n",
       "      <td>2.3779770e-002  7.6292710e-002  1.4747540e-0...</td>\n",
       "    </tr>\n",
       "    <tr>\n",
       "      <th>1</th>\n",
       "      <td>2.8602671e-001 -1.3163359e-002 -1.1908252e-0...</td>\n",
       "      <td>5</td>\n",
       "      <td>2</td>\n",
       "      <td>9.2796290e-003  4.9297110e-003  3.9535960e-0...</td>\n",
       "      <td>6.6505200e-003  1.8649730e-002  1.5539500e-0...</td>\n",
       "      <td>-2.6319330e-002 -2.6887530e-002 -3.6638610e-0...</td>\n",
       "      <td>1.7028780e-001  1.7522210e-001  1.3086180e-0...</td>\n",
       "      <td>-6.1373880e-002 -9.5363550e-002 -1.4644950e-0...</td>\n",
       "      <td>5.5096240e-002  4.3343610e-002  5.2398310e-0...</td>\n",
       "      <td>9.9919210e-001  9.9467870e-001  9.9355180e-0...</td>\n",
       "      <td>-2.6493490e-001 -2.5321420e-001 -2.5658870e-0...</td>\n",
       "      <td>1.2561640e-001  1.2562490e-001  1.1638140e-0...</td>\n",
       "    </tr>\n",
       "    <tr>\n",
       "      <th>2</th>\n",
       "      <td>2.7548482e-001 -2.6050420e-002 -1.1815167e-0...</td>\n",
       "      <td>5</td>\n",
       "      <td>2</td>\n",
       "      <td>5.7319450e-003  7.0656500e-003  5.1097580e-0...</td>\n",
       "      <td>7.3048420e-003  7.3309120e-003  7.1534580e-0...</td>\n",
       "      <td>1.0212860e-002  1.3414190e-002  3.6465590e-0...</td>\n",
       "      <td>-3.8726500e-002 -4.7282390e-002 -5.3906240e-0...</td>\n",
       "      <td>-6.0249680e-002 -5.1756200e-002 -5.0427570e-0...</td>\n",
       "      <td>2.9289030e-002  2.5365970e-002  2.4825750e-0...</td>\n",
       "      <td>9.9759310e-001  9.9897030e-001  9.9705740e-0...</td>\n",
       "      <td>-2.6399120e-001 -2.6381940e-001 -2.6384950e-0...</td>\n",
       "      <td>1.5077410e-001  1.5394270e-001  1.4415360e-0...</td>\n",
       "    </tr>\n",
       "    <tr>\n",
       "      <th>3</th>\n",
       "      <td>2.7029822e-001 -3.2613869e-002 -1.1752018e-0...</td>\n",
       "      <td>5</td>\n",
       "      <td>2</td>\n",
       "      <td>4.5194670e-004  6.0393820e-004 -2.4845620e-0...</td>\n",
       "      <td>-2.3806450e-002 -2.2050690e-002 -7.1011940e-0...</td>\n",
       "      <td>-2.7002330e-002 -2.2547820e-002 -2.6487970e-0...</td>\n",
       "      <td>-1.0127620e-002  3.5644100e-003 -8.4789270e-0...</td>\n",
       "      <td>3.5904090e-003  2.4609390e-002  2.2713880e-0...</td>\n",
       "      <td>8.4029270e-003 -9.5330390e-003  1.7767580e-0...</td>\n",
       "      <td>9.9456400e-001  9.9472690e-001  9.9164830e-0...</td>\n",
       "      <td>-2.9059300e-001 -2.8888550e-001 -2.7398940e-0...</td>\n",
       "      <td>1.1119860e-001  1.1550260e-001  1.3525120e-0...</td>\n",
       "    </tr>\n",
       "    <tr>\n",
       "      <th>4</th>\n",
       "      <td>2.7483295e-001 -2.7847788e-002 -1.2952716e-0...</td>\n",
       "      <td>5</td>\n",
       "      <td>2</td>\n",
       "      <td>-4.3623790e-003 -2.7653920e-003 -4.9047840e-0...</td>\n",
       "      <td>-9.4647540e-003 -8.6714010e-003 -6.7743470e-0...</td>\n",
       "      <td>-1.4610400e-003  3.1824530e-003  4.0686360e-0...</td>\n",
       "      <td>-3.6665280e-002 -4.0276900e-002 -3.9949790e-0...</td>\n",
       "      <td>-3.2427420e-002 -3.7960040e-002 -4.2713610e-0...</td>\n",
       "      <td>1.3983310e-002  2.0535160e-002  2.3361730e-0...</td>\n",
       "      <td>9.8815040e-001  9.8971090e-001  9.8753510e-0...</td>\n",
       "      <td>-2.8389650e-001 -2.8323490e-001 -2.8147050e-0...</td>\n",
       "      <td>1.3383320e-001  1.3851160e-001  1.3943100e-0...</td>\n",
       "    </tr>\n",
       "  </tbody>\n",
       "</table>\n",
       "</div>"
      ],
      "text/plain": [
       "                                              X_test  y_test  subject_test  \\\n",
       "0    2.5717778e-001 -2.3285230e-002 -1.4653762e-0...       5             2   \n",
       "1    2.8602671e-001 -1.3163359e-002 -1.1908252e-0...       5             2   \n",
       "2    2.7548482e-001 -2.6050420e-002 -1.1815167e-0...       5             2   \n",
       "3    2.7029822e-001 -3.2613869e-002 -1.1752018e-0...       5             2   \n",
       "4    2.7483295e-001 -2.7847788e-002 -1.2952716e-0...       5             2   \n",
       "\n",
       "                                     body_acc_x_test  \\\n",
       "0    1.1653150e-002  1.3109090e-002  1.1268850e-0...   \n",
       "1    9.2796290e-003  4.9297110e-003  3.9535960e-0...   \n",
       "2    5.7319450e-003  7.0656500e-003  5.1097580e-0...   \n",
       "3    4.5194670e-004  6.0393820e-004 -2.4845620e-0...   \n",
       "4   -4.3623790e-003 -2.7653920e-003 -4.9047840e-0...   \n",
       "\n",
       "                                     body_acc_y_test  \\\n",
       "0   -2.9399040e-002 -3.9728670e-002 -5.2405860e-0...   \n",
       "1    6.6505200e-003  1.8649730e-002  1.5539500e-0...   \n",
       "2    7.3048420e-003  7.3309120e-003  7.1534580e-0...   \n",
       "3   -2.3806450e-002 -2.2050690e-002 -7.1011940e-0...   \n",
       "4   -9.4647540e-003 -8.6714010e-003 -6.7743470e-0...   \n",
       "\n",
       "                                     body_acc_z_test  \\\n",
       "0    1.0682620e-001  1.5245490e-001  2.1684620e-0...   \n",
       "1   -2.6319330e-002 -2.6887530e-002 -3.6638610e-0...   \n",
       "2    1.0212860e-002  1.3414190e-002  3.6465590e-0...   \n",
       "3   -2.7002330e-002 -2.2547820e-002 -2.6487970e-0...   \n",
       "4   -1.4610400e-003  3.1824530e-003  4.0686360e-0...   \n",
       "\n",
       "                                    body_gyro_x_test  \\\n",
       "0    4.3746370e-001  4.6826410e-001  4.9825740e-0...   \n",
       "1    1.7028780e-001  1.7522210e-001  1.3086180e-0...   \n",
       "2   -3.8726500e-002 -4.7282390e-002 -5.3906240e-0...   \n",
       "3   -1.0127620e-002  3.5644100e-003 -8.4789270e-0...   \n",
       "4   -3.6665280e-002 -4.0276900e-002 -3.9949790e-0...   \n",
       "\n",
       "                                    body_gyro_y_test  \\\n",
       "0    5.3134920e-001  7.2106850e-001  5.2032840e-0...   \n",
       "1   -6.1373880e-002 -9.5363550e-002 -1.4644950e-0...   \n",
       "2   -6.0249680e-002 -5.1756200e-002 -5.0427570e-0...   \n",
       "3    3.5904090e-003  2.4609390e-002  2.2713880e-0...   \n",
       "4   -3.2427420e-002 -3.7960040e-002 -4.2713610e-0...   \n",
       "\n",
       "                                    body_gyro_z_test  \\\n",
       "0    1.3652790e-001  9.7622390e-002  8.3555780e-0...   \n",
       "1    5.5096240e-002  4.3343610e-002  5.2398310e-0...   \n",
       "2    2.9289030e-002  2.5365970e-002  2.4825750e-0...   \n",
       "3    8.4029270e-003 -9.5330390e-003  1.7767580e-0...   \n",
       "4    1.3983310e-002  2.0535160e-002  2.3361730e-0...   \n",
       "\n",
       "                                    total_acc_x_test  \\\n",
       "0    1.0412160e+000  1.0418030e+000  1.0390860e+0...   \n",
       "1    9.9919210e-001  9.9467870e-001  9.9355180e-0...   \n",
       "2    9.9759310e-001  9.9897030e-001  9.9705740e-0...   \n",
       "3    9.9456400e-001  9.9472690e-001  9.9164830e-0...   \n",
       "4    9.8815040e-001  9.8971090e-001  9.8753510e-0...   \n",
       "\n",
       "                                    total_acc_y_test  \\\n",
       "0   -2.6979590e-001 -2.8002500e-001 -2.9266310e-0...   \n",
       "1   -2.6493490e-001 -2.5321420e-001 -2.5658870e-0...   \n",
       "2   -2.6399120e-001 -2.6381940e-001 -2.6384950e-0...   \n",
       "3   -2.9059300e-001 -2.8888550e-001 -2.7398940e-0...   \n",
       "4   -2.8389650e-001 -2.8323490e-001 -2.8147050e-0...   \n",
       "\n",
       "                                    total_acc_z_test  \n",
       "0    2.3779770e-002  7.6292710e-002  1.4747540e-0...  \n",
       "1    1.2561640e-001  1.2562490e-001  1.1638140e-0...  \n",
       "2    1.5077410e-001  1.5394270e-001  1.4415360e-0...  \n",
       "3    1.1119860e-001  1.1550260e-001  1.3525120e-0...  \n",
       "4    1.3383320e-001  1.3851160e-001  1.3943100e-0...  "
      ]
     },
     "execution_count": 8,
     "metadata": {},
     "output_type": "execute_result"
    }
   ],
   "source": [
    "data_test.head()"
   ]
  },
  {
   "cell_type": "markdown",
   "metadata": {},
   "source": [
    "# Задание 1.\t\n",
    "Изучить набор данных. Создать описание набора данных на русском языке. Описать признаки, используемые в наборе данных."
   ]
  },
  {
   "cell_type": "markdown",
   "metadata": {},
   "source": [
    "# Распознавание Человеческой Деятельности С Помощью Смартфонов Dataset Версия 1.0\n",
    "\n",
    "Эксперименты проводились с группой из 30 добровольцев в возрасте от 19 до 48 лет. Каждый человек выполнял шесть действий (ХОДЬБА, ХОДЬБА ВВЕРХ ПО ЛЕСТНИЦЕ, ХОДЬБА ВНИЗ ПО ЛЕСТНИЦЕ, СИДЕНИЕ, СТОЯНИЕ, ЛЕЖАНИЕ), нося смартфон (Samsung Galaxy S II) на поясе. Используя встроенный акселерометр и гироскоп, мы зафиксировали 3-осевое линейное ускорение и 3-осевую угловую скорость с постоянной частотой 50 Гц. Эксперименты были записаны на видео, чтобы маркировать данные вручную. Полученный набор данных был случайным образом разделен на два набора, где 70% добровольцев были выбраны для генерации обучающих данных и 30% тестовых данных.\n",
    "\n",
    "Сигналы датчиков (акселерометра и гироскопа) предварительно обрабатывались с применением шумовых фильтров, а затем отбирались в скользящих окнах фиксированной ширины с перекрытием 2,56 с и 50% (128 показаний/окно). Сигнал ускорения датчика, который имеет компоненты гравитации и движения тела, был разделен с помощью фильтра нижних частот Баттерворта на ускорение тела и гравитацию. Предполагается, что гравитационная сила имеет только низкочастотные составляющие, поэтому использовался фильтр с частотой среза 0,3 Гц. Из каждого окна был получен вектор признаков путем вычисления переменных из временной и частотной областей. В  'features_info.txt более подробная информация.\n",
    "\n",
    "# Для каждой записи предусмотрено:\n",
    "Трехосное ускорение от акселерометра (полное ускорение) и расчетное ускорение тела.\n",
    "Трехосная угловая скорость от гироскопа.\n",
    "Вектор признаков 561 с переменными временной и частотной областей.\n",
    "Метка активности.\n",
    "Идентификатор субъекта, проводившего эксперимент.\n",
    "\n",
    "# Набор данных включает в себя следующие файлы:\n",
    "'README.txt'\n",
    "\n",
    "'features_info.txt': Показывает информацию о переменных, используемых в векторе объектов.\n",
    "\n",
    "'features.txt': Список всех функций.\n",
    "\n",
    "'activity_labels.txt': Связывает метки классов с их именем действия.\n",
    "\n",
    "'train/X_train.txt': Тренировочный набор.\n",
    "\n",
    "'train/y_train.txt': Тренировочные метки.\n",
    "\n",
    "'test/X_test.txt': Тестовый набор.\n",
    "\n",
    "'test/y_test.txt': Тестовые метки.\n",
    "\n",
    "Следующие файлы доступны для данных обучения и тестирования. Их описания эквивалентны.\n",
    "\n",
    "'train/subject_train.txt': Каждая строка идентифицирует субъекта, который выполнил действие для каждого образца окна. Его диапазон составляет от 1 до 30.\n",
    "\n",
    "'train/Inertial Signals/total_acc_x_train.txt': Сигнал ускорения от акселерометра смартфона по оси X в стандартных гравитационных единицах 'g'. Каждая строка показывает вектор из 128 элементов. То же самое описание относится и к 'total_acc_x_train.txt-и ...total_acc_z_train.txt-файлы для осей Y и Z.\n",
    "\n",
    "'train/Inertial Signals/body_acc_x_train.txt': Сигнал ускорения тела, полученный путем вычитания силы тяжести из общего ускорения.\n",
    "\n",
    "'train/Inertial Signals/body_gyro_x_train.txt': Вектор угловой скорости, измеренный гироскопом для каждого образца окна. Единицы измерения-радианы в секунду.\n",
    "\n",
    "# Примечания:\n",
    "- Признаки нормализованы и ограничены в пределах [-1,1].\n",
    "- Каждый вектор объектов представляет собой строку в текстовом файле.\n",
    "- Единицами измерения ускорений (суммарных и телесных) являются \" g \" (гравитация земли -> 9,80665 м/сег2).\n",
    "- Единица измерения гироскопа rad/seg.\n",
    "- Видео эксперимента, включающее пример 6 записанных действий с одним из участников, можно посмотреть по следующей ссылке: http://www.youtube.com/watch?v=XOEN9W05_4A"
   ]
  },
  {
   "cell_type": "markdown",
   "metadata": {},
   "source": [
    "# Задание 2\n",
    "Удалите дубликаты строк в наборе данных; приведите размер набора данных до и после данной операции;"
   ]
  },
  {
   "cell_type": "code",
   "execution_count": 9,
   "metadata": {},
   "outputs": [
    {
     "name": "stdout",
     "output_type": "stream",
     "text": [
      "Размерность данных ДО удаления дубликатов: (7352, 12)\n",
      "Размерность данных ПОСЛЕ удаления дубликатов: (7352, 12)\n"
     ]
    }
   ],
   "source": [
    "# Удаление дубликатов\n",
    "print('Размерность данных ДО удаления дубликатов:',data_train.shape)\n",
    "data_train.drop_duplicates()\n",
    "print('Размерность данных ПОСЛЕ удаления дубликатов:',data_train.shape)\n",
    "# Вывод - дубликаты отсутствуют"
   ]
  },
  {
   "cell_type": "code",
   "execution_count": 10,
   "metadata": {},
   "outputs": [
    {
     "name": "stdout",
     "output_type": "stream",
     "text": [
      "Размерность данных ДО удаления дубликатов: (2947, 12)\n",
      "Размерность данных ПОСЛЕ удаления дубликатов: (2947, 12)\n"
     ]
    }
   ],
   "source": [
    "# Удаление дубликатов\n",
    "print('Размерность данных ДО удаления дубликатов:',data_test.shape)\n",
    "data_test.drop_duplicates()\n",
    "print('Размерность данных ПОСЛЕ удаления дубликатов:',data_test.shape)\n",
    "# Вывод - дубликаты отсутствуют"
   ]
  },
  {
   "cell_type": "markdown",
   "metadata": {},
   "source": [
    "# Задание 3\n",
    "Оцените сбалансированность данных по классам (постройте гистограмму). Используйте полученную информацию при выборе метрики оценки качества классификации (PR или ROC кривая)"
   ]
  },
  {
   "cell_type": "code",
   "execution_count": 11,
   "metadata": {},
   "outputs": [
    {
     "data": {
      "text/plain": [
       "<seaborn.axisgrid.FacetGrid at 0xc593d90>"
      ]
     },
     "execution_count": 11,
     "metadata": {},
     "output_type": "execute_result"
    },
    {
     "data": {
      "image/png": "[encoded data removed]",
      "text/plain": [
       "<Figure size 360x360 with 1 Axes>"
      ]
     },
     "metadata": {
      "needs_background": "light"
     },
     "output_type": "display_data"
    },
    {
     "data": {
      "image/png": "[encoded data removed]",
      "text/plain": [
       "<Figure size 360x360 with 1 Axes>"
      ]
     },
     "metadata": {
      "needs_background": "light"
     },
     "output_type": "display_data"
    }
   ],
   "source": [
    "# Гистограмма (распределение данных по классам)\n",
    "sns.displot(data_train['y_train'], kde = False)\n",
    "sns.displot(data_test['y_test'], kde = False)"
   ]
  },
  {
   "cell_type": "code",
   "execution_count": 12,
   "metadata": {},
   "outputs": [],
   "source": [
    "# Преобразовываем данные в удобный формат \n",
    "X_train, X_test = [],[]\n",
    "y_train, y_test = list(data_train['y_train']), list(data_test['y_test'])\n",
    "for i in range(len(data_train['X_train'])):\n",
    "    vector = [float(j) for j in data_train['X_train'][i].replace('   ', ' ').replace('  ', ' ')[1:].split(' ')]\n",
    "    X_train.append(vector)\n",
    "for i in range(len(data_test['X_test'])):\n",
    "    vector = [float(j) for j in data_test['X_test'][i].replace('   ', ' ').replace('  ', ' ')[1:].split(' ')]\n",
    "    X_test.append(vector)"
   ]
  },
  {
   "cell_type": "code",
   "execution_count": 13,
   "metadata": {},
   "outputs": [
    {
     "data": {
      "image/png": "[encoded data removed]",
      "text/plain": [
       "<Figure size 864x576 with 1 Axes>"
      ]
     },
     "metadata": {
      "needs_background": "light"
     },
     "output_type": "display_data"
    }
   ],
   "source": [
    "# Задание 4\n",
    "# Построение диаграмм BoxPlot для некоторых признаков\n",
    "\n",
    "columns = [np.array(X_train)[:,35], np.array(X_train)[:,180], np.array(X_train)[:,320], np.array(X_train)[:,453], np.array(X_train)[:,502]]\n",
    "labels = ['tGravityAcc-mean()-X', 'tBodyAccMag-mean()', 'tBodyGyroMag-mean()', 'fBodyGyro-mean()-X', 'fBodyAccMag-mean()']\n",
    "\n",
    "fix, ax = plt.subplots(figsize=(12,8))\n",
    "ax.boxplot(columns, patch_artist=True)\n",
    "plt.xticks([1,2,3,4,5], labels)\n",
    "plt.show()"
   ]
  },
  {
   "cell_type": "code",
   "execution_count": 17,
   "metadata": {},
   "outputs": [
    {
     "name": "stdout",
     "output_type": "stream",
     "text": [
      "Коэффициент корреляции Пирсона между признаками tGravityAcc-mean()-X и tBodyAccMag-mean(): 0.20340636133139423\n",
      "Коэффициент корреляции Пирсона между признаками tGravityAcc-mean()-X и tBodyGyroMag-mean(): 0.3912375673595174\n"
     ]
    }
   ],
   "source": [
    "# Задание 6\n",
    "# Расчет коэффициента корреляции Пирсона для некоторых пар признаков\n",
    "\n",
    "coefcorr = np.corrcoef(np.array(X_train)[:,35], np.array(X_train)[:,195])[0,1]\n",
    "print('Коэффициент корреляции Пирсона между признаками tGravityAcc-mean()-X и tBodyAccMag-mean():',coefcorr)\n",
    "\n",
    "coefcorr = np.corrcoef(np.array(X_train)[:,70], np.array(X_train)[:,300])[0,1]\n",
    "print('Коэффициент корреляции Пирсона между признаками tGravityAcc-mean()-X и tBodyGyroMag-mean():',coefcorr)"
   ]
  },
  {
   "cell_type": "code",
   "execution_count": 18,
   "metadata": {},
   "outputs": [],
   "source": [
    "# Задание 8\n",
    "from sklearn.model_selection import GridSearchCV\n",
    "from sklearn.neighbors import RadiusNeighborsClassifier\n",
    "from sklearn.linear_model import Perceptron\n",
    "from sklearn.tree import DecisionTreeClassifier\n",
    "from sklearn.metrics import confusion_matrix\n",
    "from sklearn.metrics import accuracy_score, precision_score, recall_score, f1_score"
   ]
  },
  {
   "cell_type": "code",
   "execution_count": 19,
   "metadata": {},
   "outputs": [],
   "source": [
    "# Функция оценки качества классификатора\n",
    "def evaluate_clf(y_train, y_test, y_pred_train, y_pred_test):\n",
    "    accuracy_train = round(accuracy_score(y_train, y_pred_train), 4)\n",
    "    precision_train = round(precision_score(y_train, y_pred_train, average='macro'), 4)\n",
    "    recall_train = round(recall_score(y_train, y_pred_train, average='macro'), 4)\n",
    "    confusion_matrix_train = confusion_matrix(y_train, y_pred_train)\n",
    "\n",
    "    accuracy_test = round(accuracy_score(y_test, y_pred_test), 4)\n",
    "    precision_test = round(precision_score(y_test, y_pred_test, average='macro'), 4)\n",
    "    recall_test = round(recall_score(y_test, y_pred_test, average='macro'), 4)\n",
    "    confusion_matrix_test = confusion_matrix(y_test, y_pred_test)\n",
    "\n",
    "    print(f'TRAIN set: accuracy {accuracy_train}, precision {precision_train}, recall {recall_train} (макроусреднение)')\n",
    "    print('Confusion matrix: \\n', confusion_matrix_train)\n",
    "    print(f'TEST set: accuracy {accuracy_test}, precision {precision_test}, recall {recall_test} (макроусреднение)')\n",
    "    print('Confusion matrix: \\n', confusion_matrix_test)"
   ]
  },
  {
   "cell_type": "markdown",
   "metadata": {},
   "source": [
    "#### kNN (на основе радиуса)"
   ]
  },
  {
   "cell_type": "code",
   "execution_count": 20,
   "metadata": {},
   "outputs": [
    {
     "name": "stdout",
     "output_type": "stream",
     "text": [
      "Наилучшие параметры классификатора: {'p': 2, 'radius': 10.0}\n"
     ]
    }
   ],
   "source": [
    "# Подбор оптимальных параметров алгоритма\n",
    "clf = RadiusNeighborsClassifier(outlier_label='most_frequent', n_jobs=-1)\n",
    "parameters = {'radius': [10.0, 12.0, 14.0],\n",
    "              'p':[2, 1]}\n",
    "grid = GridSearchCV(clf, parameters, n_jobs=-1, cv=5)\n",
    "grid.fit(X_train, y_train)\n",
    "print('Наилучшие параметры классификатора:', grid.best_params_)"
   ]
  },
  {
   "cell_type": "code",
   "execution_count": 21,
   "metadata": {
    "scrolled": false
   },
   "outputs": [
    {
     "name": "stderr",
     "output_type": "stream",
     "text": [
      "C:\\Users\\Андрей\\Desktop\\WPy64-3870\\python-3.8.7.amd64\\lib\\site-packages\\sklearn\\metrics\\_classification.py:1245: UndefinedMetricWarning: Precision is ill-defined and being set to 0.0 in labels with no predicted samples. Use `zero_division` parameter to control this behavior.\n",
      "  _warn_prf(average, modifier, msg_start, len(result))\n",
      "C:\\Users\\Андрей\\Desktop\\WPy64-3870\\python-3.8.7.amd64\\lib\\site-packages\\sklearn\\metrics\\_classification.py:1245: UndefinedMetricWarning: Precision is ill-defined and being set to 0.0 in labels with no predicted samples. Use `zero_division` parameter to control this behavior.\n",
      "  _warn_prf(average, modifier, msg_start, len(result))\n"
     ]
    },
    {
     "name": "stdout",
     "output_type": "stream",
     "text": [
      "TRAIN set: accuracy 0.426, precision 0.5049, recall 0.4001 (макроусреднение)\n",
      "Confusion matrix: \n",
      " [[1214    0    5    0    7    0]\n",
      " [1025   30    0    0   18    0]\n",
      " [ 875    0  111    0    0    0]\n",
      " [   1    0    0    0  368  917]\n",
      " [   0    0    0    0  393  981]\n",
      " [   1    9    0    0   13 1384]]\n",
      "TEST set: accuracy 0.378, precision 0.3256, recall 0.3598 (макроусреднение)\n",
      "Confusion matrix: \n",
      " [[493   0   3   0   0   0]\n",
      " [469   0   0   0   2   0]\n",
      " [407   0  13   0   0   0]\n",
      " [  0   2   0   0 118 371]\n",
      " [  0   0   0   0  84 448]\n",
      " [  0   2   0   0  11 524]]\n"
     ]
    }
   ],
   "source": [
    "# Обучение и оценка классификатора ()\n",
    "neigh = RadiusNeighborsClassifier(radius=10.0, p=2, outlier_label='most_frequent', n_jobs=-1)\n",
    "neigh.fit(X_train, y_train)\n",
    "\n",
    "y_pred_train = neigh.predict(X_train)\n",
    "y_pred_test = neigh.predict(X_test)\n",
    "\n",
    "evaluate_clf(y_train, y_test, y_pred_train, y_pred_test)"
   ]
  },
  {
   "cell_type": "markdown",
   "metadata": {},
   "source": [
    "#### Решающее дерево"
   ]
  },
  {
   "cell_type": "code",
   "execution_count": 22,
   "metadata": {},
   "outputs": [
    {
     "name": "stdout",
     "output_type": "stream",
     "text": [
      "Наилучшие параметры классификатора: {'max_features': 'sqrt'}\n"
     ]
    }
   ],
   "source": [
    "# Подбор оптимальных параметров алгоритма\n",
    "clf = DecisionTreeClassifier(random_state=0)\n",
    "parameters = {'max_features': ['sqrt', 'log2']}\n",
    "grid = GridSearchCV(clf, parameters, n_jobs=-1, cv=5)\n",
    "grid.fit(X_train, y_train)\n",
    "print('Наилучшие параметры классификатора:', grid.best_params_)"
   ]
  },
  {
   "cell_type": "code",
   "execution_count": 57,
   "metadata": {},
   "outputs": [
    {
     "name": "stdout",
     "output_type": "stream",
     "text": [
      "TRAIN set: accuracy 1.0, precision 1.0, recall 1.0 (макроусреднение)\n",
      "Confusion matrix: \n",
      " [[1226    0    0    0    0    0]\n",
      " [   0 1073    0    0    0    0]\n",
      " [   0    0  986    0    0    0]\n",
      " [   0    0    0 1286    0    0]\n",
      " [   0    0    0    0 1374    0]\n",
      " [   0    0    0    0    0 1407]]\n",
      "TEST set: accuracy 0.8168, precision 0.8139, recall 0.8113 (макроусреднение)\n",
      "Confusion matrix: \n",
      " [[420  44  32   0   0   0]\n",
      " [ 85 321  65   0   0   0]\n",
      " [ 50  56 314   0   0   0]\n",
      " [  0   0   0 380 106   5]\n",
      " [  0   0   0  73 456   3]\n",
      " [  0   0   0  13   8 516]]\n"
     ]
    }
   ],
   "source": [
    "# Обучение и оценка классификатора ()\n",
    "tree = DecisionTreeClassifier(max_features='sqrt', random_state=0)\n",
    "tree.fit(X_train, y_train)\n",
    "\n",
    "y_pred_train = tree.predict(X_train)\n",
    "y_pred_test = tree.predict(X_test)\n",
    "\n",
    "evaluate_clf(y_train, y_test, y_pred_train, y_pred_test)"
   ]
  },
  {
   "cell_type": "code",
   "execution_count": null,
   "metadata": {},
   "outputs": [],
   "source": []
  }
 ],
 "metadata": {
  "kernelspec": {
   "display_name": "Python 3",
   "language": "python",
   "name": "python3"
  },
  "language_info": {
   "codemirror_mode": {
    "name": "ipython",
    "version": 3
   },
   "file_extension": ".py",
   "mimetype": "text/x-python",
   "name": "python",
   "nbconvert_exporter": "python",
   "pygments_lexer": "ipython3",
   "version": "3.8.7"
  }
 },
 "nbformat": 4,
 "nbformat_minor": 4
}
