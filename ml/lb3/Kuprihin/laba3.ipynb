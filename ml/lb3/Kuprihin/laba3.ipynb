{
 "cells": [
  {
   "cell_type": "markdown",
   "metadata": {},
   "source": [
    "## Куприхин Дмитрий Альбертович\n",
    "### 19-ИВТ-2\n",
    "#### Лабораторная работа 3\n",
    "#### Вариант 1"
   ]
  },
  {
   "cell_type": "code",
   "execution_count": 19,
   "metadata": {},
   "outputs": [],
   "source": [
    "import warnings\n",
    "import pandas as pd\n",
    "import seaborn as sns\n",
    "import matplotlib.pyplot as plt\n",
    "import numpy as np\n",
    "import random\n",
    "import sklearn as sk\n",
    "from sklearn.calibration import CalibratedClassifierCV\n",
    "from sklearn.linear_model import Perceptron\n",
    "from sklearn.metrics import accuracy_score, precision_recall_curve, average_precision_score, roc_curve, auc\n",
    "from sklearn.model_selection import GridSearchCV\n",
    "from sklearn.model_selection import train_test_split\n",
    "from sklearn.neighbors import KNeighborsClassifier\n",
    "from sklearn.preprocessing import LabelEncoder\n",
    "from sklearn.preprocessing import StandardScaler\n",
    "from sklearn.metrics import  precision_recall_curve, average_precision_score, plot_precision_recall_curve, plot_roc_curve\n",
    "%matplotlib inline\n",
    "warnings.simplefilter('ignore')"
   ]
  },
  {
   "cell_type": "code",
   "execution_count": 2,
   "metadata": {},
   "outputs": [
    {
     "data": {
      "text/html": [
       "<div>\n",
       "<style scoped>\n",
       "    .dataframe tbody tr th:only-of-type {\n",
       "        vertical-align: middle;\n",
       "    }\n",
       "\n",
       "    .dataframe tbody tr th {\n",
       "        vertical-align: top;\n",
       "    }\n",
       "\n",
       "    .dataframe thead th {\n",
       "        text-align: right;\n",
       "    }\n",
       "</style>\n",
       "<table border=\"1\" class=\"dataframe\">\n",
       "  <thead>\n",
       "    <tr style=\"text-align: right;\">\n",
       "      <th></th>\n",
       "      <th>class</th>\n",
       "      <th>cap-shape</th>\n",
       "      <th>cap-surface</th>\n",
       "      <th>cap-color</th>\n",
       "      <th>bruises</th>\n",
       "      <th>odor</th>\n",
       "      <th>gill-attachment</th>\n",
       "      <th>gill-spacing</th>\n",
       "      <th>gill-size</th>\n",
       "      <th>gill-color</th>\n",
       "      <th>...</th>\n",
       "      <th>stalk-surface-below-ring</th>\n",
       "      <th>stalk-color-above-ring</th>\n",
       "      <th>stalk-color-below-ring</th>\n",
       "      <th>veil-type</th>\n",
       "      <th>veil-color</th>\n",
       "      <th>ring-number</th>\n",
       "      <th>ring-type</th>\n",
       "      <th>spore-print-color</th>\n",
       "      <th>population</th>\n",
       "      <th>habitat</th>\n",
       "    </tr>\n",
       "  </thead>\n",
       "  <tbody>\n",
       "    <tr>\n",
       "      <th>0</th>\n",
       "      <td>p</td>\n",
       "      <td>x</td>\n",
       "      <td>s</td>\n",
       "      <td>n</td>\n",
       "      <td>t</td>\n",
       "      <td>p</td>\n",
       "      <td>f</td>\n",
       "      <td>c</td>\n",
       "      <td>n</td>\n",
       "      <td>k</td>\n",
       "      <td>...</td>\n",
       "      <td>s</td>\n",
       "      <td>w</td>\n",
       "      <td>w</td>\n",
       "      <td>p</td>\n",
       "      <td>w</td>\n",
       "      <td>o</td>\n",
       "      <td>p</td>\n",
       "      <td>k</td>\n",
       "      <td>s</td>\n",
       "      <td>u</td>\n",
       "    </tr>\n",
       "    <tr>\n",
       "      <th>1</th>\n",
       "      <td>e</td>\n",
       "      <td>x</td>\n",
       "      <td>s</td>\n",
       "      <td>y</td>\n",
       "      <td>t</td>\n",
       "      <td>a</td>\n",
       "      <td>f</td>\n",
       "      <td>c</td>\n",
       "      <td>b</td>\n",
       "      <td>k</td>\n",
       "      <td>...</td>\n",
       "      <td>s</td>\n",
       "      <td>w</td>\n",
       "      <td>w</td>\n",
       "      <td>p</td>\n",
       "      <td>w</td>\n",
       "      <td>o</td>\n",
       "      <td>p</td>\n",
       "      <td>n</td>\n",
       "      <td>n</td>\n",
       "      <td>g</td>\n",
       "    </tr>\n",
       "    <tr>\n",
       "      <th>2</th>\n",
       "      <td>e</td>\n",
       "      <td>b</td>\n",
       "      <td>s</td>\n",
       "      <td>w</td>\n",
       "      <td>t</td>\n",
       "      <td>l</td>\n",
       "      <td>f</td>\n",
       "      <td>c</td>\n",
       "      <td>b</td>\n",
       "      <td>n</td>\n",
       "      <td>...</td>\n",
       "      <td>s</td>\n",
       "      <td>w</td>\n",
       "      <td>w</td>\n",
       "      <td>p</td>\n",
       "      <td>w</td>\n",
       "      <td>o</td>\n",
       "      <td>p</td>\n",
       "      <td>n</td>\n",
       "      <td>n</td>\n",
       "      <td>m</td>\n",
       "    </tr>\n",
       "    <tr>\n",
       "      <th>3</th>\n",
       "      <td>p</td>\n",
       "      <td>x</td>\n",
       "      <td>y</td>\n",
       "      <td>w</td>\n",
       "      <td>t</td>\n",
       "      <td>p</td>\n",
       "      <td>f</td>\n",
       "      <td>c</td>\n",
       "      <td>n</td>\n",
       "      <td>n</td>\n",
       "      <td>...</td>\n",
       "      <td>s</td>\n",
       "      <td>w</td>\n",
       "      <td>w</td>\n",
       "      <td>p</td>\n",
       "      <td>w</td>\n",
       "      <td>o</td>\n",
       "      <td>p</td>\n",
       "      <td>k</td>\n",
       "      <td>s</td>\n",
       "      <td>u</td>\n",
       "    </tr>\n",
       "    <tr>\n",
       "      <th>4</th>\n",
       "      <td>e</td>\n",
       "      <td>x</td>\n",
       "      <td>s</td>\n",
       "      <td>g</td>\n",
       "      <td>f</td>\n",
       "      <td>n</td>\n",
       "      <td>f</td>\n",
       "      <td>w</td>\n",
       "      <td>b</td>\n",
       "      <td>k</td>\n",
       "      <td>...</td>\n",
       "      <td>s</td>\n",
       "      <td>w</td>\n",
       "      <td>w</td>\n",
       "      <td>p</td>\n",
       "      <td>w</td>\n",
       "      <td>o</td>\n",
       "      <td>e</td>\n",
       "      <td>n</td>\n",
       "      <td>a</td>\n",
       "      <td>g</td>\n",
       "    </tr>\n",
       "  </tbody>\n",
       "</table>\n",
       "<p>5 rows × 23 columns</p>\n",
       "</div>"
      ],
      "text/plain": [
       "  class cap-shape cap-surface cap-color bruises odor gill-attachment  \\\n",
       "0     p         x           s         n       t    p               f   \n",
       "1     e         x           s         y       t    a               f   \n",
       "2     e         b           s         w       t    l               f   \n",
       "3     p         x           y         w       t    p               f   \n",
       "4     e         x           s         g       f    n               f   \n",
       "\n",
       "  gill-spacing gill-size gill-color  ... stalk-surface-below-ring  \\\n",
       "0            c         n          k  ...                        s   \n",
       "1            c         b          k  ...                        s   \n",
       "2            c         b          n  ...                        s   \n",
       "3            c         n          n  ...                        s   \n",
       "4            w         b          k  ...                        s   \n",
       "\n",
       "  stalk-color-above-ring stalk-color-below-ring veil-type veil-color  \\\n",
       "0                      w                      w         p          w   \n",
       "1                      w                      w         p          w   \n",
       "2                      w                      w         p          w   \n",
       "3                      w                      w         p          w   \n",
       "4                      w                      w         p          w   \n",
       "\n",
       "  ring-number ring-type spore-print-color population habitat  \n",
       "0           o         p                 k          s       u  \n",
       "1           o         p                 n          n       g  \n",
       "2           o         p                 n          n       m  \n",
       "3           o         p                 k          s       u  \n",
       "4           o         e                 n          a       g  \n",
       "\n",
       "[5 rows x 23 columns]"
      ]
     },
     "execution_count": 2,
     "metadata": {},
     "output_type": "execute_result"
    }
   ],
   "source": [
    "mr = pd.read_csv('mushrooms.csv')\n",
    "mr.head()"
   ]
  },
  {
   "cell_type": "markdown",
   "metadata": {},
   "source": [
    "### 1.\tИзучить набор данных. Создать описание набора данных на русском языке. Описать признаки, используемые в наборе данных (включить полученные описания в отчёт)."
   ]
  },
  {
   "cell_type": "markdown",
   "metadata": {},
   "source": [
    "1. cap-shap - Форма шляпки\n",
    "2. cap-surface - Поверхность шляпки\n",
    "3. cap-color - Цвет шляпки\n",
    "4. bruises - Пятна\n",
    "5. odor - Запах\n",
    "6. gill-attachment - Форма жабер\n",
    "7. gill-spacing - Расстояние между жабрами\n",
    "8. gill-size - Размер жабер\n",
    "9. gill-color - Цвет жабер\n",
    "10. stalk-shape - Форма ножки\n",
    "11. stalk-root - Корень\n",
    "12. stalk-surface-above-ring - Форма ножки выше юбки\n",
    "13. stalk-surface-below-ring - Форма ножки ниже юбки\n",
    "14. stalk-color-above-ring - Цвет ножки выше юбки\n",
    "15. stalk-color-below-ring - Цвет ножки ниже юбки\n",
    "16. veil-type - Форма юбки\n",
    "17. veil-color - Цвет юбки\n",
    "18. ring-number - Количество колец\n",
    "19. ring-type - Тип кольца\n",
    "20. spore-print-color - Цвет спор\n",
    "21. population - Популяция\n",
    "22. habitat - Среда обитания"
   ]
  },
  {
   "cell_type": "markdown",
   "metadata": {},
   "source": [
    "### 2.Удалите дубликаты строк в наборе данных; приведите размер набора данных до и после данной операции;"
   ]
  },
  {
   "cell_type": "code",
   "execution_count": 3,
   "metadata": {},
   "outputs": [
    {
     "data": {
      "text/plain": [
       "(8124, 23)"
      ]
     },
     "execution_count": 3,
     "metadata": {},
     "output_type": "execute_result"
    }
   ],
   "source": [
    "mr.shape"
   ]
  },
  {
   "cell_type": "code",
   "execution_count": 4,
   "metadata": {},
   "outputs": [
    {
     "data": {
      "text/plain": [
       "(8124, 23)"
      ]
     },
     "execution_count": 4,
     "metadata": {},
     "output_type": "execute_result"
    }
   ],
   "source": [
    "drop_mr = mr.drop_duplicates()\n",
    "drop_mr.shape"
   ]
  },
  {
   "cell_type": "markdown",
   "metadata": {},
   "source": [
    "### 3.\tОцените сбалансированность данных по классам (постройте гистограмму). Используйте полученную информацию при выборе метрики оценки качества классификации (PR или ROC кривая)"
   ]
  },
  {
   "cell_type": "code",
   "execution_count": 5,
   "metadata": {},
   "outputs": [
    {
     "data": {
      "text/plain": [
       "<AxesSubplot:xlabel='class', ylabel='count'>"
      ]
     },
     "execution_count": 5,
     "metadata": {},
     "output_type": "execute_result"
    },
    {
     "data": {
      "image/png": "[encoded data removed]",
      "text/plain": [
       "<Figure size 432x288 with 1 Axes>"
      ]
     },
     "metadata": {
      "needs_background": "light"
     },
     "output_type": "display_data"
    }
   ],
   "source": [
    "sns.countplot(data=mr, x='class')\n"
   ]
  },
  {
   "cell_type": "markdown",
   "metadata": {},
   "source": [
    "### 4.\tВыполните масштабирование количественных признаков; Постройте диаграммы BoxPlot для признаков до и после масштабирования. Выберите способ масштабирования (например, нормализацию или стандартизацию);"
   ]
  },
  {
   "cell_type": "markdown",
   "metadata": {},
   "source": [
    "нет количественных признаков "
   ]
  },
  {
   "cell_type": "markdown",
   "metadata": {},
   "source": [
    "### 5.Выполните замену категориальных признаков; выберите и обоснуйте способ замены;"
   ]
  },
  {
   "cell_type": "code",
   "execution_count": 6,
   "metadata": {},
   "outputs": [
    {
     "data": {
      "text/plain": [
       "class                        2\n",
       "cap-shape                    6\n",
       "cap-surface                  4\n",
       "cap-color                   10\n",
       "bruises                      2\n",
       "odor                         9\n",
       "gill-attachment              2\n",
       "gill-spacing                 2\n",
       "gill-size                    2\n",
       "gill-color                  12\n",
       "stalk-shape                  2\n",
       "stalk-root                   5\n",
       "stalk-surface-above-ring     4\n",
       "stalk-surface-below-ring     4\n",
       "stalk-color-above-ring       9\n",
       "stalk-color-below-ring       9\n",
       "veil-type                    1\n",
       "veil-color                   4\n",
       "ring-number                  3\n",
       "ring-type                    5\n",
       "spore-print-color            9\n",
       "population                   6\n",
       "habitat                      7\n",
       "dtype: int64"
      ]
     },
     "execution_count": 6,
     "metadata": {},
     "output_type": "execute_result"
    }
   ],
   "source": [
    "mr.nunique()"
   ]
  },
  {
   "cell_type": "code",
   "execution_count": 7,
   "metadata": {},
   "outputs": [
    {
     "data": {
      "text/html": [
       "<div>\n",
       "<style scoped>\n",
       "    .dataframe tbody tr th:only-of-type {\n",
       "        vertical-align: middle;\n",
       "    }\n",
       "\n",
       "    .dataframe tbody tr th {\n",
       "        vertical-align: top;\n",
       "    }\n",
       "\n",
       "    .dataframe thead th {\n",
       "        text-align: right;\n",
       "    }\n",
       "</style>\n",
       "<table border=\"1\" class=\"dataframe\">\n",
       "  <thead>\n",
       "    <tr style=\"text-align: right;\">\n",
       "      <th></th>\n",
       "      <th>class</th>\n",
       "      <th>cap-shape</th>\n",
       "      <th>cap-surface</th>\n",
       "      <th>cap-color</th>\n",
       "      <th>bruises</th>\n",
       "      <th>odor</th>\n",
       "      <th>gill-attachment</th>\n",
       "      <th>gill-spacing</th>\n",
       "      <th>gill-size</th>\n",
       "      <th>gill-color</th>\n",
       "      <th>...</th>\n",
       "      <th>stalk-surface-below-ring</th>\n",
       "      <th>stalk-color-above-ring</th>\n",
       "      <th>stalk-color-below-ring</th>\n",
       "      <th>veil-type</th>\n",
       "      <th>veil-color</th>\n",
       "      <th>ring-number</th>\n",
       "      <th>ring-type</th>\n",
       "      <th>spore-print-color</th>\n",
       "      <th>population</th>\n",
       "      <th>habitat</th>\n",
       "    </tr>\n",
       "  </thead>\n",
       "  <tbody>\n",
       "    <tr>\n",
       "      <th>0</th>\n",
       "      <td>1</td>\n",
       "      <td>5</td>\n",
       "      <td>2</td>\n",
       "      <td>4</td>\n",
       "      <td>1</td>\n",
       "      <td>6</td>\n",
       "      <td>1</td>\n",
       "      <td>0</td>\n",
       "      <td>1</td>\n",
       "      <td>4</td>\n",
       "      <td>...</td>\n",
       "      <td>2</td>\n",
       "      <td>7</td>\n",
       "      <td>7</td>\n",
       "      <td>0</td>\n",
       "      <td>2</td>\n",
       "      <td>1</td>\n",
       "      <td>4</td>\n",
       "      <td>2</td>\n",
       "      <td>3</td>\n",
       "      <td>5</td>\n",
       "    </tr>\n",
       "    <tr>\n",
       "      <th>1</th>\n",
       "      <td>0</td>\n",
       "      <td>5</td>\n",
       "      <td>2</td>\n",
       "      <td>9</td>\n",
       "      <td>1</td>\n",
       "      <td>0</td>\n",
       "      <td>1</td>\n",
       "      <td>0</td>\n",
       "      <td>0</td>\n",
       "      <td>4</td>\n",
       "      <td>...</td>\n",
       "      <td>2</td>\n",
       "      <td>7</td>\n",
       "      <td>7</td>\n",
       "      <td>0</td>\n",
       "      <td>2</td>\n",
       "      <td>1</td>\n",
       "      <td>4</td>\n",
       "      <td>3</td>\n",
       "      <td>2</td>\n",
       "      <td>1</td>\n",
       "    </tr>\n",
       "    <tr>\n",
       "      <th>2</th>\n",
       "      <td>0</td>\n",
       "      <td>0</td>\n",
       "      <td>2</td>\n",
       "      <td>8</td>\n",
       "      <td>1</td>\n",
       "      <td>3</td>\n",
       "      <td>1</td>\n",
       "      <td>0</td>\n",
       "      <td>0</td>\n",
       "      <td>5</td>\n",
       "      <td>...</td>\n",
       "      <td>2</td>\n",
       "      <td>7</td>\n",
       "      <td>7</td>\n",
       "      <td>0</td>\n",
       "      <td>2</td>\n",
       "      <td>1</td>\n",
       "      <td>4</td>\n",
       "      <td>3</td>\n",
       "      <td>2</td>\n",
       "      <td>3</td>\n",
       "    </tr>\n",
       "    <tr>\n",
       "      <th>3</th>\n",
       "      <td>1</td>\n",
       "      <td>5</td>\n",
       "      <td>3</td>\n",
       "      <td>8</td>\n",
       "      <td>1</td>\n",
       "      <td>6</td>\n",
       "      <td>1</td>\n",
       "      <td>0</td>\n",
       "      <td>1</td>\n",
       "      <td>5</td>\n",
       "      <td>...</td>\n",
       "      <td>2</td>\n",
       "      <td>7</td>\n",
       "      <td>7</td>\n",
       "      <td>0</td>\n",
       "      <td>2</td>\n",
       "      <td>1</td>\n",
       "      <td>4</td>\n",
       "      <td>2</td>\n",
       "      <td>3</td>\n",
       "      <td>5</td>\n",
       "    </tr>\n",
       "    <tr>\n",
       "      <th>4</th>\n",
       "      <td>0</td>\n",
       "      <td>5</td>\n",
       "      <td>2</td>\n",
       "      <td>3</td>\n",
       "      <td>0</td>\n",
       "      <td>5</td>\n",
       "      <td>1</td>\n",
       "      <td>1</td>\n",
       "      <td>0</td>\n",
       "      <td>4</td>\n",
       "      <td>...</td>\n",
       "      <td>2</td>\n",
       "      <td>7</td>\n",
       "      <td>7</td>\n",
       "      <td>0</td>\n",
       "      <td>2</td>\n",
       "      <td>1</td>\n",
       "      <td>0</td>\n",
       "      <td>3</td>\n",
       "      <td>0</td>\n",
       "      <td>1</td>\n",
       "    </tr>\n",
       "    <tr>\n",
       "      <th>5</th>\n",
       "      <td>0</td>\n",
       "      <td>5</td>\n",
       "      <td>3</td>\n",
       "      <td>9</td>\n",
       "      <td>1</td>\n",
       "      <td>0</td>\n",
       "      <td>1</td>\n",
       "      <td>0</td>\n",
       "      <td>0</td>\n",
       "      <td>5</td>\n",
       "      <td>...</td>\n",
       "      <td>2</td>\n",
       "      <td>7</td>\n",
       "      <td>7</td>\n",
       "      <td>0</td>\n",
       "      <td>2</td>\n",
       "      <td>1</td>\n",
       "      <td>4</td>\n",
       "      <td>2</td>\n",
       "      <td>2</td>\n",
       "      <td>1</td>\n",
       "    </tr>\n",
       "    <tr>\n",
       "      <th>6</th>\n",
       "      <td>0</td>\n",
       "      <td>0</td>\n",
       "      <td>2</td>\n",
       "      <td>8</td>\n",
       "      <td>1</td>\n",
       "      <td>0</td>\n",
       "      <td>1</td>\n",
       "      <td>0</td>\n",
       "      <td>0</td>\n",
       "      <td>2</td>\n",
       "      <td>...</td>\n",
       "      <td>2</td>\n",
       "      <td>7</td>\n",
       "      <td>7</td>\n",
       "      <td>0</td>\n",
       "      <td>2</td>\n",
       "      <td>1</td>\n",
       "      <td>4</td>\n",
       "      <td>2</td>\n",
       "      <td>2</td>\n",
       "      <td>3</td>\n",
       "    </tr>\n",
       "    <tr>\n",
       "      <th>7</th>\n",
       "      <td>0</td>\n",
       "      <td>0</td>\n",
       "      <td>3</td>\n",
       "      <td>8</td>\n",
       "      <td>1</td>\n",
       "      <td>3</td>\n",
       "      <td>1</td>\n",
       "      <td>0</td>\n",
       "      <td>0</td>\n",
       "      <td>5</td>\n",
       "      <td>...</td>\n",
       "      <td>2</td>\n",
       "      <td>7</td>\n",
       "      <td>7</td>\n",
       "      <td>0</td>\n",
       "      <td>2</td>\n",
       "      <td>1</td>\n",
       "      <td>4</td>\n",
       "      <td>3</td>\n",
       "      <td>3</td>\n",
       "      <td>3</td>\n",
       "    </tr>\n",
       "    <tr>\n",
       "      <th>8</th>\n",
       "      <td>1</td>\n",
       "      <td>5</td>\n",
       "      <td>3</td>\n",
       "      <td>8</td>\n",
       "      <td>1</td>\n",
       "      <td>6</td>\n",
       "      <td>1</td>\n",
       "      <td>0</td>\n",
       "      <td>1</td>\n",
       "      <td>7</td>\n",
       "      <td>...</td>\n",
       "      <td>2</td>\n",
       "      <td>7</td>\n",
       "      <td>7</td>\n",
       "      <td>0</td>\n",
       "      <td>2</td>\n",
       "      <td>1</td>\n",
       "      <td>4</td>\n",
       "      <td>2</td>\n",
       "      <td>4</td>\n",
       "      <td>1</td>\n",
       "    </tr>\n",
       "    <tr>\n",
       "      <th>9</th>\n",
       "      <td>0</td>\n",
       "      <td>0</td>\n",
       "      <td>2</td>\n",
       "      <td>9</td>\n",
       "      <td>1</td>\n",
       "      <td>0</td>\n",
       "      <td>1</td>\n",
       "      <td>0</td>\n",
       "      <td>0</td>\n",
       "      <td>2</td>\n",
       "      <td>...</td>\n",
       "      <td>2</td>\n",
       "      <td>7</td>\n",
       "      <td>7</td>\n",
       "      <td>0</td>\n",
       "      <td>2</td>\n",
       "      <td>1</td>\n",
       "      <td>4</td>\n",
       "      <td>2</td>\n",
       "      <td>3</td>\n",
       "      <td>3</td>\n",
       "    </tr>\n",
       "  </tbody>\n",
       "</table>\n",
       "<p>10 rows × 23 columns</p>\n",
       "</div>"
      ],
      "text/plain": [
       "   class  cap-shape  cap-surface  cap-color  bruises  odor  gill-attachment  \\\n",
       "0      1          5            2          4        1     6                1   \n",
       "1      0          5            2          9        1     0                1   \n",
       "2      0          0            2          8        1     3                1   \n",
       "3      1          5            3          8        1     6                1   \n",
       "4      0          5            2          3        0     5                1   \n",
       "5      0          5            3          9        1     0                1   \n",
       "6      0          0            2          8        1     0                1   \n",
       "7      0          0            3          8        1     3                1   \n",
       "8      1          5            3          8        1     6                1   \n",
       "9      0          0            2          9        1     0                1   \n",
       "\n",
       "   gill-spacing  gill-size  gill-color  ...  stalk-surface-below-ring  \\\n",
       "0             0          1           4  ...                         2   \n",
       "1             0          0           4  ...                         2   \n",
       "2             0          0           5  ...                         2   \n",
       "3             0          1           5  ...                         2   \n",
       "4             1          0           4  ...                         2   \n",
       "5             0          0           5  ...                         2   \n",
       "6             0          0           2  ...                         2   \n",
       "7             0          0           5  ...                         2   \n",
       "8             0          1           7  ...                         2   \n",
       "9             0          0           2  ...                         2   \n",
       "\n",
       "   stalk-color-above-ring  stalk-color-below-ring  veil-type  veil-color  \\\n",
       "0                       7                       7          0           2   \n",
       "1                       7                       7          0           2   \n",
       "2                       7                       7          0           2   \n",
       "3                       7                       7          0           2   \n",
       "4                       7                       7          0           2   \n",
       "5                       7                       7          0           2   \n",
       "6                       7                       7          0           2   \n",
       "7                       7                       7          0           2   \n",
       "8                       7                       7          0           2   \n",
       "9                       7                       7          0           2   \n",
       "\n",
       "   ring-number  ring-type  spore-print-color  population  habitat  \n",
       "0            1          4                  2           3        5  \n",
       "1            1          4                  3           2        1  \n",
       "2            1          4                  3           2        3  \n",
       "3            1          4                  2           3        5  \n",
       "4            1          0                  3           0        1  \n",
       "5            1          4                  2           2        1  \n",
       "6            1          4                  2           2        3  \n",
       "7            1          4                  3           3        3  \n",
       "8            1          4                  2           4        1  \n",
       "9            1          4                  2           3        3  \n",
       "\n",
       "[10 rows x 23 columns]"
      ]
     },
     "execution_count": 7,
     "metadata": {},
     "output_type": "execute_result"
    }
   ],
   "source": [
    "for column in list(mr):\n",
    "    mr[column] = pd.Series(LabelEncoder().fit_transform(mr[column]))\n",
    "\n",
    "mr.head(10)"
   ]
  },
  {
   "cell_type": "markdown",
   "metadata": {},
   "source": [
    "### 6.\tОцените корреляцию между признаков и удалите те признаки, которые коррелируют с наибольшим числом других (удалять признаки нужно только для линейных методов классификации);"
   ]
  },
  {
   "cell_type": "code",
   "execution_count": 8,
   "metadata": {},
   "outputs": [
    {
     "name": "stdout",
     "output_type": "stream",
     "text": [
      "                             class  cap-shape  cap-surface  cap-color  \\\n",
      "class                     1.000000   0.052951     0.178446  -0.031384   \n",
      "cap-shape                 0.052951   1.000000    -0.050454  -0.048203   \n",
      "cap-surface               0.178446  -0.050454     1.000000  -0.019402   \n",
      "cap-color                -0.031384  -0.048203    -0.019402   1.000000   \n",
      "bruises                  -0.501530  -0.035374     0.070228  -0.000764   \n",
      "odor                     -0.093552  -0.021935     0.045233  -0.387121   \n",
      "gill-attachment           0.129200   0.078865    -0.034180   0.041436   \n",
      "gill-spacing             -0.348387   0.013196    -0.282306   0.144259   \n",
      "gill-size                 0.540024   0.054050     0.208100  -0.169464   \n",
      "gill-color               -0.530566  -0.006039    -0.161017   0.084659   \n",
      "stalk-shape              -0.102019   0.063794    -0.014123  -0.456496   \n",
      "stalk-root               -0.379361   0.030191    -0.126245   0.321274   \n",
      "stalk-surface-above-ring -0.334593  -0.030417     0.089090  -0.060837   \n",
      "stalk-surface-below-ring -0.298801  -0.032591     0.107965  -0.047710   \n",
      "stalk-color-above-ring   -0.154003  -0.031659     0.066050   0.002364   \n",
      "stalk-color-below-ring   -0.146730  -0.030390     0.068885   0.008057   \n",
      "veil-type                      NaN        NaN          NaN        NaN   \n",
      "veil-color                0.145142   0.072560    -0.016603   0.036130   \n",
      "ring-number              -0.214366  -0.106534    -0.026147  -0.005822   \n",
      "ring-type                -0.411771  -0.025457    -0.106407   0.162513   \n",
      "spore-print-color         0.171961  -0.073416     0.230364  -0.293523   \n",
      "population                0.298686   0.063413     0.021555  -0.144770   \n",
      "habitat                   0.217179  -0.042221     0.163887   0.033925   \n",
      "\n",
      "                           bruises      odor  gill-attachment  gill-spacing  \\\n",
      "class                    -0.501530 -0.093552         0.129200     -0.348387   \n",
      "cap-shape                -0.035374 -0.021935         0.078865      0.013196   \n",
      "cap-surface               0.070228  0.045233        -0.034180     -0.282306   \n",
      "cap-color                -0.000764 -0.387121         0.041436      0.144259   \n",
      "bruises                   1.000000 -0.061825         0.137359     -0.299473   \n",
      "odor                     -0.061825  1.000000        -0.059590      0.063936   \n",
      "gill-attachment           0.137359 -0.059590         1.000000      0.071489   \n",
      "gill-spacing             -0.299473  0.063936         0.071489      1.000000   \n",
      "gill-size                -0.369596  0.310495         0.108984     -0.108333   \n",
      "gill-color                0.527120 -0.129213        -0.128567      0.100193   \n",
      "stalk-shape               0.099364  0.459766         0.186485      0.080895   \n",
      "stalk-root                0.244188 -0.205215         0.144063      0.350548   \n",
      "stalk-surface-above-ring  0.460824  0.118617        -0.088916     -0.212359   \n",
      "stalk-surface-below-ring  0.458983  0.061820        -0.116177     -0.213775   \n",
      "stalk-color-above-ring    0.083538  0.174532         0.099299      0.274574   \n",
      "stalk-color-below-ring    0.092874  0.169407         0.097160      0.253505   \n",
      "veil-type                      NaN       NaN              NaN           NaN   \n",
      "veil-color                0.119770 -0.057747         0.897518      0.073363   \n",
      "ring-number               0.056788  0.111905         0.093236      0.243014   \n",
      "ring-type                 0.692973 -0.281387        -0.146689     -0.195897   \n",
      "spore-print-color        -0.285008  0.469055        -0.029524      0.047323   \n",
      "population                0.088137 -0.043623         0.165575     -0.529253   \n",
      "habitat                  -0.075095 -0.026610        -0.030304     -0.154680   \n",
      "\n",
      "                          gill-size  gill-color  ...  \\\n",
      "class                      0.540024   -0.530566  ...   \n",
      "cap-shape                  0.054050   -0.006039  ...   \n",
      "cap-surface                0.208100   -0.161017  ...   \n",
      "cap-color                 -0.169464    0.084659  ...   \n",
      "bruises                   -0.369596    0.527120  ...   \n",
      "odor                       0.310495   -0.129213  ...   \n",
      "gill-attachment            0.108984   -0.128567  ...   \n",
      "gill-spacing              -0.108333    0.100193  ...   \n",
      "gill-size                  1.000000   -0.516736  ...   \n",
      "gill-color                -0.516736    1.000000  ...   \n",
      "stalk-shape                0.214576   -0.175699  ...   \n",
      "stalk-root                -0.344345    0.315080  ...   \n",
      "stalk-surface-above-ring   0.056310    0.224287  ...   \n",
      "stalk-surface-below-ring   0.010894    0.257224  ...   \n",
      "stalk-color-above-ring     0.296548   -0.058299  ...   \n",
      "stalk-color-below-ring     0.278708   -0.074781  ...   \n",
      "veil-type                       NaN         NaN  ...   \n",
      "veil-color                 0.103809   -0.097583  ...   \n",
      "ring-number               -0.171362    0.096054  ...   \n",
      "ring-type                 -0.460872    0.629398  ...   \n",
      "spore-print-color          0.622991   -0.416135  ...   \n",
      "population                 0.147682   -0.034090  ...   \n",
      "habitat                    0.161418   -0.202972  ...   \n",
      "\n",
      "                          stalk-surface-below-ring  stalk-color-above-ring  \\\n",
      "class                                    -0.298801               -0.154003   \n",
      "cap-shape                                -0.032591               -0.031659   \n",
      "cap-surface                               0.107965                0.066050   \n",
      "cap-color                                -0.047710                0.002364   \n",
      "bruises                                   0.458983                0.083538   \n",
      "odor                                      0.061820                0.174532   \n",
      "gill-attachment                          -0.116177                0.099299   \n",
      "gill-spacing                             -0.213775                0.274574   \n",
      "gill-size                                 0.010894                0.296548   \n",
      "gill-color                                0.257224               -0.058299   \n",
      "stalk-shape                              -0.034399                0.223439   \n",
      "stalk-root                                0.087454                0.157140   \n",
      "stalk-surface-above-ring                  0.437164                0.132708   \n",
      "stalk-surface-below-ring                  1.000000                0.106933   \n",
      "stalk-color-above-ring                    0.106933                1.000000   \n",
      "stalk-color-below-ring                    0.110656                0.491510   \n",
      "veil-type                                      NaN                     NaN   \n",
      "veil-color                               -0.077284                0.067377   \n",
      "ring-number                               0.040006                0.084917   \n",
      "ring-type                                 0.394644               -0.048878   \n",
      "spore-print-color                         0.130974                0.271533   \n",
      "population                                0.046797               -0.240261   \n",
      "habitat                                  -0.039628                0.042561   \n",
      "\n",
      "                          stalk-color-below-ring  veil-type  veil-color  \\\n",
      "class                                  -0.146730        NaN    0.145142   \n",
      "cap-shape                              -0.030390        NaN    0.072560   \n",
      "cap-surface                             0.068885        NaN   -0.016603   \n",
      "cap-color                               0.008057        NaN    0.036130   \n",
      "bruises                                 0.092874        NaN    0.119770   \n",
      "odor                                    0.169407        NaN   -0.057747   \n",
      "gill-attachment                         0.097160        NaN    0.897518   \n",
      "gill-spacing                            0.253505        NaN    0.073363   \n",
      "gill-size                               0.278708        NaN    0.103809   \n",
      "gill-color                             -0.074781        NaN   -0.097583   \n",
      "stalk-shape                             0.235794        NaN    0.162604   \n",
      "stalk-root                              0.159805        NaN    0.156213   \n",
      "stalk-surface-above-ring                0.142835        NaN   -0.090591   \n",
      "stalk-surface-below-ring                0.110656        NaN   -0.077284   \n",
      "stalk-color-above-ring                  0.491510        NaN    0.067377   \n",
      "stalk-color-below-ring                  1.000000        NaN    0.065567   \n",
      "veil-type                                    NaN        NaN         NaN   \n",
      "veil-color                              0.065567        NaN    1.000000   \n",
      "ring-number                             0.087580        NaN    0.036380   \n",
      "ring-type                              -0.034284        NaN   -0.143673   \n",
      "spore-print-color                       0.254518        NaN   -0.003600   \n",
      "population                             -0.242792        NaN    0.124924   \n",
      "habitat                                 0.041594        NaN   -0.040581   \n",
      "\n",
      "                          ring-number  ring-type  spore-print-color  \\\n",
      "class                       -0.214366  -0.411771           0.171961   \n",
      "cap-shape                   -0.106534  -0.025457          -0.073416   \n",
      "cap-surface                 -0.026147  -0.106407           0.230364   \n",
      "cap-color                   -0.005822   0.162513          -0.293523   \n",
      "bruises                      0.056788   0.692973          -0.285008   \n",
      "odor                         0.111905  -0.281387           0.469055   \n",
      "gill-attachment              0.093236  -0.146689          -0.029524   \n",
      "gill-spacing                 0.243014  -0.195897           0.047323   \n",
      "gill-size                   -0.171362  -0.460872           0.622991   \n",
      "gill-color                   0.096054   0.629398          -0.416135   \n",
      "stalk-shape                 -0.293221  -0.291444           0.258831   \n",
      "stalk-root                  -0.247357   0.210155          -0.536996   \n",
      "stalk-surface-above-ring     0.107904   0.390091           0.100764   \n",
      "stalk-surface-below-ring     0.040006   0.394644           0.130974   \n",
      "stalk-color-above-ring       0.084917  -0.048878           0.271533   \n",
      "stalk-color-below-ring       0.087580  -0.034284           0.254518   \n",
      "veil-type                         NaN        NaN                NaN   \n",
      "veil-color                   0.036380  -0.143673          -0.003600   \n",
      "ring-number                  1.000000   0.058312           0.338417   \n",
      "ring-type                    0.058312   1.000000          -0.487048   \n",
      "spore-print-color            0.338417  -0.487048           1.000000   \n",
      "population                  -0.242020   0.211763          -0.126859   \n",
      "habitat                      0.235835  -0.212080           0.185954   \n",
      "\n",
      "                          population   habitat  \n",
      "class                       0.298686  0.217179  \n",
      "cap-shape                   0.063413 -0.042221  \n",
      "cap-surface                 0.021555  0.163887  \n",
      "cap-color                  -0.144770  0.033925  \n",
      "bruises                     0.088137 -0.075095  \n",
      "odor                       -0.043623 -0.026610  \n",
      "gill-attachment             0.165575 -0.030304  \n",
      "gill-spacing               -0.529253 -0.154680  \n",
      "gill-size                   0.147682  0.161418  \n",
      "gill-color                 -0.034090 -0.202972  \n",
      "stalk-shape                 0.087383 -0.269216  \n",
      "stalk-root                 -0.306747 -0.007668  \n",
      "stalk-surface-above-ring    0.079604 -0.058076  \n",
      "stalk-surface-below-ring    0.046797 -0.039628  \n",
      "stalk-color-above-ring     -0.240261  0.042561  \n",
      "stalk-color-below-ring     -0.242792  0.041594  \n",
      "veil-type                        NaN       NaN  \n",
      "veil-color                  0.124924 -0.040581  \n",
      "ring-number                -0.242020  0.235835  \n",
      "ring-type                   0.211763 -0.212080  \n",
      "spore-print-color          -0.126859  0.185954  \n",
      "population                  1.000000 -0.174529  \n",
      "habitat                    -0.174529  1.000000  \n",
      "\n",
      "[23 rows x 23 columns]\n"
     ]
    },
    {
     "data": {
      "image/png": "[encoded data removed]",
      "text/plain": [
       "<Figure size 432x288 with 2 Axes>"
      ]
     },
     "metadata": {
      "needs_background": "light"
     },
     "output_type": "display_data"
    }
   ],
   "source": [
    "corr_matrix = mr.corr()\n",
    "sns.heatmap(corr_matrix);\n",
    "print(corr_matrix)"
   ]
  },
  {
   "cell_type": "code",
   "execution_count": 9,
   "metadata": {},
   "outputs": [],
   "source": [
    "mr.drop('veil-type',axis= 1,inplace = True)"
   ]
  },
  {
   "cell_type": "markdown",
   "metadata": {},
   "source": [
    "### 7.\tЗаполните пропущенные значения в данных;"
   ]
  },
  {
   "cell_type": "code",
   "execution_count": 10,
   "metadata": {},
   "outputs": [
    {
     "data": {
      "text/plain": [
       "class                       0\n",
       "cap-shape                   0\n",
       "cap-surface                 0\n",
       "cap-color                   0\n",
       "bruises                     0\n",
       "odor                        0\n",
       "gill-attachment             0\n",
       "gill-spacing                0\n",
       "gill-size                   0\n",
       "gill-color                  0\n",
       "stalk-shape                 0\n",
       "stalk-root                  0\n",
       "stalk-surface-above-ring    0\n",
       "stalk-surface-below-ring    0\n",
       "stalk-color-above-ring      0\n",
       "stalk-color-below-ring      0\n",
       "veil-color                  0\n",
       "ring-number                 0\n",
       "ring-type                   0\n",
       "spore-print-color           0\n",
       "population                  0\n",
       "habitat                     0\n",
       "dtype: int64"
      ]
     },
     "execution_count": 10,
     "metadata": {},
     "output_type": "execute_result"
    }
   ],
   "source": [
    "mr.isnull().sum()"
   ]
  },
  {
   "cell_type": "markdown",
   "metadata": {},
   "source": [
    "пустые значения осутствует"
   ]
  },
  {
   "cell_type": "markdown",
   "metadata": {},
   "source": [
    "### 8.\tРешите поставленную задачу классификации в соответствии с заданием. При подборе параметров классификатора используйте метод GridSearchCV и перекрёстную проверку (изучите возможные для изменения параметры классификации). Определите схему построения многоклассового классификатора, используемую по умолчанию (опишите используемую схему кодирования, обоснуйте свой выбор). Постройте, если это возможно, многоклассовую классификацию на основе схем «один-против-всех» и «все-против-всех». Оцените точность классификации для каждой их схем. Постройте кривые PR и ROC (для каждого из классов должны быть построены отдельные кривые, а также кривые для микро и макроусреднения метрик качества). Для линейного классификатора используйте регуляризацию. "
   ]
  },
  {
   "cell_type": "code",
   "execution_count": 11,
   "metadata": {},
   "outputs": [],
   "source": [
    "data_X, data_Y = mr.drop(columns=\"class\", axis=1).values, mr[\"class\"].values\n",
    "train_x, test_x, train_y, test_y = train_test_split(data_X, data_Y, test_size=0.3)"
   ]
  },
  {
   "cell_type": "code",
   "execution_count": 12,
   "metadata": {},
   "outputs": [
    {
     "name": "stdout",
     "output_type": "stream",
     "text": [
      "best: 0.9998240985048372 , neighbors num: 1\n",
      "Accuracy knn: 1.00000\n"
     ]
    }
   ],
   "source": [
    "#1 – классификатор K ближайших соседей (задаётся количество ближайших объектов);\n",
    "knn = KNeighborsClassifier()\n",
    "\n",
    "search = GridSearchCV(knn, {'n_neighbors': [x for x in range(1, 50)]})\n",
    "search.fit(train_x, train_y)\n",
    "\n",
    "n = search.best_estimator_.n_neighbors# самое лучшее значение\n",
    "best = search.best_score_# наивысший средний балл\n",
    "print('best:', best, ', neighbors num:', n, sep=' ')\n",
    "\n",
    "knn = KNeighborsClassifier(n_neighbors=n)\n",
    "knn.fit(train_x, train_y)\n",
    "knn_predict = knn.predict(test_x)\n",
    "print('Accuracy knn: %.5f' % accuracy_score(test_y, knn_predict))"
   ]
  },
  {
   "cell_type": "code",
   "execution_count": 13,
   "metadata": {},
   "outputs": [
    {
     "name": "stdout",
     "output_type": "stream",
     "text": [
      "best: 0.9344000259678833 alpha: 0.05263157894736842 max_iter: 13\n",
      "Accuracy ppn: 0.94381\n"
     ]
    }
   ],
   "source": [
    "#3 – линейный классификатор (персептрон);\n",
    "ppn = Perceptron()\n",
    "\n",
    "search = GridSearchCV(estimator=ppn, param_grid={\n",
    "    'alpha': np.linspace(0, 1, 20)[1:],\n",
    "    'max_iter': [x for x in range(1, 50)],\n",
    "}, n_jobs=-1)\n",
    "search.fit(train_x, train_y)# обучаем\n",
    "alpha = search.best_estimator_.alpha\n",
    "max_iter = search.best_estimator_.max_iter\n",
    "best = search.best_score_\n",
    "print('best:', best, 'alpha:', alpha, 'max_iter:', max_iter)\n",
    "\n",
    "ppn = Perceptron(alpha=alpha, max_iter=max_iter)\n",
    "ppn.fit(train_x, train_y)\n",
    "ppn_predict = ppn.predict(test_x)\n",
    "print('Accuracy ppn: %.5f' % accuracy_score(test_y, ppn_predict))# оцениваем точность"
   ]
  },
  {
   "cell_type": "markdown",
   "metadata": {},
   "source": [
    "#### PR график"
   ]
  },
  {
   "cell_type": "code",
   "execution_count": 21,
   "metadata": {},
   "outputs": [
    {
     "data": {
      "image/png": "[encoded data removed]",
      "text/plain": [
       "<Figure size 432x288 with 1 Axes>"
      ]
     },
     "metadata": {
      "needs_background": "light"
     },
     "output_type": "display_data"
    }
   ],
   "source": [
    "a = plot_precision_recall_curve(knn, test_x, test_y)\n",
    "b = plot_precision_recall_curve(ppn, test_x, test_y, ax = a.ax_)"
   ]
  },
  {
   "cell_type": "markdown",
   "metadata": {},
   "source": [
    "#### ROC графики"
   ]
  },
  {
   "cell_type": "code",
   "execution_count": 23,
   "metadata": {},
   "outputs": [
    {
     "data": {
      "image/png": "[encoded data removed]",
      "text/plain": [
       "<Figure size 432x288 with 1 Axes>"
      ]
     },
     "metadata": {
      "needs_background": "light"
     },
     "output_type": "display_data"
    }
   ],
   "source": [
    "c = plot_roc_curve(knn, test_x, test_y)\n",
    "d = plot_roc_curve(ppn, test_x, test_y, ax = c.ax_)"
   ]
  },
  {
   "cell_type": "markdown",
   "metadata": {},
   "source": [
    "### 9. Сравните кривые для классификаторов, указанных в задании, сделайте выводы"
   ]
  },
  {
   "cell_type": "markdown",
   "metadata": {},
   "source": [
    "###### имеют одинаковые показатели качества(если увеличить количество данных, то они также будут иметь примерные показатели)"
   ]
  }
 ],
 "metadata": {
  "kernelspec": {
   "display_name": "Python 3",
   "language": "python",
   "name": "python3"
  },
  "language_info": {
   "codemirror_mode": {
    "name": "ipython",
    "version": 3
   },
   "file_extension": ".py",
   "mimetype": "text/x-python",
   "name": "python",
   "nbconvert_exporter": "python",
   "pygments_lexer": "ipython3",
   "version": "3.8.7"
  }
 },
 "nbformat": 4,
 "nbformat_minor": 4
}
