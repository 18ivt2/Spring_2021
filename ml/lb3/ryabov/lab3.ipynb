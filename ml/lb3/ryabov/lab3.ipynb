{
 "cells": [
  {
   "cell_type": "markdown",
   "id": "creative-kuwait",
   "metadata": {},
   "source": [
    "# Рябов Даниил Александрович 19-ИВТ-2"
   ]
  },
  {
   "cell_type": "markdown",
   "id": "welcome-click",
   "metadata": {},
   "source": [
    "## Лабораторная работа №3"
   ]
  },
  {
   "cell_type": "markdown",
   "id": "constitutional-apparatus",
   "metadata": {},
   "source": [
    "# 4 вариант"
   ]
  },
  {
   "cell_type": "markdown",
   "id": "falling-context",
   "metadata": {},
   "source": [
    "# 1) Изучить набор данных, создать описание набора данных на рускком языке."
   ]
  },
  {
   "cell_type": "markdown",
   "id": "raised-shelter",
   "metadata": {},
   "source": [
    "## Набор данных содержит признаки:\n",
    "### длинна чашелистика (в см)\n",
    "### ширина чашелистика (в см)\n",
    "### длинна лепестка (в см)\n",
    "### ширина лепестка (в см)\n",
    "### вид"
   ]
  },
  {
   "cell_type": "code",
   "execution_count": 2,
   "id": "twelve-latino",
   "metadata": {},
   "outputs": [
    {
     "data": {
      "text/html": [
       "<div>\n",
       "<style scoped>\n",
       "    .dataframe tbody tr th:only-of-type {\n",
       "        vertical-align: middle;\n",
       "    }\n",
       "\n",
       "    .dataframe tbody tr th {\n",
       "        vertical-align: top;\n",
       "    }\n",
       "\n",
       "    .dataframe thead th {\n",
       "        text-align: right;\n",
       "    }\n",
       "</style>\n",
       "<table border=\"1\" class=\"dataframe\">\n",
       "  <thead>\n",
       "    <tr style=\"text-align: right;\">\n",
       "      <th></th>\n",
       "      <th>SepalLengthCm</th>\n",
       "      <th>SepalWidthCm</th>\n",
       "      <th>PetalLengthCm</th>\n",
       "      <th>PetalWidthCm</th>\n",
       "      <th>Species</th>\n",
       "    </tr>\n",
       "  </thead>\n",
       "  <tbody>\n",
       "    <tr>\n",
       "      <th>0</th>\n",
       "      <td>5.1</td>\n",
       "      <td>3.5</td>\n",
       "      <td>1.4</td>\n",
       "      <td>0.2</td>\n",
       "      <td>Iris-setosa</td>\n",
       "    </tr>\n",
       "    <tr>\n",
       "      <th>1</th>\n",
       "      <td>4.9</td>\n",
       "      <td>3.0</td>\n",
       "      <td>1.4</td>\n",
       "      <td>0.2</td>\n",
       "      <td>Iris-setosa</td>\n",
       "    </tr>\n",
       "    <tr>\n",
       "      <th>2</th>\n",
       "      <td>4.7</td>\n",
       "      <td>3.2</td>\n",
       "      <td>1.3</td>\n",
       "      <td>0.2</td>\n",
       "      <td>Iris-setosa</td>\n",
       "    </tr>\n",
       "    <tr>\n",
       "      <th>3</th>\n",
       "      <td>4.6</td>\n",
       "      <td>3.1</td>\n",
       "      <td>1.5</td>\n",
       "      <td>0.2</td>\n",
       "      <td>Iris-setosa</td>\n",
       "    </tr>\n",
       "    <tr>\n",
       "      <th>4</th>\n",
       "      <td>5.0</td>\n",
       "      <td>3.6</td>\n",
       "      <td>1.4</td>\n",
       "      <td>0.2</td>\n",
       "      <td>Iris-setosa</td>\n",
       "    </tr>\n",
       "    <tr>\n",
       "      <th>...</th>\n",
       "      <td>...</td>\n",
       "      <td>...</td>\n",
       "      <td>...</td>\n",
       "      <td>...</td>\n",
       "      <td>...</td>\n",
       "    </tr>\n",
       "    <tr>\n",
       "      <th>145</th>\n",
       "      <td>6.7</td>\n",
       "      <td>3.0</td>\n",
       "      <td>5.2</td>\n",
       "      <td>2.3</td>\n",
       "      <td>Iris-virginica</td>\n",
       "    </tr>\n",
       "    <tr>\n",
       "      <th>146</th>\n",
       "      <td>6.3</td>\n",
       "      <td>2.5</td>\n",
       "      <td>5.0</td>\n",
       "      <td>1.9</td>\n",
       "      <td>Iris-virginica</td>\n",
       "    </tr>\n",
       "    <tr>\n",
       "      <th>147</th>\n",
       "      <td>6.5</td>\n",
       "      <td>3.0</td>\n",
       "      <td>5.2</td>\n",
       "      <td>2.0</td>\n",
       "      <td>Iris-virginica</td>\n",
       "    </tr>\n",
       "    <tr>\n",
       "      <th>148</th>\n",
       "      <td>6.2</td>\n",
       "      <td>3.4</td>\n",
       "      <td>5.4</td>\n",
       "      <td>2.3</td>\n",
       "      <td>Iris-virginica</td>\n",
       "    </tr>\n",
       "    <tr>\n",
       "      <th>149</th>\n",
       "      <td>5.9</td>\n",
       "      <td>3.0</td>\n",
       "      <td>5.1</td>\n",
       "      <td>1.8</td>\n",
       "      <td>Iris-virginica</td>\n",
       "    </tr>\n",
       "  </tbody>\n",
       "</table>\n",
       "<p>150 rows × 5 columns</p>\n",
       "</div>"
      ],
      "text/plain": [
       "     SepalLengthCm  SepalWidthCm  PetalLengthCm  PetalWidthCm         Species\n",
       "0              5.1           3.5            1.4           0.2     Iris-setosa\n",
       "1              4.9           3.0            1.4           0.2     Iris-setosa\n",
       "2              4.7           3.2            1.3           0.2     Iris-setosa\n",
       "3              4.6           3.1            1.5           0.2     Iris-setosa\n",
       "4              5.0           3.6            1.4           0.2     Iris-setosa\n",
       "..             ...           ...            ...           ...             ...\n",
       "145            6.7           3.0            5.2           2.3  Iris-virginica\n",
       "146            6.3           2.5            5.0           1.9  Iris-virginica\n",
       "147            6.5           3.0            5.2           2.0  Iris-virginica\n",
       "148            6.2           3.4            5.4           2.3  Iris-virginica\n",
       "149            5.9           3.0            5.1           1.8  Iris-virginica\n",
       "\n",
       "[150 rows x 5 columns]"
      ]
     },
     "execution_count": 2,
     "metadata": {},
     "output_type": "execute_result"
    }
   ],
   "source": [
    "%matplotlib inline\n",
    "\n",
    "import warnings\n",
    "import pandas as pd\n",
    "import matplotlib.pyplot as plt \n",
    "import sklearn as sk\n",
    "from sklearn import preprocessing, neighbors\n",
    "from sklearn.tree import DecisionTreeClassifier\n",
    "from sklearn.metrics import accuracy_score\n",
    "from sklearn.preprocessing import LabelEncoder\n",
    "from sklearn.neighbors import KNeighborsClassifier,RadiusNeighborsClassifier\n",
    "from sklearn.model_selection import train_test_split, cross_val_score, GridSearchCV\n",
    "from sklearn.metrics import precision_recall_curve\n",
    "from sklearn.metrics import average_precision_score\n",
    "from sklearn.preprocessing import label_binarize\n",
    "from sklearn.metrics import roc_curve, auc\n",
    "import seaborn as sns\n",
    "\n",
    "import numpy as np\n",
    "warnings.simplefilter('ignore')\n",
    "iris_df = pd.read_csv('iris.data.csv',header = None)\n",
    "iris_df.columns = ['SepalLengthCm','SepalWidthCm','PetalLengthCm','PetalWidthCm','Species']\n",
    "iris_df"
   ]
  },
  {
   "cell_type": "markdown",
   "id": "exclusive-happening",
   "metadata": {},
   "source": [
    "# 2) Удалить дубикаты строк в наборе данных"
   ]
  },
  {
   "cell_type": "code",
   "execution_count": 3,
   "id": "fifty-friendly",
   "metadata": {},
   "outputs": [
    {
     "data": {
      "text/plain": [
       "(150, 5)"
      ]
     },
     "execution_count": 3,
     "metadata": {},
     "output_type": "execute_result"
    }
   ],
   "source": [
    "iris_df.shape"
   ]
  },
  {
   "cell_type": "code",
   "execution_count": 4,
   "id": "executive-disposal",
   "metadata": {},
   "outputs": [
    {
     "data": {
      "text/plain": [
       "(147, 5)"
      ]
     },
     "execution_count": 4,
     "metadata": {},
     "output_type": "execute_result"
    }
   ],
   "source": [
    "iris_df = iris_df.drop_duplicates()\n",
    "iris_df.shape"
   ]
  },
  {
   "cell_type": "markdown",
   "id": "dominant-qualification",
   "metadata": {},
   "source": [
    "# 3) Оцените сбалансированность данных по классам (постройте гистограмму). Используйте полученную информацию при выборе метрики оценки качества классификации (PR или ROC кривая)"
   ]
  },
  {
   "cell_type": "code",
   "execution_count": 5,
   "id": "biological-czech",
   "metadata": {},
   "outputs": [
    {
     "data": {
      "text/plain": [
       "Species\n",
       "Iris-setosa        48\n",
       "Iris-versicolor    50\n",
       "Iris-virginica     49\n",
       "Name: Species, dtype: int64"
      ]
     },
     "execution_count": 5,
     "metadata": {},
     "output_type": "execute_result"
    },
    {
     "data": {
      "image/png": "[encoded data removed]",
      "text/plain": [
       "<Figure size 432x288 with 1 Axes>"
      ]
     },
     "metadata": {
      "needs_background": "light"
     },
     "output_type": "display_data"
    }
   ],
   "source": [
    "iris_df.groupby(['Species'])['Species'].hist()\n",
    "iris_df.groupby(['Species'])['Species'].count()"
   ]
  },
  {
   "cell_type": "markdown",
   "id": "viral-auditor",
   "metadata": {},
   "source": [
    "# 4) Выполните масштабирование количественных признаков; Постройте диаграммы BoxPlot для признаков до и после масштабирования. Выберите способ масштабирования (например, нормализацию или стандартизацию);"
   ]
  },
  {
   "cell_type": "code",
   "execution_count": 6,
   "id": "macro-onion",
   "metadata": {},
   "outputs": [
    {
     "name": "stdout",
     "output_type": "stream",
     "text": [
      "Numerical ['SepalLengthCm', 'SepalWidthCm', 'PetalLengthCm', 'PetalWidthCm']\n",
      "Categorial ['Species']\n"
     ]
    }
   ],
   "source": [
    "numerical = [i for i in iris_df.columns if iris_df[i].dtype.name != 'object']\n",
    "categorial = [i for i in iris_df.columns if iris_df[i].dtype.name == 'object']\n",
    "print(\"Numerical\",numerical)\n",
    "print(\"Categorial\",categorial)"
   ]
  },
  {
   "cell_type": "code",
   "execution_count": 7,
   "id": "quiet-pointer",
   "metadata": {},
   "outputs": [
    {
     "data": {
      "text/plain": [
       "<AxesSubplot:>"
      ]
     },
     "execution_count": 7,
     "metadata": {},
     "output_type": "execute_result"
    },
    {
     "data": {
      "image/png": "[encoded data removed]",
      "text/plain": [
       "<Figure size 432x288 with 1 Axes>"
      ]
     },
     "metadata": {
      "needs_background": "light"
     },
     "output_type": "display_data"
    }
   ],
   "source": [
    "sns.boxplot(data=iris_df[numerical])"
   ]
  },
  {
   "cell_type": "code",
   "execution_count": 8,
   "id": "nuclear-naples",
   "metadata": {},
   "outputs": [
    {
     "data": {
      "text/plain": [
       "<AxesSubplot:>"
      ]
     },
     "execution_count": 8,
     "metadata": {},
     "output_type": "execute_result"
    },
    {
     "data": {
      "image/png": "[encoded data removed]",
      "text/plain": [
       "<Figure size 432x288 with 1 Axes>"
      ]
     },
     "metadata": {
      "needs_background": "light"
     },
     "output_type": "display_data"
    }
   ],
   "source": [
    "iris_df[numerical] = preprocessing.normalize(iris_df[numerical])\n",
    "sns.boxplot(data=iris_df[numerical])"
   ]
  },
  {
   "cell_type": "code",
   "execution_count": 9,
   "id": "described-williams",
   "metadata": {},
   "outputs": [
    {
     "data": {
      "text/html": [
       "<div>\n",
       "<style scoped>\n",
       "    .dataframe tbody tr th:only-of-type {\n",
       "        vertical-align: middle;\n",
       "    }\n",
       "\n",
       "    .dataframe tbody tr th {\n",
       "        vertical-align: top;\n",
       "    }\n",
       "\n",
       "    .dataframe thead th {\n",
       "        text-align: right;\n",
       "    }\n",
       "</style>\n",
       "<table border=\"1\" class=\"dataframe\">\n",
       "  <thead>\n",
       "    <tr style=\"text-align: right;\">\n",
       "      <th></th>\n",
       "      <th>SepalLengthCm</th>\n",
       "      <th>SepalWidthCm</th>\n",
       "      <th>PetalLengthCm</th>\n",
       "      <th>PetalWidthCm</th>\n",
       "      <th>Species</th>\n",
       "    </tr>\n",
       "  </thead>\n",
       "  <tbody>\n",
       "    <tr>\n",
       "      <th>0</th>\n",
       "      <td>0.803773</td>\n",
       "      <td>0.551609</td>\n",
       "      <td>0.220644</td>\n",
       "      <td>0.031521</td>\n",
       "      <td>Iris-setosa</td>\n",
       "    </tr>\n",
       "    <tr>\n",
       "      <th>1</th>\n",
       "      <td>0.828133</td>\n",
       "      <td>0.507020</td>\n",
       "      <td>0.236609</td>\n",
       "      <td>0.033801</td>\n",
       "      <td>Iris-setosa</td>\n",
       "    </tr>\n",
       "    <tr>\n",
       "      <th>2</th>\n",
       "      <td>0.805333</td>\n",
       "      <td>0.548312</td>\n",
       "      <td>0.222752</td>\n",
       "      <td>0.034269</td>\n",
       "      <td>Iris-setosa</td>\n",
       "    </tr>\n",
       "    <tr>\n",
       "      <th>3</th>\n",
       "      <td>0.800030</td>\n",
       "      <td>0.539151</td>\n",
       "      <td>0.260879</td>\n",
       "      <td>0.034784</td>\n",
       "      <td>Iris-setosa</td>\n",
       "    </tr>\n",
       "    <tr>\n",
       "      <th>4</th>\n",
       "      <td>0.790965</td>\n",
       "      <td>0.569495</td>\n",
       "      <td>0.221470</td>\n",
       "      <td>0.031639</td>\n",
       "      <td>Iris-setosa</td>\n",
       "    </tr>\n",
       "    <tr>\n",
       "      <th>...</th>\n",
       "      <td>...</td>\n",
       "      <td>...</td>\n",
       "      <td>...</td>\n",
       "      <td>...</td>\n",
       "      <td>...</td>\n",
       "    </tr>\n",
       "    <tr>\n",
       "      <th>145</th>\n",
       "      <td>0.721557</td>\n",
       "      <td>0.323085</td>\n",
       "      <td>0.560015</td>\n",
       "      <td>0.247699</td>\n",
       "      <td>Iris-virginica</td>\n",
       "    </tr>\n",
       "    <tr>\n",
       "      <th>146</th>\n",
       "      <td>0.729654</td>\n",
       "      <td>0.289545</td>\n",
       "      <td>0.579090</td>\n",
       "      <td>0.220054</td>\n",
       "      <td>Iris-virginica</td>\n",
       "    </tr>\n",
       "    <tr>\n",
       "      <th>147</th>\n",
       "      <td>0.716539</td>\n",
       "      <td>0.330710</td>\n",
       "      <td>0.573231</td>\n",
       "      <td>0.220474</td>\n",
       "      <td>Iris-virginica</td>\n",
       "    </tr>\n",
       "    <tr>\n",
       "      <th>148</th>\n",
       "      <td>0.674671</td>\n",
       "      <td>0.369981</td>\n",
       "      <td>0.587616</td>\n",
       "      <td>0.250281</td>\n",
       "      <td>Iris-virginica</td>\n",
       "    </tr>\n",
       "    <tr>\n",
       "      <th>149</th>\n",
       "      <td>0.690259</td>\n",
       "      <td>0.350979</td>\n",
       "      <td>0.596665</td>\n",
       "      <td>0.210588</td>\n",
       "      <td>Iris-virginica</td>\n",
       "    </tr>\n",
       "  </tbody>\n",
       "</table>\n",
       "<p>147 rows × 5 columns</p>\n",
       "</div>"
      ],
      "text/plain": [
       "     SepalLengthCm  SepalWidthCm  PetalLengthCm  PetalWidthCm         Species\n",
       "0         0.803773      0.551609       0.220644      0.031521     Iris-setosa\n",
       "1         0.828133      0.507020       0.236609      0.033801     Iris-setosa\n",
       "2         0.805333      0.548312       0.222752      0.034269     Iris-setosa\n",
       "3         0.800030      0.539151       0.260879      0.034784     Iris-setosa\n",
       "4         0.790965      0.569495       0.221470      0.031639     Iris-setosa\n",
       "..             ...           ...            ...           ...             ...\n",
       "145       0.721557      0.323085       0.560015      0.247699  Iris-virginica\n",
       "146       0.729654      0.289545       0.579090      0.220054  Iris-virginica\n",
       "147       0.716539      0.330710       0.573231      0.220474  Iris-virginica\n",
       "148       0.674671      0.369981       0.587616      0.250281  Iris-virginica\n",
       "149       0.690259      0.350979       0.596665      0.210588  Iris-virginica\n",
       "\n",
       "[147 rows x 5 columns]"
      ]
     },
     "execution_count": 9,
     "metadata": {},
     "output_type": "execute_result"
    }
   ],
   "source": [
    "iris_df"
   ]
  },
  {
   "cell_type": "markdown",
   "id": "athletic-retrieval",
   "metadata": {},
   "source": [
    "# 5) Выполните замену категориальных признаков"
   ]
  },
  {
   "cell_type": "code",
   "execution_count": 10,
   "id": "positive-subject",
   "metadata": {},
   "outputs": [
    {
     "data": {
      "text/html": [
       "<div>\n",
       "<style scoped>\n",
       "    .dataframe tbody tr th:only-of-type {\n",
       "        vertical-align: middle;\n",
       "    }\n",
       "\n",
       "    .dataframe tbody tr th {\n",
       "        vertical-align: top;\n",
       "    }\n",
       "\n",
       "    .dataframe thead th {\n",
       "        text-align: right;\n",
       "    }\n",
       "</style>\n",
       "<table border=\"1\" class=\"dataframe\">\n",
       "  <thead>\n",
       "    <tr style=\"text-align: right;\">\n",
       "      <th></th>\n",
       "      <th>SepalLengthCm</th>\n",
       "      <th>SepalWidthCm</th>\n",
       "      <th>PetalLengthCm</th>\n",
       "      <th>PetalWidthCm</th>\n",
       "      <th>Species</th>\n",
       "    </tr>\n",
       "  </thead>\n",
       "  <tbody>\n",
       "    <tr>\n",
       "      <th>0</th>\n",
       "      <td>0.803773</td>\n",
       "      <td>0.551609</td>\n",
       "      <td>0.220644</td>\n",
       "      <td>0.031521</td>\n",
       "      <td>0</td>\n",
       "    </tr>\n",
       "    <tr>\n",
       "      <th>1</th>\n",
       "      <td>0.828133</td>\n",
       "      <td>0.507020</td>\n",
       "      <td>0.236609</td>\n",
       "      <td>0.033801</td>\n",
       "      <td>0</td>\n",
       "    </tr>\n",
       "    <tr>\n",
       "      <th>2</th>\n",
       "      <td>0.805333</td>\n",
       "      <td>0.548312</td>\n",
       "      <td>0.222752</td>\n",
       "      <td>0.034269</td>\n",
       "      <td>0</td>\n",
       "    </tr>\n",
       "    <tr>\n",
       "      <th>3</th>\n",
       "      <td>0.800030</td>\n",
       "      <td>0.539151</td>\n",
       "      <td>0.260879</td>\n",
       "      <td>0.034784</td>\n",
       "      <td>0</td>\n",
       "    </tr>\n",
       "    <tr>\n",
       "      <th>4</th>\n",
       "      <td>0.790965</td>\n",
       "      <td>0.569495</td>\n",
       "      <td>0.221470</td>\n",
       "      <td>0.031639</td>\n",
       "      <td>0</td>\n",
       "    </tr>\n",
       "    <tr>\n",
       "      <th>...</th>\n",
       "      <td>...</td>\n",
       "      <td>...</td>\n",
       "      <td>...</td>\n",
       "      <td>...</td>\n",
       "      <td>...</td>\n",
       "    </tr>\n",
       "    <tr>\n",
       "      <th>145</th>\n",
       "      <td>0.721557</td>\n",
       "      <td>0.323085</td>\n",
       "      <td>0.560015</td>\n",
       "      <td>0.247699</td>\n",
       "      <td>2</td>\n",
       "    </tr>\n",
       "    <tr>\n",
       "      <th>146</th>\n",
       "      <td>0.729654</td>\n",
       "      <td>0.289545</td>\n",
       "      <td>0.579090</td>\n",
       "      <td>0.220054</td>\n",
       "      <td>2</td>\n",
       "    </tr>\n",
       "    <tr>\n",
       "      <th>147</th>\n",
       "      <td>0.716539</td>\n",
       "      <td>0.330710</td>\n",
       "      <td>0.573231</td>\n",
       "      <td>0.220474</td>\n",
       "      <td>2</td>\n",
       "    </tr>\n",
       "    <tr>\n",
       "      <th>148</th>\n",
       "      <td>0.674671</td>\n",
       "      <td>0.369981</td>\n",
       "      <td>0.587616</td>\n",
       "      <td>0.250281</td>\n",
       "      <td>2</td>\n",
       "    </tr>\n",
       "    <tr>\n",
       "      <th>149</th>\n",
       "      <td>0.690259</td>\n",
       "      <td>0.350979</td>\n",
       "      <td>0.596665</td>\n",
       "      <td>0.210588</td>\n",
       "      <td>2</td>\n",
       "    </tr>\n",
       "  </tbody>\n",
       "</table>\n",
       "<p>147 rows × 5 columns</p>\n",
       "</div>"
      ],
      "text/plain": [
       "     SepalLengthCm  SepalWidthCm  PetalLengthCm  PetalWidthCm  Species\n",
       "0         0.803773      0.551609       0.220644      0.031521        0\n",
       "1         0.828133      0.507020       0.236609      0.033801        0\n",
       "2         0.805333      0.548312       0.222752      0.034269        0\n",
       "3         0.800030      0.539151       0.260879      0.034784        0\n",
       "4         0.790965      0.569495       0.221470      0.031639        0\n",
       "..             ...           ...            ...           ...      ...\n",
       "145       0.721557      0.323085       0.560015      0.247699        2\n",
       "146       0.729654      0.289545       0.579090      0.220054        2\n",
       "147       0.716539      0.330710       0.573231      0.220474        2\n",
       "148       0.674671      0.369981       0.587616      0.250281        2\n",
       "149       0.690259      0.350979       0.596665      0.210588        2\n",
       "\n",
       "[147 rows x 5 columns]"
      ]
     },
     "execution_count": 10,
     "metadata": {},
     "output_type": "execute_result"
    }
   ],
   "source": [
    "labelEncoder = LabelEncoder() \n",
    "iris_df['Species'] = labelEncoder.fit_transform(iris_df['Species'])\n",
    "iris_df"
   ]
  },
  {
   "cell_type": "markdown",
   "id": "infectious-laundry",
   "metadata": {},
   "source": [
    "# 6) Оцените корреляцию между признаков и удалите те признаки, которые коррелируют с наибольшим числом других (удалять признаки нужно только для линейных методов классификации)"
   ]
  },
  {
   "cell_type": "code",
   "execution_count": 11,
   "id": "excessive-exception",
   "metadata": {},
   "outputs": [
    {
     "data": {
      "text/plain": [
       "<AxesSubplot:>"
      ]
     },
     "execution_count": 11,
     "metadata": {},
     "output_type": "execute_result"
    },
    {
     "data": {
      "image/png": "[encoded data removed]",
      "text/plain": [
       "<Figure size 432x288 with 2 Axes>"
      ]
     },
     "metadata": {
      "needs_background": "light"
     },
     "output_type": "display_data"
    }
   ],
   "source": [
    "iris_corr_df = iris_df.corr()\n",
    "sns.heatmap(iris_corr_df, annot=True, fmt='.1f')"
   ]
  },
  {
   "cell_type": "markdown",
   "id": "daily-warrior",
   "metadata": {},
   "source": [
    "# 7) Заполните пропущенные значения в данных"
   ]
  },
  {
   "cell_type": "code",
   "execution_count": 12,
   "id": "appropriate-journey",
   "metadata": {},
   "outputs": [
    {
     "data": {
      "text/plain": [
       "SepalLengthCm    147\n",
       "SepalWidthCm     147\n",
       "PetalLengthCm    147\n",
       "PetalWidthCm     147\n",
       "Species          147\n",
       "dtype: int64"
      ]
     },
     "execution_count": 12,
     "metadata": {},
     "output_type": "execute_result"
    }
   ],
   "source": [
    "iris_df.notnull().count()"
   ]
  },
  {
   "cell_type": "markdown",
   "id": "general-torture",
   "metadata": {},
   "source": [
    "## Пропущеных значений нет"
   ]
  },
  {
   "cell_type": "markdown",
   "id": "animal-immune",
   "metadata": {},
   "source": [
    "# 8) Решите поставленную задачу классификации в соответствии с заданием. "
   ]
  },
  {
   "cell_type": "markdown",
   "id": "civic-cemetery",
   "metadata": {},
   "source": [
    "### Классификатор К ближайших соседей"
   ]
  },
  {
   "cell_type": "code",
   "execution_count": 23,
   "id": "concrete-glenn",
   "metadata": {},
   "outputs": [
    {
     "name": "stdout",
     "output_type": "stream",
     "text": [
      "(73, 4)\n",
      "(74, 4)\n"
     ]
    }
   ],
   "source": [
    "x = np.array(iris_df.drop('Species', axis=1))\n",
    "y = np.array(iris_df['Species']) \n",
    "y = label_binarize(y, classes=[0, 1, 2])\n",
    "n_classes = y.shape[1]\n",
    "\n",
    "X_train, X_test, y_train, y_test = train_test_split(x, y, test_size = 0.5)\n",
    "print(X_train.shape)\n",
    "print(X_test.shape)"
   ]
  },
  {
   "cell_type": "code",
   "execution_count": 14,
   "id": "interim-landscape",
   "metadata": {},
   "outputs": [
    {
     "name": "stdout",
     "output_type": "stream",
     "text": [
      "Accuracy of KNN model:  0.9459459459459459\n",
      "Best score:  0.96 Neighbor:  1\n"
     ]
    }
   ],
   "source": [
    "knn = KNeighborsClassifier()\n",
    "\n",
    "find = GridSearchCV(knn,{'n_neighbors':range(1,50)})\n",
    "find.fit(X_train,y_train)\n",
    "\n",
    "neighbor = find.best_estimator_.n_neighbors\n",
    "best_score = find.best_score_\n",
    "\n",
    "knn = KNeighborsClassifier(n_neighbors=neighbor)\n",
    "knn.fit(X_train,y_train)\n",
    "predict = knn.predict(X_test)\n",
    "print('Accuracy of KNN model: ',accuracy_score(y_test,predict))\n",
    "print('Best score: ',best_score,'Neighbor: ',neighbor)\n"
   ]
  },
  {
   "cell_type": "markdown",
   "id": "cosmetic-service",
   "metadata": {},
   "source": [
    "### Логический классификатор(бинарное решающее дерево)"
   ]
  },
  {
   "cell_type": "code",
   "execution_count": 15,
   "id": "collective-teach",
   "metadata": {},
   "outputs": [
    {
     "name": "stdout",
     "output_type": "stream",
     "text": [
      "Accuracy of DTC model:  0.918918918918919\n",
      "Best score:  0.9733333333333334\n",
      "On depth  14  features  1\n"
     ]
    }
   ],
   "source": [
    "dtc = DecisionTreeClassifier()\n",
    "\n",
    "\n",
    "dtc_grid = GridSearchCV(dtc, {'max_depth':list(range(1,100)),'max_features':list(range(1,5))})\n",
    "dtc_grid.fit(X_train,y_train)\n",
    "\n",
    "best_depth = dtc_grid.best_estimator_.max_depth\n",
    "best_features = dtc_grid.best_estimator_.max_features\n",
    "\n",
    "dtc = DecisionTreeClassifier(max_depth = best_depth, max_features = best_features)\n",
    "dtc.fit(X_train, y_train)\n",
    "predict = dtc.predict(X_test)\n",
    "accuracy_score = np.mean(y_test == dtc.predict(X_test))\n",
    "\n",
    "print('Accuracy of DTC model: ',accuracy_score)\n",
    "print('Best score: ', dtc_grid.best_score_)\n",
    "print('On depth ',best_depth,' features ',best_features)"
   ]
  },
  {
   "cell_type": "markdown",
   "id": "nearby-illustration",
   "metadata": {},
   "source": [
    "# ROC-кривая"
   ]
  },
  {
   "cell_type": "code",
   "execution_count": 16,
   "id": "olive-impact",
   "metadata": {},
   "outputs": [
    {
     "data": {
      "text/plain": [
       "<Figure size 720x576 with 0 Axes>"
      ]
     },
     "metadata": {},
     "output_type": "display_data"
    },
    {
     "data": {
      "image/png": "[encoded data removed]",
      "text/plain": [
       "<Figure size 1224x576 with 2 Axes>"
      ]
     },
     "metadata": {
      "needs_background": "light"
     },
     "output_type": "display_data"
    }
   ],
   "source": [
    "\n",
    "plt.figure(figsize=(10,8))\n",
    "fig, (ax_0, ax_1) = plt.subplots(nrows=1, ncols=2, figsize=(17, 8))  \n",
    "\n",
    "predict = knn.predict(X_test)\n",
    "fpr = dict()\n",
    "tpr = dict()\n",
    "roc_auc = dict()\n",
    "for i in range(n_classes):\n",
    "    fpr[i], tpr[i], _ = roc_curve(y_test[:, i], predict[:, i])\n",
    "    roc_auc[i] = auc(fpr[i], tpr[i])\n",
    "colors = ['blue', 'red', 'green']\n",
    "for i, color in zip(range(n_classes), colors):\n",
    "    ax_0.plot(fpr[i], tpr[i], color=color, lw=1,\n",
    "             label='ROC curve of class {0} (area = {1:0.2f})'\n",
    "             ''.format(i, roc_auc[i]))\n",
    "ax_0.plot([0, 1], [0, 1], 'k--', lw=1)\n",
    "ax_0.set_xlim([-0.05, 1.0])\n",
    "ax_0.set_ylim([0.0, 1.05])\n",
    "ax_0.set_xlabel('False Positive Rate')\n",
    "ax_0.set_ylabel('True Positive Rate')\n",
    "ax_0.set_title('ROC curve for knn')\n",
    "ax_0.legend(loc=\"lower right\")\n",
    "\n",
    "predict = dtc.predict(X_test)\n",
    "fpr = dict()\n",
    "tpr = dict()\n",
    "roc_auc = dict()\n",
    "for i in range(n_classes):\n",
    "    fpr[i], tpr[i], _ = roc_curve(y_test[:, i], predict[:, i])\n",
    "    roc_auc[i] = auc(fpr[i], tpr[i])\n",
    "colors = ['blue', 'red', 'green']\n",
    "for i, color in zip(range(n_classes), colors):\n",
    "    ax_1.plot(fpr[i], tpr[i], color=color, lw=1,\n",
    "             label='ROC curve of class {0} (area = {1:0.2f})'\n",
    "             ''.format(i, roc_auc[i]))\n",
    "ax_1.plot([0, 1], [0, 1], 'k--', lw=1)\n",
    "ax_1.set_xlim([-0.05, 1.0])\n",
    "ax_1.set_ylim([0.0, 1.05])\n",
    "ax_1.set_xlabel('False Positive Rate')\n",
    "ax_1.set_ylabel('True Positive Rate')\n",
    "ax_1.set_title('ROC curve for DTC')\n",
    "ax_1.legend(loc=\"lower right\")\n",
    "\n",
    "plt.show()"
   ]
  },
  {
   "cell_type": "markdown",
   "id": "external-trick",
   "metadata": {},
   "source": [
    "# PR-кривая"
   ]
  },
  {
   "cell_type": "code",
   "execution_count": 17,
   "id": "practical-savings",
   "metadata": {},
   "outputs": [
    {
     "data": {
      "image/png": "[encoded data removed]",
      "text/plain": [
       "<Figure size 1224x576 with 2 Axes>"
      ]
     },
     "metadata": {
      "needs_background": "light"
     },
     "output_type": "display_data"
    }
   ],
   "source": [
    "fig, (ax_0, ax_1) = plt.subplots( nrows=1, ncols=2, figsize=(17, 8))  \n",
    "\n",
    "predict = knn.predict(X_test)\n",
    "precision = dict()\n",
    "recall = dict()\n",
    "aps = dict()\n",
    "for i in range(n_classes):\n",
    "    precision[i], recall[i], _ = precision_recall_curve(y_test[:, i], predict[:, i])\n",
    "    aps[i] = average_precision_score(y_test[:, i], predict[:, i])\n",
    "colors = ['blue', 'red', 'green']\n",
    "for i, color in zip(range(n_classes), colors):\n",
    "    ax_0.plot(precision[i], recall[i], color=color, lw=1,\n",
    "             label='PR curve of class {0} (area = {1:0.2f})'\n",
    "             ''.format(i, aps[i]))\n",
    "ax_0.plot([0, 1], [0, 1], 'k--', lw=1)\n",
    "ax_0.set_xlim([0.0, 1.1])\n",
    "ax_0.set_ylim([0.0, 1.0])\n",
    "ax_0.set_xlabel('Recall')\n",
    "ax_0.set_ylabel('Precision')\n",
    "ax_0.set_title('PR curve for KNN')\n",
    "ax_0.legend(loc=\"lower right\")\n",
    "\n",
    "\n",
    "\n",
    "predict = dtc.predict(X_test)\n",
    "precision = dict()\n",
    "recall = dict()\n",
    "aps = dict()\n",
    "for i in range(n_classes):\n",
    "    precision[i], recall[i], _ = precision_recall_curve(y_test[:, i], predict[:, i])\n",
    "    aps[i] = average_precision_score(y_test[:, i], predict[:, i])\n",
    "colors = ['blue', 'red', 'green']\n",
    "for i, color in zip(range(n_classes), colors):\n",
    "    ax_1.plot(precision[i], recall[i], color=color, lw=1,\n",
    "             label='PR curve of class {0} (area = {1:0.2f})'\n",
    "             ''.format(i, aps[i]))\n",
    "ax_1.plot([0, 1], [0, 1], 'k--', lw=1)\n",
    "ax_1.set_xlim([0.0, 1.1])\n",
    "ax_1.set_ylim([0.0, 1.0])\n",
    "ax_1.set_xlabel('Recall')\n",
    "ax_1.set_ylabel('Precision')\n",
    "ax_1.set_title('PR curve for DTC')\n",
    "ax_1.legend(loc=\"lower right\")\n",
    "plt.show()"
   ]
  },
  {
   "cell_type": "markdown",
   "id": "cleared-petersburg",
   "metadata": {},
   "source": [
    "## 9) Метод К ближайших сосоедей имеет лучший показатель точности, чем бинарно ерешающее дерево"
   ]
  },
  {
   "cell_type": "code",
   "execution_count": null,
   "id": "outside-sodium",
   "metadata": {},
   "outputs": [],
   "source": []
  }
 ],
 "metadata": {
  "kernelspec": {
   "display_name": "Python 3",
   "language": "python",
   "name": "python3"
  },
  "language_info": {
   "codemirror_mode": {
    "name": "ipython",
    "version": 3
   },
   "file_extension": ".py",
   "mimetype": "text/x-python",
   "name": "python",
   "nbconvert_exporter": "python",
   "pygments_lexer": "ipython3",
   "version": "3.9.1"
  }
 },
 "nbformat": 4,
 "nbformat_minor": 5
}
